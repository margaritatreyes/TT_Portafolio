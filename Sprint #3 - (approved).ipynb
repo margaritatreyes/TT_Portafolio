{
 "cells": [
  {
   "cell_type": "markdown",
   "id": "dc87e692",
   "metadata": {},
   "source": [
    "¡Hola Joselyn! Como te va?\n",
    "\n",
    "Mi nombre es Facundo Lozano! Un gusto conocerte, seré tu revisor en este proyecto.\n",
    "\n",
    "A continuación un poco sobre la modalidad de revisión que usaremos:\n",
    "\n",
    "Cuando enccuentro un error por primera vez, simplemente lo señalaré, te dejaré encontrarlo y arreglarlo tú cuenta. Además, a lo largo del texto iré haciendo algunas observaciones sobre mejora en tu código y también haré comentarios sobre tus percepciones sobre el tema. Pero si aún no puedes realizar esta tarea, te daré una pista más precisa en la próxima iteración y también algunos ejemplos prácticos. Estaré abierto a comentarios y discusiones sobre el tema.\n",
    "\n",
    "Encontrará mis comentarios a continuación: **no los mueva, modifique ni elimine**.\n",
    "\n",
    "Puedes encontrar mis comentarios en cuadros verdes, amarillos o rojos como este:\n",
    "\n",
    "<div class=\"alert alert-block alert-success\">\n",
    "<b>Comentario del revisor.</b> <a class=\"tocSkip\"></a>\n",
    "\n",
    "Exito. Todo se ha hecho de forma exitosa.\n",
    "</div>\n",
    "\n",
    "<div class=\"alert alert-block alert-warning\">\n",
    "<b>Comentario del revisor.</b> <a class=\"tocSkip\"></a>\n",
    "\n",
    "Observación. Algunas recomendaciones.\n",
    "</div>\n",
    "\n",
    "<div class=\"alert alert-block alert-danger\">\n",
    "\n",
    "<b>Comentario del revisor.</b> <a class=\"tocSkip\"></a>\n",
    "\n",
    "Necesita arreglos. Este apartado necesita algunas correcciones. El trabajo no puede ser aceptado con comentarios rojos. \n",
    "</div>\n",
    "\n",
    "Puedes responder utilizando esto:\n",
    "\n",
    "<div class=\"alert alert-block alert-info\">\n",
    "<b>Respuesta de estudiante.</b> <a class=\"tocSkip\"></a>\n",
    "</div>"
   ]
  },
  {
   "cell_type": "markdown",
   "id": "3Xg_RQfnafXz",
   "metadata": {
    "id": "3Xg_RQfnafXz"
   },
   "source": [
    "# ¡Llena ese carrito!"
   ]
  },
  {
   "cell_type": "markdown",
   "id": "03ea1752",
   "metadata": {},
   "source": [
    "<div class=\"alert alert-block alert-success\">\n",
    "<b>Review General. (Iteración 1) </b> <a class=\"tocSkip\"></a>\n",
    "\n",
    "Joselyn, quería tomarme este tiempo al inicio de tu proyecto para comentarte mis apreciaciones generales de esta iteración de tu entrega.\n",
    "\n",
    "Siempre me gusta comenzar dando la bienvenida al mundo de los datos a los estudiantes, te deseo lo mejor y espero que consigas lograr tus objetivos. Personalmente me gusta brindar el siguiente consejo, \"Está bien equivocarse, es normal y es lo mejor que te puede pasar. Aprendemos de los errores y eso te hará mejor programadora ya que podrás descubrir cosas a medida que avances y son estas cosas las que te darán esa experiencia para ser una gran analista de datos.\"\n",
    "    \n",
    "Ahora si yendo a esta notebook.   Joselyn quiero felicitarte porque has tenido un gran desempeño a lo largo del trabajo, has resuelto con creces todos los problemas planteados y te has destecado por tu manejo sobre las herramientas, muy bien hecho! A la vez destaco tus conclusiones a lo largo del proyecto, has demostrado una gran comprensión de lo hecho y de lo obtenido. El proyecto está en condiciones de ser aprobado! Felicitaciones Joselyn!\n",
    "    \n",
    "Éxitos en tu camino dentro del mundo de los datos! \n",
    "    \n",
    "Saludos!"
   ]
  },
  {
   "cell_type": "markdown",
   "id": "mhIvmmkW414q",
   "metadata": {
    "id": "mhIvmmkW414q"
   },
   "source": [
    "# Introducción\n",
    "\n",
    "Instacart es una plataforma de entregas de comestibles donde la clientela puede registrar un pedido y hacer que se lo entreguen, similar a Uber Eats y Door Dash.\n",
    "El conjunto de datos que te hemos proporcionado tiene modificaciones del original. Redujimos el tamaño del conjunto para que tus cálculos se hicieran más rápido e introdujimos valores ausentes y duplicados. Tuvimos cuidado de conservar las distribuciones de los datos originales cuando hicimos los cambios.\n",
    "\n",
    "Debes completar tres pasos. Para cada uno de ellos, escribe una breve introducción que refleje con claridad cómo pretendes resolver cada paso, y escribe párrafos explicatorios que justifiquen tus decisiones al tiempo que avanzas en tu solución.  También escribe una conclusión que resuma tus hallazgos y elecciones.\n"
   ]
  },
  {
   "cell_type": "markdown",
   "id": "3MbyzpOQZ5Or",
   "metadata": {
    "id": "3MbyzpOQZ5Or"
   },
   "source": [
    "## Diccionario de datos\n",
    "\n",
    "Hay cinco tablas en el conjunto de datos, y tendrás que usarlas todas para hacer el preprocesamiento de datos y el análisis exploratorio de datos. A continuación se muestra un diccionario de datos que enumera las columnas de cada tabla y describe los datos que contienen.\n",
    "\n",
    "- `instacart_orders.csv`: cada fila corresponde a un pedido en la aplicación Instacart.\n",
    "    - `'order_id'`: número de ID que identifica de manera única cada pedido.\n",
    "    - `'user_id'`: número de ID que identifica de manera única la cuenta de cada cliente.\n",
    "    - `'order_number'`: el número de veces que este cliente ha hecho un pedido.\n",
    "    - `'order_dow'`: día de la semana en que se hizo el pedido (0 si es domingo).\n",
    "    - `'order_hour_of_day'`: hora del día en que se hizo el pedido.\n",
    "    - `'days_since_prior_order'`: número de días transcurridos desde que este cliente hizo su pedido anterior.\n",
    "- `products.csv`: cada fila corresponde a un producto único que pueden comprar los clientes.\n",
    "    - `'product_id'`: número ID que identifica de manera única cada producto.\n",
    "    - `'product_name'`: nombre del producto.\n",
    "    - `'aisle_id'`: número ID que identifica de manera única cada categoría de pasillo de víveres.\n",
    "    - `'department_id'`: número ID que identifica de manera única cada departamento de víveres.\n",
    "- `order_products.csv`: cada fila corresponde a un artículo pedido en un pedido.\n",
    "    - `'order_id'`: número de ID que identifica de manera única cada pedido.\n",
    "    - `'product_id'`: número ID que identifica de manera única cada producto.\n",
    "    - `'add_to_cart_order'`: el orden secuencial en el que se añadió cada artículo en el carrito.\n",
    "    - `'reordered'`: 0 si el cliente nunca ha pedido este producto antes, 1 si lo ha pedido.\n",
    "- `aisles.csv`\n",
    "    - `'aisle_id'`: número ID que identifica de manera única cada categoría de pasillo de víveres.\n",
    "    - `'aisle'`: nombre del pasillo.\n",
    "- `departments.csv`\n",
    "    - `'department_id'`: número ID que identifica de manera única cada departamento de víveres.\n",
    "    - `'department'`: nombre del departamento."
   ]
  },
  {
   "cell_type": "markdown",
   "id": "n3Ha_cNSZ8lK",
   "metadata": {
    "id": "n3Ha_cNSZ8lK"
   },
   "source": [
    "# Paso 1. Descripción de los datos\n",
    "\n",
    "Lee los archivos de datos (`/datasets/instacart_orders.csv`, `/datasets/products.csv`, `/datasets/aisles.csv`, `/datasets/departments.csv` y `/datasets/order_products.csv`) con `pd.read_csv()` usando los parámetros adecuados para leer los datos correctamente. Verifica la información para cada DataFrame creado.\n"
   ]
  },
  {
   "cell_type": "markdown",
   "id": "OmlQPLlyaAfR",
   "metadata": {
    "id": "OmlQPLlyaAfR"
   },
   "source": [
    "## Plan de solución\n",
    "\n",
    "Escribe aquí tu plan de solución para el Paso 1. Descripción de los datos."
   ]
  },
  {
   "cell_type": "markdown",
   "id": "b5029f23",
   "metadata": {},
   "source": [
    "<div class=\"alert alert-block alert-warning\"><b>Comentario del revisor. (Iteración 1) </b> <a class=\"tocSkip\"></a>\n",
    "    \n",
    "Recordemos escribir nuestro plan joselyn"
   ]
  },
  {
   "cell_type": "code",
   "execution_count": 1,
   "id": "fbf1adab",
   "metadata": {
    "id": "fbf1adab"
   },
   "outputs": [
    {
     "data": {
      "text/plain": [
       "'/home/jovyan/work/Sprint3'"
      ]
     },
     "execution_count": 1,
     "metadata": {},
     "output_type": "execute_result"
    }
   ],
   "source": [
    "# Importarmos librerías\n",
    "# Pandas para leer datos y os(para buscar mi directorio).\n",
    "\n",
    "import pandas as pd     \n",
    "import os                            \n",
    "os.getcwd()                          "
   ]
  },
  {
   "cell_type": "code",
   "execution_count": 2,
   "id": "ad36396d",
   "metadata": {
    "id": "ad36396d"
   },
   "outputs": [],
   "source": [
    "# Leemos el conjuntos de datos y le asignamos un nombre = variable.\n",
    "# Utilizo pd.read_csv para leerlo y especifico el delimitador el cual en este caso es (;)\n",
    "# El ultimo archivo era un zip, asi que fue necesario descomprimirlo para que pd.read_csv logre leerlo.\n",
    "\n",
    "df_orders           = pd.read_csv('/home/jovyan/work/Sprint3/instacart_orders.csv', delimiter=';')\n",
    "df_products         = pd.read_csv('/home/jovyan/work/Sprint3/products.csv',delimiter=';')\n",
    "df_departments      = pd.read_csv('/home/jovyan/work/Sprint3/departments.csv',delimiter=';')\n",
    "df_aisles           = pd.read_csv('/home/jovyan/work/Sprint3/aisles.csv',delimiter=';')\n",
    "df_order_products   = pd.read_csv('/home/jovyan/work/Sprint3/order_products.csv',delimiter=';')      "
   ]
  },
  {
   "cell_type": "markdown",
   "id": "049af717",
   "metadata": {},
   "source": [
    "<div class=\"alert alert-block alert-success\"><b>Comentario del revisor. (Iteración 1) </b> <a class=\"tocSkip\"></a>\n",
    "    \n",
    "Excelente! Buena decisión la de importar las librerías y cargar los datos por separado,. Sigamos!"
   ]
  },
  {
   "cell_type": "code",
   "execution_count": 3,
   "id": "ad6a1efa",
   "metadata": {
    "id": "ad6a1efa"
   },
   "outputs": [
    {
     "name": "stdout",
     "output_type": "stream",
     "text": [
      "Información de df_orders:\n",
      "\n",
      "<class 'pandas.core.frame.DataFrame'>\n",
      "RangeIndex: 478967 entries, 0 to 478966\n",
      "Data columns (total 6 columns):\n",
      " #   Column                  Non-Null Count   Dtype  \n",
      "---  ------                  --------------   -----  \n",
      " 0   order_id                478967 non-null  int64  \n",
      " 1   user_id                 478967 non-null  int64  \n",
      " 2   order_number            478967 non-null  int64  \n",
      " 3   order_dow               478967 non-null  int64  \n",
      " 4   order_hour_of_day       478967 non-null  int64  \n",
      " 5   days_since_prior_order  450148 non-null  float64\n",
      "dtypes: float64(1), int64(5)\n",
      "memory usage: 21.9 MB\n"
     ]
    }
   ],
   "source": [
    "# Mostramos información del DataFrame\n",
    "print(\"Información de df_orders:\")\n",
    "print()\n",
    "df_orders.info()"
   ]
  },
  {
   "cell_type": "code",
   "execution_count": 4,
   "id": "5130e05e",
   "metadata": {
    "id": "5130e05e"
   },
   "outputs": [
    {
     "name": "stdout",
     "output_type": "stream",
     "text": [
      "Información de df_products:\n",
      "\n",
      "<class 'pandas.core.frame.DataFrame'>\n",
      "RangeIndex: 49694 entries, 0 to 49693\n",
      "Data columns (total 4 columns):\n",
      " #   Column         Non-Null Count  Dtype \n",
      "---  ------         --------------  ----- \n",
      " 0   product_id     49694 non-null  int64 \n",
      " 1   product_name   48436 non-null  object\n",
      " 2   aisle_id       49694 non-null  int64 \n",
      " 3   department_id  49694 non-null  int64 \n",
      "dtypes: int64(3), object(1)\n",
      "memory usage: 1.5+ MB\n"
     ]
    }
   ],
   "source": [
    "# Mostramos información del DataFrame\n",
    "print(\"Información de df_products:\")\n",
    "print()\n",
    "df_products.info()"
   ]
  },
  {
   "cell_type": "code",
   "execution_count": 5,
   "id": "59e2090f",
   "metadata": {
    "id": "59e2090f"
   },
   "outputs": [
    {
     "name": "stdout",
     "output_type": "stream",
     "text": [
      "Información de df_departments:\n",
      "\n",
      "<class 'pandas.core.frame.DataFrame'>\n",
      "RangeIndex: 21 entries, 0 to 20\n",
      "Data columns (total 2 columns):\n",
      " #   Column         Non-Null Count  Dtype \n",
      "---  ------         --------------  ----- \n",
      " 0   department_id  21 non-null     int64 \n",
      " 1   department     21 non-null     object\n",
      "dtypes: int64(1), object(1)\n",
      "memory usage: 464.0+ bytes\n"
     ]
    }
   ],
   "source": [
    "# Mostramos información del DataFrame\n",
    "print(\"Información de df_departments:\")\n",
    "print()\n",
    "df_departments.info()"
   ]
  },
  {
   "cell_type": "code",
   "execution_count": 6,
   "id": "d8370c05",
   "metadata": {
    "id": "d8370c05"
   },
   "outputs": [
    {
     "name": "stdout",
     "output_type": "stream",
     "text": [
      "Información de df_aisles:\n",
      "\n",
      "<class 'pandas.core.frame.DataFrame'>\n",
      "RangeIndex: 134 entries, 0 to 133\n",
      "Data columns (total 2 columns):\n",
      " #   Column    Non-Null Count  Dtype \n",
      "---  ------    --------------  ----- \n",
      " 0   aisle_id  134 non-null    int64 \n",
      " 1   aisle     134 non-null    object\n",
      "dtypes: int64(1), object(1)\n",
      "memory usage: 2.2+ KB\n"
     ]
    }
   ],
   "source": [
    "# Mostramos información del DataFrame\n",
    "print(\"Información de df_aisles:\")\n",
    "print()\n",
    "df_aisles.info()"
   ]
  },
  {
   "cell_type": "code",
   "execution_count": 7,
   "id": "6fc81694",
   "metadata": {
    "id": "6fc81694"
   },
   "outputs": [
    {
     "name": "stdout",
     "output_type": "stream",
     "text": [
      "Información de df_order_products:\n",
      "\n",
      "<class 'pandas.core.frame.DataFrame'>\n",
      "RangeIndex: 4545007 entries, 0 to 4545006\n",
      "Data columns (total 4 columns):\n",
      " #   Column             Dtype  \n",
      "---  ------             -----  \n",
      " 0   order_id           int64  \n",
      " 1   product_id         int64  \n",
      " 2   add_to_cart_order  float64\n",
      " 3   reordered          int64  \n",
      "dtypes: float64(1), int64(3)\n",
      "memory usage: 138.7 MB\n"
     ]
    }
   ],
   "source": [
    "# Mostramos información del DataFrame\n",
    "print(\"Información de df_order_products:\")\n",
    "print()\n",
    "df_order_products.info()\n"
   ]
  },
  {
   "cell_type": "markdown",
   "id": "e6fb4301",
   "metadata": {},
   "source": [
    "<div class=\"alert alert-block alert-success\"><b>Comentario del revisor. (Iteración 1) </b> <a class=\"tocSkip\"></a>\n",
    "    \n",
    "Muy bien hecho! Excelente la visualización de los dataframes y la exploración de los datos mediante el método **.info()**. Sigamos!"
   ]
  },
  {
   "cell_type": "markdown",
   "id": "t75BD19oaR5f",
   "metadata": {
    "id": "t75BD19oaR5f"
   },
   "source": [
    "## Conclusiones\n",
    "\n",
    "Escribe aquí tus conclusiones intermedias sobre el Paso 1. Descripción de los datos.\n",
    "\n",
    "\n",
    "##### En el Paso 1 \"Descripcion de los Datos\":\n",
    "\n",
    "1. Hemos leído 5 archivos de datos utilizando pd.read_csv(). Para su correcta lectura se descomprio todos los archivos con zip. Tambien se identifico el delimitador para la correcta lectura de los archivos.\n",
    "\n",
    "2. Hemos verificado la información de cada dataframe utilizando el método info(). Y como lo hemos aprendido en el curso con info no hubo la necesidad de usar print(). \n",
    "\n",
    "\n",
    "Conclusiones intermedias:\n",
    "\n",
    "1. Todos los archivos CSV fueron leídos correctamente sin errores aparentes. Se uso os.getcwd()para obtener evitar problemas con la ruta del archivo. \n",
    "\n",
    "2. Al revisar la información de cada DataFrame con info(), podemos ver la estructura de los datos. incluidos los tipos de datos de las columnas y la cantidad de valores no nulos. Debido a esto nos hemos dado cuenta que algunos dataframes como 'orders' 'y products' tienen datos ausentes. Y que algunas columnas no tienen el correcto tipo de data.\n",
    "\n",
    "3. Ahora que hemos cargado los datos, podemos comenzar a explorarlos más a fondo para comprender mejor su contenido y estructura. Lo mas probable es que toque corregir los datos y prepararlos para un análisis más avanzado (ejemplo: análisis descriptivo y/o visual).\n",
    "\n"
   ]
  },
  {
   "cell_type": "markdown",
   "id": "27023b40",
   "metadata": {},
   "source": [
    "<div class=\"alert alert-block alert-success\"><b>Comentario del revisor. (Iteración 1) </b> <a class=\"tocSkip\"></a>\n",
    "    \n",
    "Excelente conclusión de lo impementado Joselyn!"
   ]
  },
  {
   "cell_type": "markdown",
   "id": "d444427e",
   "metadata": {
    "id": "8RJHqxVmaVsF"
   },
   "source": [
    "# Paso 2. Preprocesamiento de los datos\n",
    "\n",
    "Preprocesa los datos de la siguiente manera:\n",
    "\n",
    "- Verifica y corrige los tipos de datos (por ejemplo, asegúrate de que las columnas de ID sean números enteros).\n",
    "- Identifica y completa los valores ausentes.\n",
    "- Identifica y elimina los valores duplicados.\n",
    "\n",
    "Asegúrate de explicar qué tipos de valores ausentes y duplicados encontraste, cómo los completaste o eliminaste y por qué usaste esos métodos. ¿Por qué crees que estos valores ausentes y duplicados pueden haber estado presentes en el conjunto de datos?"
   ]
  },
  {
   "cell_type": "markdown",
   "id": "p6poABZQaZYb",
   "metadata": {
    "id": "p6poABZQaZYb"
   },
   "source": [
    "## Plan de solución\n",
    "\n",
    "Escribe aquí tu plan para el Paso 2. Preprocesamiento de los datos.\n",
    "\n",
    "\n",
    "##### En el Paso 2. Preprocesamiento de los datos:\n",
    "\n",
    "1. Para preprocesar los datos, primero identificaremos y trataremos los valores ausentes y luego abordaremos los valores duplicados en cada DataFrame.\n",
    "\n"
   ]
  },
  {
   "cell_type": "markdown",
   "id": "07357848-dc64-4156-9cc3-01ff4365226d",
   "metadata": {
    "id": "07357848-dc64-4156-9cc3-01ff4365226d"
   },
   "source": [
    "## Encuentra y elimina los valores duplicados (y describe cómo tomaste tus decisiones)."
   ]
  },
  {
   "cell_type": "markdown",
   "id": "f179f0a9",
   "metadata": {
    "id": "f179f0a9"
   },
   "source": [
    "### `orders` data frame"
   ]
  },
  {
   "cell_type": "code",
   "execution_count": 8,
   "id": "b99297a5-405a-463d-8535-9adc3da4ad74",
   "metadata": {
    "id": "b99297a5-405a-463d-8535-9adc3da4ad74"
   },
   "outputs": [
    {
     "name": "stdout",
     "output_type": "stream",
     "text": [
      "Cantidad de filas duplicadas en el dataframe df_orders: 15\n",
      "\n",
      "        order_id  user_id  order_number  order_dow  order_hour_of_day  \\\n",
      "145574    794638    50898            24          3                  2   \n",
      "223105   2160484   107525            16          3                  2   \n",
      "230807   1918001   188546            14          3                  2   \n",
      "266232   1782114   106752             1          3                  2   \n",
      "273805   1112182   202304            84          3                  2   \n",
      "284038   2845099    31189            11          3                  2   \n",
      "311713   1021560    53767             3          3                  2   \n",
      "321100    408114    68324             4          3                  2   \n",
      "323900   1919531   191501            32          3                  2   \n",
      "345917   2232988    82565             1          3                  2   \n",
      "371905    391768    57671            19          3                  2   \n",
      "394347    467134    63189            21          3                  2   \n",
      "411408   1286742   183220            48          3                  2   \n",
      "415163   2282673    86751            49          3                  2   \n",
      "441599   2125197    14050            48          3                  2   \n",
      "\n",
      "        days_since_prior_order  \n",
      "145574                     2.0  \n",
      "223105                    30.0  \n",
      "230807                    16.0  \n",
      "266232                     NaN  \n",
      "273805                     6.0  \n",
      "284038                     7.0  \n",
      "311713                     9.0  \n",
      "321100                    18.0  \n",
      "323900                     7.0  \n",
      "345917                     NaN  \n",
      "371905                    10.0  \n",
      "394347                     2.0  \n",
      "411408                     4.0  \n",
      "415163                     2.0  \n",
      "441599                     3.0  \n"
     ]
    }
   ],
   "source": [
    "# Revisa si hay pedidos duplicados\n",
    "print('Cantidad de filas duplicadas en el dataframe df_orders:', df_orders.duplicated().sum())\n",
    "print()\n",
    "print(df_orders[df_orders.duplicated()])\n",
    "\n"
   ]
  },
  {
   "cell_type": "markdown",
   "id": "PEkwUX_gvt5A",
   "metadata": {
    "id": "PEkwUX_gvt5A"
   },
   "source": [
    "¿Tienes líneas duplicadas? Si sí, ¿qué tienen en común?\n",
    "\n",
    "1. .duplicated() nos indica que tenemos 15 filas duplicadas.\n",
    "\n",
    "2. Las filas duplicadas tienen en común los siguientes valores: \n",
    "    1. En la columna 'order_dow' todas tienen el valor 3. (Miercoles)\n",
    "    2. En la columna 'order_hour_of_day' todas tienen el valor 2. (2am)\n",
    "    \n",
    "3. Talvez y algun miercoles a las 2pm ocurrio algun problema con el sistema y produjo este duplicado en ciertas ordenes."
   ]
  },
  {
   "cell_type": "code",
   "execution_count": 9,
   "id": "0d44de5d",
   "metadata": {
    "id": "0d44de5d"
   },
   "outputs": [
    {
     "name": "stdout",
     "output_type": "stream",
     "text": [
      "        order_id  user_id  order_number  order_dow  order_hour_of_day  \\\n",
      "4838     2766110   162084            41          3                  2   \n",
      "5156     2190225   138285            18          3                  2   \n",
      "15506     553049    58599            13          3                  2   \n",
      "18420     382357   120200            19          3                  2   \n",
      "24691     690242    77357             2          3                  2   \n",
      "...          ...      ...           ...        ...                ...   \n",
      "457013   3384021    14881             6          3                  2   \n",
      "458816    910166   164782            18          3                  2   \n",
      "459635   1680532   106435             6          3                  2   \n",
      "468324    222962    54979            59          3                  2   \n",
      "477526   2592344    46860            38          3                  2   \n",
      "\n",
      "        days_since_prior_order  \n",
      "4838                      16.0  \n",
      "5156                      11.0  \n",
      "15506                      7.0  \n",
      "18420                     11.0  \n",
      "24691                      9.0  \n",
      "...                        ...  \n",
      "457013                    30.0  \n",
      "458816                     4.0  \n",
      "459635                    21.0  \n",
      "468324                     3.0  \n",
      "477526                     3.0  \n",
      "\n",
      "[121 rows x 6 columns]\n"
     ]
    }
   ],
   "source": [
    "# Basándote en tus hallazgos, verifica todos los pedidos que se hicieron el miércoles a las 2:00 a.m.\n",
    "pedidos_miercoles_2am = df_orders[(df_orders['order_dow'] == 3) & (df_orders['order_hour_of_day'] == 2)]\n",
    "print(pedidos_miercoles_2am)\n",
    "\n"
   ]
  },
  {
   "cell_type": "markdown",
   "id": "2fc6a435",
   "metadata": {},
   "source": [
    "<div class=\"alert alert-block alert-success\"><b>Comentario del revisor. (Iteración 1) </b> <a class=\"tocSkip\"></a>\n",
    "    \n",
    "    \n",
    "Muy bien! Buena forma para verificar la cantidad de duplicados. A la vez excelente forma de corroborar sobre los valores específicos de **order_dow**. Bien hecho, sigamos!"
   ]
  },
  {
   "cell_type": "markdown",
   "id": "vu2OWyoqwOx5",
   "metadata": {
    "id": "vu2OWyoqwOx5"
   },
   "source": [
    "¿Qué sugiere este resultado?\n",
    "\n",
    "1. El resultado muestran que 121 pedidos que se hicieron el miércoles a las 2:00 a.m. \n",
    "3. Es posible que las filas duplicadas sean registros repetidos de pedidos que ocurrieron algún miércoles.\n",
    "3. El resultado sugiere que estos duplicados podrían eliminarse con seguridad ya que estos representan registros redundantes."
   ]
  },
  {
   "cell_type": "code",
   "execution_count": 10,
   "id": "480563c7",
   "metadata": {
    "id": "480563c7"
   },
   "outputs": [],
   "source": [
    "# Elimina los pedidos duplicados\n",
    "# La funcion a usarse es .drop_duplicates. Y se agrega el argumento inplace=True para que los cambios se apliquen directamente al dataframe original. \n",
    "df_orders.drop_duplicates(inplace=True)"
   ]
  },
  {
   "cell_type": "code",
   "execution_count": 11,
   "id": "0b2396a2",
   "metadata": {
    "id": "0b2396a2"
   },
   "outputs": [
    {
     "name": "stdout",
     "output_type": "stream",
     "text": [
      "Cantidad de filas duplicadas en el dataframe df_orders despues de aplicar drop_duplicates: 0\n",
      "Empty DataFrame\n",
      "Columns: [order_id, user_id, order_number, order_dow, order_hour_of_day, days_since_prior_order]\n",
      "Index: []\n"
     ]
    }
   ],
   "source": [
    "# Vuelve a verificar si hay filas duplicadas\n",
    "print('Cantidad de filas duplicadas en el dataframe df_orders despues de aplicar drop_duplicates:', df_orders.duplicated().sum())\n",
    "print(df_orders[df_orders.duplicated()])"
   ]
  },
  {
   "cell_type": "code",
   "execution_count": 12,
   "id": "f6113ef1",
   "metadata": {
    "id": "f6113ef1"
   },
   "outputs": [
    {
     "name": "stdout",
     "output_type": "stream",
     "text": [
      "Cantidad de filas duplicadas en df_orders['order_id']: 0\n"
     ]
    }
   ],
   "source": [
    "# Vuelve a verificar únicamente si hay IDs duplicados de pedidos\n",
    "print(\"Cantidad de filas duplicadas en df_orders['order_id']:\", df_orders['order_id'].duplicated().sum())\n"
   ]
  },
  {
   "cell_type": "markdown",
   "id": "fdfca6d6",
   "metadata": {},
   "source": [
    "<div class=\"alert alert-block alert-success\"><b>Comentario del revisor. (Iteración 1) </b> <a class=\"tocSkip\"></a>\n",
    "    \n",
    "Nuevamente bien hecho al eliminar los duplicados! Una buena práctica luego de eliminar valores duplicados es la de aplicar el método **reset_index()**, te invito a que en casos futuros puedas implementarlo. A la vez excelente corroboración de duplicados nuevamente."
   ]
  },
  {
   "cell_type": "markdown",
   "id": "45e6bc46",
   "metadata": {
    "id": "45e6bc46"
   },
   "source": [
    "### `products` data frame"
   ]
  },
  {
   "cell_type": "markdown",
   "id": "5e8905ae",
   "metadata": {
    "id": "5e8905ae"
   },
   "source": [
    "Describe brevemente tus hallazgos y lo que hiciste con ellos.\n",
    "\n",
    "#### Descripción:\n",
    "1. Los hallazgos mostraban 15 filas duplicadas en df_orders, específicamente en la combinación de las columnas 'order_id', 'user_id', 'order_number', 'order_dow', 'order_hour_of_day' y 'days_since_prior_order'.\n",
    "2. Para manejar estos duplicados, se utilizó el método drop_duplicates() en df_orders con el argumento inplace=True, lo que eliminó las filas duplicadas directamente en el DataFrame original.\n",
    "3. Luego, se verificó nuevamente si había duplicados en la columna 'order_id' para confirmar que los duplicados se eliminaron con éxito.\n",
    "\n"
   ]
  },
  {
   "cell_type": "code",
   "execution_count": 13,
   "id": "5f526b5b-8175-46fa-a0fd-441767d50e64",
   "metadata": {
    "id": "5f526b5b-8175-46fa-a0fd-441767d50e64"
   },
   "outputs": [
    {
     "name": "stdout",
     "output_type": "stream",
     "text": [
      "Se verifica que en df_products hay 0 duplicados.\n"
     ]
    }
   ],
   "source": [
    "# Verifica si hay filas totalmente duplicadas\n",
    "\n",
    "print(\"Se verifica que en df_products hay\", df_products.duplicated().sum(), \"duplicados.\")\n",
    "\n"
   ]
  },
  {
   "cell_type": "code",
   "execution_count": 14,
   "id": "88daa4f4",
   "metadata": {
    "id": "88daa4f4"
   },
   "outputs": [
    {
     "name": "stdout",
     "output_type": "stream",
     "text": [
      "Se verifica que en df_products['department_id'] hay 49673 duplicados.\n"
     ]
    }
   ],
   "source": [
    "# Revisa únicamente si hay ID de departamentos duplicados\n",
    "print(\"Se verifica que en df_products['department_id'] hay\", df_products['department_id'].duplicated().sum(), 'duplicados.')\n",
    "\n",
    "#No se procede ha hacer nada porque es normal que se repitan los departamentos\n"
   ]
  },
  {
   "cell_type": "markdown",
   "id": "13792448",
   "metadata": {},
   "source": [
    "<div class=\"alert alert-block alert-success\"><b>Comentario del revisor. (Iteración 1) </b> <a class=\"tocSkip\"></a>\n",
    "    \n",
    "Excelente nuevamente la corroboración de duplicados! Y luego bien corroborado sobre la feature especifica de **department_id.**"
   ]
  },
  {
   "cell_type": "code",
   "execution_count": 15,
   "id": "c773f0bf",
   "metadata": {
    "id": "c773f0bf"
   },
   "outputs": [
    {
     "name": "stdout",
     "output_type": "stream",
     "text": [
      "Se verifica que en df_products['product_name'] hay 1361 nombres duplicados de productos.\n",
      "       product_id                                     product_name  aisle_id  \\\n",
      "71             72                                              NaN       100   \n",
      "109           110                                              NaN       100   \n",
      "296           297                                              NaN       100   \n",
      "416           417                                              NaN       100   \n",
      "436           437                                              NaN       100   \n",
      "...           ...                                              ...       ...   \n",
      "49689       49690                    HIGH PERFORMANCE ENERGY DRINK        64   \n",
      "49690       49691                    ORIGINAL PANCAKE & WAFFLE MIX       130   \n",
      "49691       49692  ORGANIC INSTANT OATMEAL LIGHT MAPLE BROWN SUGAR       130   \n",
      "49692       49693                           SPRING WATER BODY WASH       127   \n",
      "49693       49694                          BURRITO- STEAK & CHEESE        38   \n",
      "\n",
      "       department_id  \n",
      "71                21  \n",
      "109               21  \n",
      "296               21  \n",
      "416               21  \n",
      "436               21  \n",
      "...              ...  \n",
      "49689              7  \n",
      "49690             14  \n",
      "49691             14  \n",
      "49692             11  \n",
      "49693              1  \n",
      "\n",
      "[1361 rows x 4 columns]\n"
     ]
    }
   ],
   "source": [
    "# Convierte los nombres a letras mayúsculas para compararlos mejor)\n",
    "df_products['product_name']= df_products['product_name'].str.upper()\n",
    "\n",
    "# Revisa únicamente si hay nombres duplicados de productos\n",
    "print(\"Se verifica que en df_products['product_name'] hay\", df_products['product_name'].duplicated().sum(), 'nombres duplicados de productos.')\n",
    "print(df_products[df_products['product_name'].duplicated()])\n",
    "\n",
    "# Existen valor duplicados entre estos valores ausentes y valores no ausentes. Lo ideal seria verificar si los valores ausentes se pueden rellenar,\n",
    "# Pero esperaremos hasta el final del ejercicio para poder trabajar con los valores ausentes y no dañar los resultados. Los valores no ausentes se deberian eliminar inmediatamente\n"
   ]
  },
  {
   "cell_type": "code",
   "execution_count": 16,
   "id": "01efd02e",
   "metadata": {
    "id": "01efd02e"
   },
   "outputs": [
    {
     "name": "stdout",
     "output_type": "stream",
     "text": [
      "Se verifica que en df_products['product_name'] hay 104 nombres duplicados de productos no faltantes.\n",
      "       product_id                                     product_name  aisle_id  \\\n",
      "2058         2059                                  BIOTIN 1000 MCG        47   \n",
      "5455         5456                 GREEN TEA WITH GINSENG AND HONEY        96   \n",
      "5558         5559                           CREAM OF MUSHROOM SOUP        69   \n",
      "7558         7559                        CINNAMON ROLLS WITH ICING       105   \n",
      "9037         9038                           AMERICAN CHEESE SLICES        21   \n",
      "...           ...                                              ...       ...   \n",
      "49689       49690                    HIGH PERFORMANCE ENERGY DRINK        64   \n",
      "49690       49691                    ORIGINAL PANCAKE & WAFFLE MIX       130   \n",
      "49691       49692  ORGANIC INSTANT OATMEAL LIGHT MAPLE BROWN SUGAR       130   \n",
      "49692       49693                           SPRING WATER BODY WASH       127   \n",
      "49693       49694                          BURRITO- STEAK & CHEESE        38   \n",
      "\n",
      "       department_id  \n",
      "2058              11  \n",
      "5455              20  \n",
      "5558              15  \n",
      "7558              13  \n",
      "9037              16  \n",
      "...              ...  \n",
      "49689              7  \n",
      "49690             14  \n",
      "49691             14  \n",
      "49692             11  \n",
      "49693              1  \n",
      "\n",
      "[104 rows x 4 columns]\n",
      "<class 'pandas.core.frame.DataFrame'>\n",
      "Int64Index: 49590 entries, 0 to 49687\n",
      "Data columns (total 4 columns):\n",
      " #   Column         Non-Null Count  Dtype \n",
      "---  ------         --------------  ----- \n",
      " 0   product_id     49590 non-null  int64 \n",
      " 1   product_name   48332 non-null  object\n",
      " 2   aisle_id       49590 non-null  int64 \n",
      " 3   department_id  49590 non-null  int64 \n",
      "dtypes: int64(3), object(1)\n",
      "memory usage: 1.9+ MB\n"
     ]
    }
   ],
   "source": [
    "# Revisa si hay nombres duplicados de productos no faltantes.\n",
    "\n",
    "print (\"Se verifica que en df_products['product_name'] hay\", df_products[(~df_products['product_name'].isna()) & (df_products['product_name'].duplicated())]['product_name'].count(), \"nombres duplicados de productos no faltantes.\")\n",
    "print (df_products[(~df_products['product_name'].isna()) & (df_products['product_name'].duplicated())])\n",
    "\n",
    "# Eliminar nombres duplicados de productos no faltantes.\n",
    "df_products = df_products.drop(df_products[(~df_products['product_name'].isna()) & (df_products['product_name'].duplicated())].index)\n",
    "\n",
    "#Revisar si se eliminaron con exito las filas duplicadas\n",
    "df_products.info()\n"
   ]
  },
  {
   "cell_type": "markdown",
   "id": "0a0c32c1",
   "metadata": {},
   "source": [
    "<div class=\"alert alert-block alert-success\"><b>Comentario del revisor. (Iteración 1) </b> <a class=\"tocSkip\"></a>\n",
    "    \n",
    "Aquí nuevamente el proceso es correcto, hemos normalizado los nombres para luego corroborar los valores duplicados, bien hecho! Luego has realizado el fitlrado correspondiente para ver los duplicados sobre productos no faltantes, has llegado a los valores esperados!"
   ]
  },
  {
   "cell_type": "markdown",
   "id": "9da8d293",
   "metadata": {
    "id": "9da8d293"
   },
   "source": [
    "Describe brevemente tus hallazgos y lo que hiciste con ellos.\n",
    "\n",
    "#### Hallazgos \n",
    "1. Los hallazgos muestran que no hay filas totalmente duplicadas en el DataFrame df_products, ya que el resultado de df_products.duplicated().sum() es 0.\n",
    "\n",
    "2. Sin embargo, parece haber duplicados en la df_products['department_id'], ya que el resultado de nos muestra 49673. Esto sugiere que hay múltiples productos que pertenecen al mismo departamento, lo cual es esperado, ya que varios productos pueden estar en la misma categoría o departamento.\n",
    "\n",
    "3. Por ultimo, en la columna df_products['product name'] encontre 1361 nombres de productos duplicados en total. Al convertir los nombres de los productos a mayúsculas y volver a verificar los duplicados, descubri que existen 104 nombres duplicados de productos no faltantes. Para manejar estos productos, primero los identifique por medio de un filtrado con 2 condiciones. Luego, elimine las filas que contenían estos nombres duplicados. Después de eliminar los duplicados, verifique la información actualizada del DataFrame y observe que ahora tengo 49590 filas en lugar de 49694, lo que significa que se eliminaron con éxito las filas duplicadas con valores no faltantes.\n",
    "\n",
    "\n"
   ]
  },
  {
   "cell_type": "markdown",
   "id": "3a068a80",
   "metadata": {},
   "source": [
    "<div class=\"alert alert-block alert-success\"><b>Comentario del revisor. (Iteración 1) </b> <a class=\"tocSkip\"></a>\n",
    "    \n",
    "Otra vez hallazgos que respaldan lo aplicado y obtenido, muy bien Joselyn!"
   ]
  },
  {
   "cell_type": "markdown",
   "id": "60f30db1",
   "metadata": {
    "id": "60f30db1"
   },
   "source": [
    "### `departments` data frame"
   ]
  },
  {
   "cell_type": "code",
   "execution_count": 17,
   "id": "fb410ad4-0fbf-4b80-bb09-23fdea79afe3",
   "metadata": {
    "id": "fb410ad4-0fbf-4b80-bb09-23fdea79afe3"
   },
   "outputs": [
    {
     "name": "stdout",
     "output_type": "stream",
     "text": [
      "Se verifica que en df_departments hay 0 filas duplicadas.\n"
     ]
    }
   ],
   "source": [
    "# Revisa si hay filas totalmente duplicadas\n",
    "print(\"Se verifica que en df_departments hay\", df_departments.duplicated().sum(), \"filas duplicadas.\")\n"
   ]
  },
  {
   "cell_type": "code",
   "execution_count": 18,
   "id": "332b12bb",
   "metadata": {
    "id": "332b12bb"
   },
   "outputs": [
    {
     "name": "stdout",
     "output_type": "stream",
     "text": [
      "Se verifica que en df_departments['department_id'] hay 0  ids duplicados.\n"
     ]
    }
   ],
   "source": [
    "# Revisa únicamente si hay IDs duplicadas de productos\n",
    "print(\"Se verifica que en df_departments['department_id'] hay\", df_departments['department_id'].duplicated().sum(), \" ids duplicados.\")\n"
   ]
  },
  {
   "cell_type": "markdown",
   "id": "bd30d78e",
   "metadata": {
    "id": "bd30d78e"
   },
   "source": [
    "Describe brevemente tus hallazgos y lo que hiciste con ellos.\n",
    "\n",
    "1. Los hallazgos muestran que no hay filas totalmente duplicadas en el DataFrame df_departments, ya que el resultado de df_departments.duplicated().sum() es 0.\n",
    "\n",
    "2. Asi mismo, no se si es un error en la pregunta ya que en este DataFrame no existe columna con IDS duplicados de productos. Solo existen dos columnas \"departement_id\" y \"department\". En todo caso se verifico que no existen duplicados en la columna del \"department_id\", ya que el resultado de df_departments['department_id'].duplicated().sum() es 0."
   ]
  },
  {
   "cell_type": "markdown",
   "id": "1910f74a",
   "metadata": {},
   "source": [
    "<div class=\"alert alert-block alert-success\"><b>Comentario del revisor. (Iteración 1) </b> <a class=\"tocSkip\"></a>\n",
    "    \n",
    "Muy bien, excelente Joselyn! Nuevamente buena forma para verificar la cantidad de duplicados. En este caso no tenemos por lo que podemos seguir adelante."
   ]
  },
  {
   "cell_type": "markdown",
   "id": "889349c1",
   "metadata": {
    "id": "889349c1"
   },
   "source": [
    "### `aisles` data frame"
   ]
  },
  {
   "cell_type": "code",
   "execution_count": 19,
   "id": "9da89fb9-4679-40f5-ad0d-c34df753a3f8",
   "metadata": {
    "id": "9da89fb9-4679-40f5-ad0d-c34df753a3f8"
   },
   "outputs": [
    {
     "name": "stdout",
     "output_type": "stream",
     "text": [
      "Se verifica que en df_aisles hay 0 filas duplicadas.\n"
     ]
    }
   ],
   "source": [
    "# Revisa si hay filas totalmente duplicadas\n",
    "print(\"Se verifica que en df_aisles hay\", df_aisles.duplicated().sum(), \"filas duplicadas.\")\n"
   ]
  },
  {
   "cell_type": "code",
   "execution_count": 20,
   "id": "da7c2822",
   "metadata": {
    "id": "da7c2822"
   },
   "outputs": [
    {
     "name": "stdout",
     "output_type": "stream",
     "text": [
      "Se verifica que en df_aisles['aisle_id'] hay 0 ids duplicados.\n"
     ]
    }
   ],
   "source": [
    "# Revisa únicamente si hay IDs duplicadas de productos\n",
    "print(\"Se verifica que en df_aisles['aisle_id'] hay\", df_aisles['aisle_id'].duplicated().sum(), \"ids duplicados.\")\n"
   ]
  },
  {
   "cell_type": "markdown",
   "id": "ac63826f",
   "metadata": {
    "id": "ac63826f"
   },
   "source": [
    "Describe brevemente tus hallazgos y lo que hiciste con ellos.\n",
    "\n",
    "1. Los hallazgos muestran que no hay filas totalmente duplicadas en el DataFrame df_aisles, ya que el resultado de df_aisles.duplicated().sum() es 0.\n",
    "\n",
    "2. Asi mismo, no se si es un error en la pregunta ya que en este DataFrame no existe columna con IDS duplicados de productos. Solo existen dos columnas \"aisle_id\" y \"aisle\". En todo caso se verifico que no existen duplicados en la columna de \"aisle_id\", ya que el resultado de df_aisles['aisles_id'].duplicated().sum() es 0."
   ]
  },
  {
   "cell_type": "markdown",
   "id": "a621e4d0",
   "metadata": {},
   "source": [
    "<div class=\"alert alert-block alert-success\"><b>Comentario del revisor. (Iteración 1) </b> <a class=\"tocSkip\"></a>\n",
    "    \n",
    "Misma situación, bien hecho! "
   ]
  },
  {
   "cell_type": "markdown",
   "id": "274cd06a",
   "metadata": {
    "id": "274cd06a"
   },
   "source": [
    "### `order_products` data frame"
   ]
  },
  {
   "cell_type": "code",
   "execution_count": 21,
   "id": "52326689-84a8-4b8f-a881-7c68780f62c9",
   "metadata": {
    "id": "52326689-84a8-4b8f-a881-7c68780f62c9"
   },
   "outputs": [
    {
     "name": "stdout",
     "output_type": "stream",
     "text": [
      "Se verifica que en df_order_products hay 0 filas duplicadas.\n"
     ]
    }
   ],
   "source": [
    "# Revisa si hay filas totalmente duplicadas\n",
    "print(\"Se verifica que en df_order_products hay\", df_order_products.duplicated().sum(), \"filas duplicadas.\")\n"
   ]
  },
  {
   "cell_type": "code",
   "execution_count": 22,
   "id": "7b861391",
   "metadata": {
    "id": "7b861391"
   },
   "outputs": [
    {
     "name": "stdout",
     "output_type": "stream",
     "text": [
      "Se verifica que en df_order_products['order_id'] hay 4094961 ids de ordernes duplicados.\n",
      "Se verifica que en df_order_products['order_id'] hay 450046 ordenes unicas.\n",
      "<class 'pandas.core.frame.DataFrame'>\n",
      "RangeIndex: 4545007 entries, 0 to 4545006\n",
      "Data columns (total 4 columns):\n",
      " #   Column             Dtype  \n",
      "---  ------             -----  \n",
      " 0   order_id           int64  \n",
      " 1   product_id         int64  \n",
      " 2   add_to_cart_order  float64\n",
      " 3   reordered          int64  \n",
      "dtypes: float64(1), int64(3)\n",
      "memory usage: 138.7 MB\n"
     ]
    }
   ],
   "source": [
    "# Vuelve a verificar si hay cualquier otro duplicado engañoso\n",
    "print(\"Se verifica que en df_order_products['order_id'] hay\", df_order_products['order_id'].duplicated().sum(), \"ids de ordernes duplicados.\")\n",
    "print(\"Se verifica que en df_order_products['order_id'] hay\",  df_order_products['order_id'].nunique(), \"ordenes unicas.\")\n",
    "\n",
    "\n",
    "df_order_products.info()"
   ]
  },
  {
   "cell_type": "markdown",
   "id": "0b890492",
   "metadata": {
    "id": "0b890492"
   },
   "source": [
    "Describe brevemente tus hallazgos y lo que hiciste con ellos.\n",
    "1. Los hallazgos muestran que no hay filas totalmente duplicadas en el DataFrame df_order_products, ya que el resultado de df_order_products.duplicated().sum() es 0.\n",
    "\n",
    "2. Se logra visualizar que no hay ningun duplicado engañoso porque es normal que existan ids duplicados, ya que en una misma order pueden haber una gran variedad de productos. Usando nunique nos dimos cuenta que en total existieron 450,046 ordenes.\n",
    "\n"
   ]
  },
  {
   "cell_type": "markdown",
   "id": "ee75ecd6",
   "metadata": {},
   "source": [
    "<div class=\"alert alert-block alert-warning\"><b>Comentario del revisor. (Iteración 1) </b> <a class=\"tocSkip\"></a>\n",
    "    \n",
    "Hemos llegado a las conclusiones correctas Joselyn! La forma más acertada de poder corroborar los engañosos es corroborar los duplicados por el subset [\"order_id\",\"product_id\"], te invitoa investigar esto!"
   ]
  },
  {
   "cell_type": "markdown",
   "id": "1e46de76",
   "metadata": {
    "id": "1e46de76"
   },
   "source": [
    "## Encuentra y elimina los valores ausentes\n",
    "\n",
    "Al trabajar con valores duplicados, pudimos observar que también nos falta investigar valores ausentes:\n",
    "\n",
    "* La columna `'product_name'` de la tabla products.\n",
    "* La columna `'days_since_prior_order'` de la tabla orders.\n",
    "* La columna `'add_to_cart_order'` de la tabla order_productos."
   ]
  },
  {
   "cell_type": "markdown",
   "id": "c0aebd78",
   "metadata": {
    "id": "c0aebd78"
   },
   "source": [
    "### `products` data frame"
   ]
  },
  {
   "cell_type": "code",
   "execution_count": 23,
   "id": "fe4a8b0f",
   "metadata": {
    "id": "fe4a8b0f"
   },
   "outputs": [
    {
     "name": "stdout",
     "output_type": "stream",
     "text": [
      "En la columna 'product_name' del data frame products existen 1258 valores ausentes.\n",
      "       product_id product_name  aisle_id  department_id\n",
      "37             38          NaN       100             21\n",
      "71             72          NaN       100             21\n",
      "109           110          NaN       100             21\n",
      "296           297          NaN       100             21\n",
      "416           417          NaN       100             21\n",
      "...           ...          ...       ...            ...\n",
      "49552       49553          NaN       100             21\n",
      "49574       49575          NaN       100             21\n",
      "49640       49641          NaN       100             21\n",
      "49663       49664          NaN       100             21\n",
      "49668       49669          NaN       100             21\n",
      "\n",
      "[1258 rows x 4 columns]\n"
     ]
    }
   ],
   "source": [
    "# Encuentra los valores ausentes en la columna 'product_name'\n",
    "print(\"En la columna 'product_name' del data frame products existen\",df_products['product_name'].isna().sum(),\"valores ausentes.\")\n",
    "print(df_products[df_products['product_name'].isna()])"
   ]
  },
  {
   "cell_type": "markdown",
   "id": "446b4e30",
   "metadata": {},
   "source": [
    "<div class=\"alert alert-block alert-success\"><b>Comentario del revisor. (Iteración 1) </b> <a class=\"tocSkip\"></a>\n",
    "    \n",
    "Muy bien identificados los valores nulos sobre **products_name**. Felicitaciones, sigue así que lo estás haciendo perfecto!\n",
    "    "
   ]
  },
  {
   "cell_type": "markdown",
   "id": "-A6x1AbJhjkp",
   "metadata": {
    "id": "-A6x1AbJhjkp"
   },
   "source": [
    "Describe brevemente cuáles son tus hallazgos.\n",
    "1. En la columna 'product_name' del data frame products existen 1258, todos provenientes del pasillo 100 departamento 21."
   ]
  },
  {
   "cell_type": "code",
   "execution_count": 24,
   "id": "e96167bc",
   "metadata": {
    "id": "e96167bc"
   },
   "outputs": [
    {
     "name": "stdout",
     "output_type": "stream",
     "text": [
      "Existen 1258 filas con aisle_id = 100\n",
      "Es correcto, todos los nombres de productos ausentes están relacionados con el pasillo con ID 100\n"
     ]
    }
   ],
   "source": [
    "#  ¿Todos los nombres de productos ausentes están relacionados con el pasillo con ID 100?\n",
    "print(\"Existen\",(df_products[df_products['product_name'].isna()]['aisle_id'] == 100).sum(),\"filas con aisle_id = 100\")\n",
    "print(\"Es correcto, todos los nombres de productos ausentes están relacionados con el pasillo con ID 100\")\n",
    "\n",
    "#df_products.dropna(subset=['product_name'], inplace=True)"
   ]
  },
  {
   "cell_type": "markdown",
   "id": "WRpIfXRphpSL",
   "metadata": {
    "id": "WRpIfXRphpSL"
   },
   "source": [
    "Describe brevemente cuáles son tus hallazgos.\n",
    "1. Existen 1258 filas con aisle_id = 100. Es correcto, todos los nombres de productos ausentes están relacionados con el pasillo con ID 100."
   ]
  },
  {
   "cell_type": "code",
   "execution_count": 25,
   "id": "8fd0a541",
   "metadata": {
    "id": "8fd0a541"
   },
   "outputs": [
    {
     "name": "stdout",
     "output_type": "stream",
     "text": [
      "Existen 1258 filas con department_id = 21\n",
      "Es correcto, todos los nombres de productos ausentes están relacionados con el departamento con ID 21\n"
     ]
    }
   ],
   "source": [
    "# ¿Todos los nombres de productos ausentes están relacionados con el departamento con ID 21?\n",
    "print(\"Existen\",(df_products[df_products['product_name'].isna()]['department_id'] == 21).sum(),\"filas con department_id = 21\")\n",
    "print(\"Es correcto, todos los nombres de productos ausentes están relacionados con el departamento con ID 21\")"
   ]
  },
  {
   "cell_type": "markdown",
   "id": "qDpdYn1Fht_I",
   "metadata": {
    "id": "qDpdYn1Fht_I"
   },
   "source": [
    "Describe brevemente cuáles son tus hallazgos.\n",
    "1. Existen 1258 filas con department_id = 21. Es correcto, todos los nombres de productos ausentes están relacionados con el departamento con ID 21"
   ]
  },
  {
   "cell_type": "code",
   "execution_count": 26,
   "id": "325c3464",
   "metadata": {
    "id": "325c3464"
   },
   "outputs": [
    {
     "name": "stdout",
     "output_type": "stream",
     "text": [
      "Datos del pasillo con ID 100:\n",
      "aisle_id        100\n",
      "aisle       missing\n",
      "Name: 99, dtype: object\n",
      "\n",
      "Datos del departamento con ID 21:\n",
      "department_id         21\n",
      "department       missing\n",
      "Name: 20, dtype: object\n"
     ]
    }
   ],
   "source": [
    "# Usa las tablas department y aisle para revisar los datos del pasillo con ID 100 y el departamento con ID 21.\n",
    "\n",
    "print('Datos del pasillo con ID 100:')\n",
    "print(df_aisles.iloc[99])\n",
    "print()\n",
    "print('Datos del departamento con ID 21:')\n",
    "print(df_departments.iloc[20])\n"
   ]
  },
  {
   "cell_type": "markdown",
   "id": "af48974d",
   "metadata": {},
   "source": [
    "<div class=\"alert alert-block alert-success\"><b>Comentario del revisor. (Iteración 1) </b> <a class=\"tocSkip\"></a>\n",
    "    \n",
    "Bien hecho Joselyn! Corroboraste un dato importante, ahora podemos asegurar que el valor 100 para \"aisle_id\" es un valor a tener en cuenta e investigar junto a deparment_id y su valor 21."
   ]
  },
  {
   "cell_type": "markdown",
   "id": "nqhSTUPhhvEJ",
   "metadata": {
    "id": "nqhSTUPhhvEJ"
   },
   "source": [
    "Describe brevemente cuáles son tus hallazgos.\n",
    "\n",
    "1. El pasillo con Id 100 y el departamento con ID 21, no se encuentran."
   ]
  },
  {
   "cell_type": "code",
   "execution_count": 27,
   "id": "6b295120",
   "metadata": {
    "id": "6b295120"
   },
   "outputs": [
    {
     "name": "stdout",
     "output_type": "stream",
     "text": [
      "Ahora, en la columna 'product_name' del data frame products existen: 0 valores ausentes.\n",
      "Empty DataFrame\n",
      "Columns: [product_id, product_name, aisle_id, department_id]\n",
      "Index: []\n"
     ]
    }
   ],
   "source": [
    "# Completa los nombres de productos ausentes con 'Unknown'\n",
    "df_products['product_name'].fillna('Unknown', inplace=True)\n",
    "print(\"Ahora, en la columna 'product_name' del data frame products existen:\",df_products['product_name'].isna().sum(),\"valores ausentes.\")\n",
    "print(df_products[df_products['product_name'].isna()])"
   ]
  },
  {
   "cell_type": "markdown",
   "id": "2a1021b2",
   "metadata": {},
   "source": [
    "<div class=\"alert alert-block alert-success\"><b>Comentario del revisor. (Iteración 1) </b> <a class=\"tocSkip\"></a>\n",
    "    \n",
    "Bien resuelto! En este caso es importante no eliminar estas filas ya que a pesar de tener un valor faltante, aún tenemos información de utilidad en otras columnas, por esta razón es acertado reemplazar dicho valor con \"Unknown\". Felicitaciones!"
   ]
  },
  {
   "cell_type": "markdown",
   "id": "fc70e5ad",
   "metadata": {
    "id": "fc70e5ad"
   },
   "source": [
    "Describe brevemente tus hallazgos y lo que hiciste con ellos.\n",
    "1. Despues de aplicar .fillna (inplace= True) hemos remplazado los valores ausentes con la palabra \"Unknown\". Aun no se sabe por que el pasillo con id 100 y el departamento 21 estan faltando, pero esperamos que nos den mas informacion al respecto.\n"
   ]
  },
  {
   "cell_type": "markdown",
   "id": "7eb45c86",
   "metadata": {
    "id": "7eb45c86"
   },
   "source": [
    "### `orders` data frame"
   ]
  },
  {
   "cell_type": "code",
   "execution_count": 28,
   "id": "93e41d96",
   "metadata": {
    "id": "93e41d96"
   },
   "outputs": [
    {
     "name": "stdout",
     "output_type": "stream",
     "text": [
      "order_id                      0\n",
      "user_id                       0\n",
      "order_number                  0\n",
      "order_dow                     0\n",
      "order_hour_of_day             0\n",
      "days_since_prior_order    28817\n",
      "dtype: int64\n",
      "\n",
      "Los datos muestran que en df_orders solo hay una columna con datos ausentes.\n"
     ]
    }
   ],
   "source": [
    "# Encuentra los valores ausentes\n",
    "print(df_orders.isna().sum())\n",
    "print()\n",
    "print(\"Los datos muestran que en df_orders solo hay una columna con datos ausentes.\")"
   ]
  },
  {
   "cell_type": "code",
   "execution_count": 29,
   "id": "166e5a86",
   "metadata": {
    "id": "166e5a86"
   },
   "outputs": [
    {
     "name": "stdout",
     "output_type": "stream",
     "text": [
      "Existe 0 valores ausentes en la columna days_since_prior_order. Todos son ausentes porque representan el primer pedido del cliente.\n",
      "\n",
      "Ahora, en la columna 'days_since_prior_order' del df_orders existen: 0 valores ausentes.\n",
      "\n",
      "Empty DataFrame\n",
      "Columns: [product_id, product_name, aisle_id, department_id]\n",
      "Index: []\n"
     ]
    }
   ],
   "source": [
    "# ¿Hay algún valor ausente que no sea el primer pedido del cliente?\n",
    "print(\"Existe\",(df_orders[df_orders['days_since_prior_order'].isna()]['order_number']!=1).sum(),\"valores ausentes en la columna days_since_prior_order. Todos son ausentes porque representan el primer pedido del cliente.\")\n",
    "print()\n",
    "df_orders['days_since_prior_order'].fillna(0, inplace =True)\n",
    "print(\"Ahora, en la columna 'days_since_prior_order' del df_orders existen:\",df_orders['days_since_prior_order'].isna().sum(),\"valores ausentes.\")\n",
    "print()\n",
    "print(df_products[df_products['product_name'].isna()])"
   ]
  },
  {
   "cell_type": "markdown",
   "id": "4e23d089",
   "metadata": {
    "id": "4e23d089"
   },
   "source": [
    "Describe brevemente tus hallazgos y lo que hiciste con ellos.\n",
    "1. Los datos muestran que en df_orders solo hay una columna con datos ausentes, esta se llama ['days_since_prior_order'] la cual indica cuantos dias pasaron desde su primera order.\n",
    "2. Es razonable asumir que los valores ausentes de esta columna indican que este es el primer pedido del cliente. Por lo tanto, es seguro el llenar los valores ausentes con 0 para representar que no hubo ninguna order previa."
   ]
  },
  {
   "cell_type": "markdown",
   "id": "172002cd",
   "metadata": {},
   "source": [
    "<div class=\"alert alert-block alert-success\"><b>Comentario del revisor. (Iteración 1) </b> <a class=\"tocSkip\"></a>\n",
    "    \n",
    "Excelente corroboración de nulos nuevamente, en este caso no tenemos valores nulos que no sea el primer pedido, excelente llegamos a la conclusión!"
   ]
  },
  {
   "cell_type": "markdown",
   "id": "69dc9ca4",
   "metadata": {
    "id": "69dc9ca4"
   },
   "source": [
    "### `order_products` data frame"
   ]
  },
  {
   "cell_type": "code",
   "execution_count": 30,
   "id": "b8240253",
   "metadata": {
    "id": "b8240253"
   },
   "outputs": [
    {
     "name": "stdout",
     "output_type": "stream",
     "text": [
      "order_id               0\n",
      "product_id             0\n",
      "add_to_cart_order    836\n",
      "reordered              0\n",
      "dtype: int64\n",
      "\n",
      "Los datos muestran que en df_order_products solo hay una columna llamada 'add_to_cart_order' con datos ausentes.\n",
      "         order_id  product_id  add_to_cart_order  reordered\n",
      "0         2141543       11440               17.0          0\n",
      "1          567889        1560                1.0          1\n",
      "2         2261212       26683                1.0          1\n",
      "3          491251        8670               35.0          1\n",
      "4         2571142        1940                5.0          1\n",
      "...           ...         ...                ...        ...\n",
      "4545002    577211       15290               12.0          1\n",
      "4545003   1219554       21914                9.0          0\n",
      "4545004    692640       47766                4.0          1\n",
      "4545005    319435         691                8.0          1\n",
      "4545006   1398151       28733                9.0          0\n",
      "\n",
      "[4545007 rows x 4 columns]\n"
     ]
    }
   ],
   "source": [
    "# Encuentra los valores ausentes\n",
    "print(df_order_products.isna().sum())\n",
    "print()\n",
    "print(\"Los datos muestran que en df_order_products solo hay una columna llamada 'add_to_cart_order' con datos ausentes.\")\n",
    "\n",
    "print(df_order_products)"
   ]
  },
  {
   "cell_type": "code",
   "execution_count": 31,
   "id": "9a78e5ee",
   "metadata": {
    "id": "9a78e5ee"
   },
   "outputs": [
    {
     "name": "stdout",
     "output_type": "stream",
     "text": [
      "El valor mínimo del orden secuencial en el que se añadió cada artículo en el carrito es 1.0\n",
      "El valor máximo del orden secuencial en el que se añadió cada artículo en el carrito es 64.0\n"
     ]
    }
   ],
   "source": [
    "# ¿Cuáles son los valores mínimos y máximos en esta columna?\n",
    "print(\"El valor mínimo del orden secuencial en el que se añadió cada artículo en el carrito es\",df_order_products['add_to_cart_order'].min())\n",
    "print(\"El valor máximo del orden secuencial en el que se añadió cada artículo en el carrito es\",df_order_products['add_to_cart_order'].max())"
   ]
  },
  {
   "cell_type": "markdown",
   "id": "343fdb83",
   "metadata": {},
   "source": [
    "<div class=\"alert alert-block alert-success\"><b>Comentario del revisor. (Iteración 1) </b> <a class=\"tocSkip\"></a>\n",
    "    \n",
    "Excelente corrobración tanto de nulos como de los minimos y máximos!"
   ]
  },
  {
   "cell_type": "markdown",
   "id": "-Z2Ja215jW78",
   "metadata": {
    "id": "-Z2Ja215jW78"
   },
   "source": [
    "Describe brevemente cuáles son tus hallazgos.\n",
    "1. Los hallazgos indican que el valor mínimo en la columna 'add_to_cart_order' es 1 y el máximo es 64. Esto significa que el artículo fue agregado al carrito en un orden secuencial que va desde 1 hasta 64. Tal vez y 64 sea el valor maximo de items en un carrito."
   ]
  },
  {
   "cell_type": "code",
   "execution_count": 32,
   "id": "ab9d0c2b",
   "metadata": {
    "id": "ab9d0c2b"
   },
   "outputs": [
    {
     "name": "stdout",
     "output_type": "stream",
     "text": [
      "0      2449164\n",
      "1      1968313\n",
      "2      2926893\n",
      "3      1717990\n",
      "4      1959075\n",
      "        ...   \n",
      "831    1800005\n",
      "832    1633337\n",
      "833     404157\n",
      "834    1673227\n",
      "835    1832957\n",
      "Name: order_id, Length: 836, dtype: int64\n"
     ]
    }
   ],
   "source": [
    "# Guarda todas las IDs de pedidos que tengan un valor ausente en 'add_to_cart_order'\n",
    "order_ids_missing_add_to_cart = pd.Series(df_order_products[df_order_products['add_to_cart_order'].isna()]['order_id'].reset_index(drop=True))\n",
    "print(order_ids_missing_add_to_cart)\n"
   ]
  },
  {
   "cell_type": "code",
   "execution_count": 33,
   "id": "54c31695",
   "metadata": {
    "id": "54c31695"
   },
   "outputs": [
    {
     "name": "stdout",
     "output_type": "stream",
     "text": [
      "61355      127\n",
      "3308010    115\n",
      "2136777    108\n",
      "171934     104\n",
      "1959075     98\n",
      "          ... \n",
      "747668      65\n",
      "2170451     65\n",
      "2729254     65\n",
      "2652650     65\n",
      "9310        65\n",
      "Name: order_id, Length: 70, dtype: int64\n",
      "\n",
      "Todos los pedidos con valores ausentes tienen un mínimo de 65 productos y un máximo de 127 productos.\n",
      "order_id\n",
      "9310        65\n",
      "61355      127\n",
      "102236      95\n",
      "129627      69\n",
      "165801      70\n",
      "          ... \n",
      "2999801     70\n",
      "3125735     86\n",
      "3308010    115\n",
      "3347453     71\n",
      "3383594     69\n",
      "Name: product_id, Length: 70, dtype: int64\n",
      "\n",
      "Todos los pedidos con valores ausentes tienen un mínimo de 65 productos y un máximo de 127 productos.\n"
     ]
    }
   ],
   "source": [
    "# ¿Todos los pedidos con valores ausentes tienen más de 64 productos?\n",
    "repetitions = df_order_products[df_order_products['order_id'].isin(order_ids_missing_add_to_cart)]['order_id'].value_counts()\n",
    "print(repetitions)\n",
    "print()\n",
    "print(\"Todos los pedidos con valores ausentes tienen un mínimo de\",repetitions.min(),\"productos y un máximo de\", repetitions.max(),\"productos.\")\n",
    "\n",
    "# Agrupa todos los pedidos con datos ausentes por su ID de pedido.\n",
    "# Cuenta el número de 'product_id' en cada pedido y revisa el valor mínimo del conteo.\n",
    "repetitions2= df_order_products[df_order_products['order_id'].isin(order_ids_missing_add_to_cart)].groupby('order_id')['product_id'].count()\n",
    "print(repetitions2)\n",
    "print()\n",
    "print(\"Todos los pedidos con valores ausentes tienen un mínimo de\",repetitions2.min(),\"productos y un máximo de\", repetitions2.max(),\"productos.\")\n",
    "\n",
    "\n",
    "\n",
    "\n"
   ]
  },
  {
   "cell_type": "markdown",
   "id": "p9V6pddtjglj",
   "metadata": {
    "id": "p9V6pddtjglj"
   },
   "source": [
    "Describe brevemente cuáles son tus hallazgos.\n",
    "1. Podemos ver que al final pasando los 64 productos del carrito el sistema parece fallar. Todos los pedidos con valores ausentes tienen un mínimo de 65 productos y un máximo de 127 productos en el carrito.\n"
   ]
  },
  {
   "cell_type": "markdown",
   "id": "71577012",
   "metadata": {},
   "source": [
    "<div class=\"alert alert-block alert-success\"><b>Comentario del revisor. (Iteración 1) </b> <a class=\"tocSkip\"></a>\n",
    "    \n",
    "Nuevamente excelente, desde el filtrado de los casos nulos hasta la agrupación por orden y el posterior conteo de los productos. Perfecto Joselyn!"
   ]
  },
  {
   "cell_type": "code",
   "execution_count": 34,
   "id": "7a987d08",
   "metadata": {
    "id": "7a987d08"
   },
   "outputs": [
    {
     "name": "stdout",
     "output_type": "stream",
     "text": [
      "<class 'pandas.core.frame.DataFrame'>\n",
      "RangeIndex: 4545007 entries, 0 to 4545006\n",
      "Data columns (total 4 columns):\n",
      " #   Column             Dtype\n",
      "---  ------             -----\n",
      " 0   order_id           int64\n",
      " 1   product_id         int64\n",
      " 2   add_to_cart_order  int64\n",
      " 3   reordered          int64\n",
      "dtypes: int64(4)\n",
      "memory usage: 138.7 MB\n"
     ]
    }
   ],
   "source": [
    "# Remplaza los valores ausentes en la columna 'add_to_cart? con 999 y convierte la columna al tipo entero.\n",
    "df_order_products['add_to_cart_order'].fillna(999, inplace=True)\n",
    "df_order_products['add_to_cart_order'] = df_order_products['add_to_cart_order'].astype(int)\n",
    "df_order_products.info()"
   ]
  },
  {
   "cell_type": "markdown",
   "id": "317a4a1b",
   "metadata": {},
   "source": [
    "<div class=\"alert alert-block alert-success\">\n",
    "<b>Comentario del revisor. (Iteración 1)</b> <a class=\"tocSkip\"></a>\n",
    "\n",
    "Buena resolución para completar estos valores! Sencilla y directa, felicitaciones!. A la vez una buena conclusión sobre el valor minimo de pedidos!"
   ]
  },
  {
   "cell_type": "markdown",
   "id": "fea4bcc7",
   "metadata": {
    "id": "fea4bcc7"
   },
   "source": [
    "Describe brevemente tus hallazgos y lo que hiciste con ellos.\n",
    "1. Los datos muestran que en df_order_products solo hay una columna llamada 'add_to_cart_order' con datos ausentes.\n",
    "2. El valor mínimo del orden secuencial en el que se añadió cada artículo en el carrito es 1.0 El valor máximo del orden secuencial en el que se añadió cada artículo en el carrito es 64.0\n",
    "3. Podemos ver que al final pasando los 64 productos del carrito el sistema parece fallar. Todos los pedidos con valores ausentes tienen un mínimo de 65 productos y un máximo de 127 productos en el carrito.\n",
    "4. Se corrigio este problema reemplazando los valores ausentes por el numero 999 y se cambio el formato de la columna a entero para que este quede adecuado a su función. \n",
    "\n"
   ]
  },
  {
   "cell_type": "markdown",
   "id": "RnplPFY1gSrb",
   "metadata": {
    "id": "RnplPFY1gSrb"
   },
   "source": [
    "## Conclusiones\n",
    "\n",
    "#### Escribe aquí tus conclusiones intermedias sobre el Paso 2. Preprocesamiento de los datos\n",
    "\n",
    "El preprocesamiento de datos nos permitió abordar problemas de calidad de datos y preparar los conjuntos de datos para análisis con graficas. Durante el paso de preprocesamiento de datos, identificamos 3 problemas en los conjuntos de datos.\n",
    "\n",
    "1. Valores faltantes: Encontramos valores faltantes en las columnas 'product_name' de la tabla de productos, 'days_since_prior_order' de la tabla de órdenes y 'add_to_cart_order' de la tabla de productos de órdenes. Utilizamos métodos como isna(), fillna() y dropna() para abordar estos valores faltantes.\n",
    "\n",
    "2. Valores duplicados: Identificamos valores duplicados en las columnas 'product_name' y 'order_id' de las tablas de productos y productos de órdenes, respectivamente. Utilizamos el método duplicated() para identificarlos y luego eliminamos los duplicados utilizando el método drop_duplicates().\n",
    "\n",
    "3. Conversiones de datos: Convertimos los datos en la columna 'add_to_cart_order' de la tabla de productos de órdenes a tipo entero después de llenar los valores faltantes con 999.\n",
    "\n",
    "Por último tambien se trabajo con bastantes filtrados y agrupaciones para tratar estos datos y llegar a conlusiones.\n",
    "\n",
    "\n",
    "\n"
   ]
  },
  {
   "cell_type": "markdown",
   "id": "UjrOIwTcz3ri",
   "metadata": {
    "id": "UjrOIwTcz3ri"
   },
   "source": [
    "# Paso 3. Análisis de los datos\n",
    "\n",
    "Una vez los datos estén procesados y listos, haz el siguiente análisis:"
   ]
  },
  {
   "cell_type": "markdown",
   "id": "turkish-kidney",
   "metadata": {
    "id": "turkish-kidney"
   },
   "source": [
    "# [A] Fácil (deben completarse todos para aprobar)\n",
    "\n",
    "1. Verifica que los valores en las columnas `'order_hour_of_day'` y `'order_dow'` en la tabla orders sean razonables (es decir, `'order_hour_of_day'` oscile entre 0 y 23 y `'order_dow'` oscile entre 0 y 6).\n",
    "2. Crea un gráfico que muestre el número de personas que hacen pedidos dependiendo de la hora del día.\n",
    "3. Crea un gráfico que muestre qué día de la semana la gente hace sus compras.\n",
    "4. Crea un gráfico que muestre el tiempo que la gente espera hasta hacer su siguiente pedido, y comenta sobre los valores mínimos y máximos."
   ]
  },
  {
   "cell_type": "markdown",
   "id": "short-capability",
   "metadata": {
    "id": "short-capability"
   },
   "source": [
    "### [A1] Verifica que los valores sean sensibles"
   ]
  },
  {
   "cell_type": "code",
   "execution_count": 35,
   "id": "growing-fruit",
   "metadata": {
    "id": "growing-fruit"
   },
   "outputs": [
    {
     "name": "stdout",
     "output_type": "stream",
     "text": [
      "Valores mínimos y máximos de 'order_hour_of_day' son: 0 - 23\n"
     ]
    }
   ],
   "source": [
    "min_order_hour = df_orders['order_hour_of_day'].min()\n",
    "max_order_hour = df_orders['order_hour_of_day'].max()\n",
    "\n",
    "print(\"Valores mínimos y máximos de 'order_hour_of_day' son:\", min_order_hour, \"-\", max_order_hour)\n"
   ]
  },
  {
   "cell_type": "code",
   "execution_count": 36,
   "id": "accessory-malaysia",
   "metadata": {
    "id": "accessory-malaysia"
   },
   "outputs": [
    {
     "name": "stdout",
     "output_type": "stream",
     "text": [
      "Valores mínimos y máximos de 'order_dow'son : 0 - 6\n"
     ]
    }
   ],
   "source": [
    "min_order_dow = df_orders['order_dow'].min()\n",
    "max_order_dow = df_orders['order_dow'].max()\n",
    "\n",
    "print(\"Valores mínimos y máximos de 'order_dow'son :\", min_order_dow, \"-\", max_order_dow)"
   ]
  },
  {
   "cell_type": "markdown",
   "id": "hmR2GNQ6lCsX",
   "metadata": {
    "id": "hmR2GNQ6lCsX"
   },
   "source": [
    "Escribe aquí tus conclusiones\n",
    "\n",
    "1. Valores mínimos y máximos de 'order_hour_of_day' y 'order_dow' son razonables, ya que estos oscilan en el rango correcto.\n"
   ]
  },
  {
   "cell_type": "markdown",
   "id": "a9bc2998",
   "metadata": {},
   "source": [
    " <div class=\"alert alert-block alert-success\">\n",
    "<b>Comentario del revisor. (Iteración 1)</b> <a class=\"tocSkip\"></a>\n",
    "\n",
    "Una forma creativa de corroborar lo pedido, eso demuestra comprensión e inteligencia. Muy bien Joselyn! Sigamos que falta poco!"
   ]
  },
  {
   "cell_type": "markdown",
   "id": "a6743a70",
   "metadata": {
    "id": "a6743a70"
   },
   "source": [
    "### [A2] Para cada hora del día, ¿cuántas personas hacen órdenes?"
   ]
  },
  {
   "cell_type": "code",
   "execution_count": 37,
   "id": "a36cca27",
   "metadata": {
    "id": "a36cca27"
   },
   "outputs": [
    {
     "name": "stdout",
     "output_type": "stream",
     "text": [
      "order_hour_of_day\n",
      "0      2991\n",
      "1      1671\n",
      "2       958\n",
      "3       744\n",
      "4       735\n",
      "5      1281\n",
      "6      3757\n",
      "7     10993\n",
      "8     20268\n",
      "9     28112\n",
      "10    32195\n",
      "11    32660\n",
      "12    31754\n",
      "13    32433\n",
      "14    32797\n",
      "15    32894\n",
      "16    31579\n",
      "17    26825\n",
      "18    21795\n",
      "19    17026\n",
      "20    12891\n",
      "21     9806\n",
      "22     7670\n",
      "23     5167\n",
      "Name: user_id, dtype: int64\n"
     ]
    },
    {
     "data": {
      "image/png": "[encoded data removed]",
      "text/plain": [
       "<Figure size 720x432 with 1 Axes>"
      ]
     },
     "metadata": {
      "needs_background": "light"
     },
     "output_type": "display_data"
    }
   ],
   "source": [
    "from matplotlib import pyplot as plt\n",
    "\n",
    "# Agrupar por 'order_hour_of_day' y cuenta el número de usuarios únicos en cada hora\n",
    "hourly_orders = df_orders.groupby('order_hour_of_day')['user_id'].nunique()\n",
    "print(hourly_orders)\n",
    "\n",
    "# Crear el gráfico\n",
    "hourly_orders.plot(x='order_hour_of_day',\n",
    "                   y='user_id',\n",
    "                   style='*-',                # Estilo de línea con marcadores\n",
    "                   color='green',\n",
    "                   title='Número de personas que hacen pedidos por hora del día',\n",
    "                   figsize=(10, 6),           # Dimensiones del grafico\n",
    "                   xlabel='Hora del día',\n",
    "                   ylabel='Número de personas',\n",
    "                   xlim=[0, 23],              # Límites del eje x, 24 horas\n",
    "                   xticks=range(24),          # Para poder mostrar las 24 horas del dia\n",
    "                   grid=True)                 # Mostrar cuadrícula\n",
    "\n",
    "plt.show()\n",
    "\n",
    "\n",
    "                  "
   ]
  },
  {
   "cell_type": "markdown",
   "id": "11270eed",
   "metadata": {
    "id": "11270eed"
   },
   "source": [
    "Escribe aquí tus conclusiones\n",
    "\n",
    "1. Con los datos y con el grafico se puede concluir que desde las 10:00-16:00 la gente hace una gran cantidad de pedidos. En estos horarios picos se puede trabajar con mas personal y las horas muertas 0:00-6:00 con mucho menos personal. "
   ]
  },
  {
   "cell_type": "markdown",
   "id": "6d8e8e45",
   "metadata": {},
   "source": [
    "<div class=\"alert alert-block alert-success\">\n",
    "<b>Comentario del revisor. (Iteración 1)</b> <a class=\"tocSkip\"></a>\n",
    "\n",
    "Excelente cálculo de frecuencia y excelente implementación e interpreteaicón de la gráfica! Bien hecho!"
   ]
  },
  {
   "cell_type": "markdown",
   "id": "documented-command",
   "metadata": {
    "id": "documented-command"
   },
   "source": [
    "### [A3] ¿Qué día de la semana compran víveres las personas?"
   ]
  },
  {
   "cell_type": "code",
   "execution_count": 38,
   "id": "chief-digit",
   "metadata": {
    "id": "chief-digit"
   },
   "outputs": [
    {
     "name": "stdout",
     "output_type": "stream",
     "text": [
      "Domingo      84090\n",
      "Lunes        82185\n",
      "Martes       65833\n",
      "Miércoles    60897\n",
      "Jueves       59810\n",
      "Viernes      63488\n",
      "Sábado       62649\n",
      "Name: order_dow, dtype: int64\n"
     ]
    },
    {
     "data": {
      "image/png": "[encoded data removed]",
      "text/plain": [
       "<Figure size 720x432 with 1 Axes>"
      ]
     },
     "metadata": {
      "needs_background": "light"
     },
     "output_type": "display_data"
    }
   ],
   "source": [
    "# Contar el número de compras por día de la semana\n",
    "daily_orders = df_orders['order_dow'].value_counts().sort_index()\n",
    "daily_orders.index=['Domingo','Lunes', 'Martes', 'Miércoles', 'Jueves', 'Viernes', 'Sábado']\n",
    "print(daily_orders)\n",
    "\n",
    "# Crear el gráfico\n",
    "daily_orders.plot( x='index',\n",
    "                   y='order_dow',\n",
    "                   kind = 'bar',\n",
    "                   color = ['green','blue','yellow','red','purple','pink','orange'],\n",
    "                   edgecolor='black',  \n",
    "                   title='Número de compras por día de la semana',\n",
    "                   figsize=(10, 6),           # Dimensiones del grafico\n",
    "                   xlabel='Día de la semana',\n",
    "                   ylabel='Número de compras',\n",
    "                   rot=45,\n",
    "                   grid=True)                 # Mostrar cuadrícula\n",
    "\n",
    "plt.show()\n",
    "\n",
    "\n",
    "# Crear el gráfico de barras\n",
    "#plt.figure(figsize=(10, 6))\n",
    "#plt.bar(dow_labels, daily_orders, color='skyblue')\n",
    "\n",
    "# Añadir título y etiquetas de los ejes\n",
    "#plt.title('Número de compras por día de la semana')\n",
    "#plt.xlabel('Día de la semana')\n",
    "#plt.ylabel('Número de compras')\n",
    "\n",
    "# Mostrar el gráfico\n",
    "#plt.show()"
   ]
  },
  {
   "cell_type": "markdown",
   "id": "dominant-lightning",
   "metadata": {
    "id": "dominant-lightning"
   },
   "source": [
    "Escribe aquí tus conclusiones\n",
    "\n",
    "1. Este grafico nos muestra el patrón de comportamiento semanal. Se observa que los domingos y los lunes tienen el mayor número de compras. Esto sugiere que los días al inicio de la semana suelen ser más activos en términos de compras en comparación con los días intermedios y el final de la semana."
   ]
  },
  {
   "cell_type": "markdown",
   "id": "cd5eef72",
   "metadata": {},
   "source": [
    "<div class=\"alert alert-block alert-success\">\n",
    "<b>Comentario del revisor. (Iteración 1)</b> <a class=\"tocSkip\"></a>\n",
    "\n",
    "Perfecto! Mismo caso que lo anterior, bien resuelto y bien calculada la frecuencia!"
   ]
  },
  {
   "cell_type": "markdown",
   "id": "cutting-concert",
   "metadata": {
    "id": "cutting-concert"
   },
   "source": [
    "### [A4] ¿Cuánto tiempo esperan las personas hasta hacer otro pedido? Comenta sobre los valores mínimos y máximos."
   ]
  },
  {
   "cell_type": "code",
   "execution_count": 39,
   "id": "c231f523",
   "metadata": {
    "id": "c231f523"
   },
   "outputs": [
    {
     "name": "stdout",
     "output_type": "stream",
     "text": [
      "1.0     20179\n",
      "2.0     27138\n",
      "3.0     30224\n",
      "4.0     31006\n",
      "5.0     30096\n",
      "6.0     33930\n",
      "7.0     44577\n",
      "8.0     25361\n",
      "9.0     16753\n",
      "10.0    13309\n",
      "11.0    11467\n",
      "12.0    10658\n",
      "13.0    11737\n",
      "14.0    13992\n",
      "15.0     9416\n",
      "16.0     6587\n",
      "17.0     5498\n",
      "18.0     4971\n",
      "19.0     4939\n",
      "20.0     5302\n",
      "21.0     6448\n",
      "22.0     4514\n",
      "23.0     3337\n",
      "24.0     3015\n",
      "25.0     2711\n",
      "26.0     2640\n",
      "27.0     2986\n",
      "28.0     3745\n",
      "29.0     2673\n",
      "30.0    51337\n",
      "Name: days_since_prior_order, dtype: int64\n"
     ]
    },
    {
     "data": {
      "image/png": "[encoded data removed]",
      "text/plain": [
       "<Figure size 720x432 with 1 Axes>"
      ]
     },
     "metadata": {
      "needs_background": "light"
     },
     "output_type": "display_data"
    }
   ],
   "source": [
    "#Filtramos valores mayores a 0 ya que esto solo representa que esta fue la primera orden del cliente.\n",
    "wait_times_filtered = df_orders[df_orders['days_since_prior_order'] > 0]['days_since_prior_order']\n",
    "print(wait_times_filtered.value_counts().sort_index())\n",
    "\n",
    "# Creamos un histograma que indique la distribucion de tiempo hasta el proximo pedido\n",
    "wait_times_filtered.plot(kind='hist', \n",
    "                         bins=30, \n",
    "                         color='green', \n",
    "                         edgecolor='black',  \n",
    "                         figsize=(10, 6),\n",
    "                         xticks=range(31),\n",
    "                         title='Distribución de tiempo hasta el próximo pedido')\n",
    "plt.xlabel('Días hasta el próximo pedido')\n",
    "plt.ylabel('Frecuencia')\n",
    "plt.show()"
   ]
  },
  {
   "cell_type": "markdown",
   "id": "discrete-vertex",
   "metadata": {
    "id": "discrete-vertex"
   },
   "source": [
    "Escribe aquí tus conclusiones\n",
    "1. La mayoría de los clientes tienden a hacer pedidos con una frecuencia de 7 días (semana tras semana), seguido por 30 días (aprox. un mes).\n",
    "2. Los períodos de tiempo más comunes entre los pedidos parecen ser del 1-7 día despues de hacer su pedido. Esto sugiere una alta frecuencia de compras entre los clientes.\n",
    "3. Después de los 7 días, existe una disminución gradual en el número de pedidos a medida que aumenta el tiempo hasta el próximo pedido."
   ]
  },
  {
   "cell_type": "markdown",
   "id": "3b7042af",
   "metadata": {},
   "source": [
    "<div class=\"alert alert-block alert-success\">\n",
    "<b>Comentario del revisor. (Iteración 1)</b> <a class=\"tocSkip\"></a>\n",
    "\n",
    "Impresionante Joselyn, nuevamente lo has resuelta tal como correspondía!"
   ]
  },
  {
   "cell_type": "markdown",
   "id": "tight-staff",
   "metadata": {
    "id": "tight-staff"
   },
   "source": [
    "# [B] Intermedio (deben completarse todos para aprobar)\n",
    "\n",
    "1. ¿Existe alguna diferencia entre las distribuciones `'order_hour_of_day'` de los miércoles y los sábados? Traza gráficos de barra de `'order_hour_of_day'` para ambos días en la misma figura y describe las diferencias que observes.\n",
    "2. Grafica la distribución para el número de órdenes que hacen los clientes (es decir, cuántos clientes hicieron solo 1 pedido, cuántos hicieron 2, cuántos 3, y así sucesivamente...).\n",
    "3. ¿Cuáles son los 20 principales productos que se piden con más frecuencia (muestra su identificación y nombre)?"
   ]
  },
  {
   "cell_type": "markdown",
   "id": "packed-classic",
   "metadata": {
    "id": "packed-classic"
   },
   "source": [
    "### [B1] Diferencia entre miércoles y sábados para  `'order_hour_of_day'`. Traza gráficos de barra para los dos días y describe las diferencias que veas."
   ]
  },
  {
   "cell_type": "code",
   "execution_count": 40,
   "id": "d89b8403",
   "metadata": {
    "id": "d89b8403"
   },
   "outputs": [],
   "source": [
    "ordenes_miercoles = df_orders[df_orders['order_dow'] == 3]  # Pedidos dias Miércoles\n",
    "ordenes_sabados = df_orders[df_orders['order_dow'] == 6]    # Pedidos dias Sábado\n"
   ]
  },
  {
   "cell_type": "code",
   "execution_count": 41,
   "id": "94e54e8a",
   "metadata": {
    "id": "94e54e8a"
   },
   "outputs": [],
   "source": [
    "# Contar el número de pedidos para cada hora del día para miércoles y sábados\n",
    "ordernes_por_horarios_miercoles = ordenes_miercoles['order_hour_of_day'].value_counts().sort_index()\n",
    "ordenes_por_horarios_sabados = ordenes_sabados['order_hour_of_day'].value_counts().sort_index()"
   ]
  },
  {
   "cell_type": "code",
   "execution_count": 42,
   "id": "797c90a8",
   "metadata": {
    "id": "797c90a8"
   },
   "outputs": [],
   "source": [
    "# Unir la informacion en una lista para poder mostrarla en el grafico\n",
    "merged_data = pd.merge(ordernes_por_horarios_miercoles, ordenes_por_horarios_sabados, left_index=True, right_index=True, suffixes=('m', 's'))\n",
    "merged_data = merged_data.rename(columns={'order_hour_of_daym': 'Miércoles', 'order_hour_of_days': 'Sábados'})\n",
    "\n"
   ]
  },
  {
   "cell_type": "code",
   "execution_count": 43,
   "id": "35bcea30",
   "metadata": {
    "id": "35bcea30"
   },
   "outputs": [
    {
     "data": {
      "image/png": "[encoded data removed]",
      "text/plain": [
       "<Figure size 720x432 with 1 Axes>"
      ]
     },
     "metadata": {
      "needs_background": "light"
     },
     "output_type": "display_data"
    }
   ],
   "source": [
    "# Graficar\n",
    "merged_data.plot(use_index=True,              #Para utilizar el indice como el eje de las x\n",
    "                 kind='bar',  \n",
    "                 y=['Miércoles', 'Sábados'],\n",
    "                 color=['yellow', 'orange'],\n",
    "                 edgecolor='black',\n",
    "                 title='Distribución de pedidos por hora del día (Miércoles vs. Sábado)',\n",
    "                 figsize=(10, 6),\n",
    "                 xlabel='Hora del día',\n",
    "                 ylabel='Número de pedidos',\n",
    "                 legend=True,\n",
    "                 grid=True)\n",
    "\n",
    "plt.show()"
   ]
  },
  {
   "cell_type": "markdown",
   "id": "charitable-congo",
   "metadata": {
    "id": "charitable-congo"
   },
   "source": [
    "Escribe aquí tus conclusiones\n",
    "\n",
    "1. Podemos apreciar que los miercoles y sabados el volumen de pedidos es muy similar inclusive en las horas del dia. "
   ]
  },
  {
   "cell_type": "markdown",
   "id": "be73180e",
   "metadata": {},
   "source": [
    "<div class=\"alert alert-block alert-success\">\n",
    "<b>Comentario del revisor. (Iteración 1)</b> <a class=\"tocSkip\"></a>\n",
    "\n",
    "Excelente Joselyn! Aquí hemos visualizado tal como se debía ámbas columnas cmoparandose en el mismo gráfico, bien implementado!"
   ]
  },
  {
   "cell_type": "markdown",
   "id": "e3891143",
   "metadata": {
    "id": "e3891143"
   },
   "source": [
    "### [B2] ¿Cuál es la distribución para el número de pedidos por cliente?"
   ]
  },
  {
   "cell_type": "code",
   "execution_count": 44,
   "id": "d8c26c23",
   "metadata": {
    "id": "d8c26c23"
   },
   "outputs": [
    {
     "name": "stdout",
     "output_type": "stream",
     "text": [
      "El mínimo número de ordenes por cliente fue: 1\n",
      "El máximo número de ordenes por cliente fue: 28\n",
      "1     55357\n",
      "2     36508\n",
      "3     21547\n",
      "4     13498\n",
      "5      8777\n",
      "6      6012\n",
      "7      4240\n",
      "8      3019\n",
      "9      2152\n",
      "10     1645\n",
      "11     1308\n",
      "12      947\n",
      "13      703\n",
      "14      512\n",
      "15      437\n",
      "16      263\n",
      "17      184\n",
      "18      121\n",
      "19       85\n",
      "20       52\n",
      "21       22\n",
      "22       23\n",
      "23       19\n",
      "24        3\n",
      "25        1\n",
      "26        1\n",
      "28        1\n",
      "Name: order_id, dtype: int64\n"
     ]
    }
   ],
   "source": [
    "# Calcula la frecuencia de cada número de órdenes\n",
    "\n",
    "# Agrupar por user_id y contar el número de órdenes únicas\n",
    "orders_per_user = df_orders.groupby('user_id')['order_id'].nunique()\n",
    "print(\"El mínimo número de ordenes por cliente fue:\", orders_per_user.min())\n",
    "print(\"El máximo número de ordenes por cliente fue:\",orders_per_user.max())\n",
    "print(orders_per_user.value_counts().sort_index())\n",
    "\n"
   ]
  },
  {
   "cell_type": "code",
   "execution_count": 45,
   "id": "00e69a66",
   "metadata": {
    "id": "00e69a66"
   },
   "outputs": [
    {
     "data": {
      "image/png": "[encoded data removed]",
      "text/plain": [
       "<Figure size 720x432 with 1 Axes>"
      ]
     },
     "metadata": {
      "needs_background": "light"
     },
     "output_type": "display_data"
    }
   ],
   "source": [
    "# Creamos un histograma que indique la distribucion de tiempo hasta el proximo pedido\n",
    "orders_per_user.plot(    kind='hist', \n",
    "                         bins=28, \n",
    "                         color='red', \n",
    "                         edgecolor='black',  \n",
    "                         figsize=(10, 6),\n",
    "                         xticks=range(29),\n",
    "                         title='Distribución del número de órdenes por cliente',\n",
    "                         grid=True)\n",
    "plt.xlabel('Número de ordenes por cliente')\n",
    "plt.ylabel('Frecuencia')\n",
    "plt.show()\n"
   ]
  },
  {
   "cell_type": "markdown",
   "id": "d2eff7d5",
   "metadata": {
    "id": "d2eff7d5"
   },
   "source": [
    "Escribe aquí tus conclusiones\n",
    "\n",
    "1. En general, la mayoría de los clientes realizan un número bajo de órdenes, lo que sugiere que la mayoría de los clientes son ocasionales o compran con poca frecuencia. Y solo un pequeño porcentaje de clientes realizan un número significativo de órdenes, lo que indica la presencia de clientes frecuentes o regulares."
   ]
  },
  {
   "cell_type": "markdown",
   "id": "73e3cb50",
   "metadata": {},
   "source": [
    "<div class=\"alert alert-block alert-success\">\n",
    "<b>Comentario del revisor. (Iteración 1)</b> <a class=\"tocSkip\"></a>\n",
    "\n",
    "Excelente Joselyn, este gráfico responde a lo que buscabamos. Excelente elección de tipo de gráfico! Si quisieramos verlo en más detalle podríamos modificar la cantidad de bins!"
   ]
  },
  {
   "cell_type": "markdown",
   "id": "54a0319c",
   "metadata": {
    "id": "54a0319c"
   },
   "source": [
    "### [B3] ¿Cuáles son los 20 productos más populares (muestra su ID y nombre)?"
   ]
  },
  {
   "cell_type": "code",
   "execution_count": 46,
   "id": "exterior-arizona",
   "metadata": {
    "id": "exterior-arizona",
    "scrolled": true
   },
   "outputs": [
    {
     "name": "stdout",
     "output_type": "stream",
     "text": [
      "El máximo número de veces que un articulo fue pedido es: 66050\n",
      "\n"
     ]
    }
   ],
   "source": [
    "# Agrupar por product_id y contar el número de órdenes únicas\n",
    "product_per_order = df_order_products.groupby('product_id')['order_id'].nunique().sort_values(ascending=False)\n",
    "print(\"El máximo número de veces que un articulo fue pedido es:\",product_per_order.max())\n",
    "print()\n",
    "top_20= product_per_order.head(20)\n",
    "top_20_df = top_20.reset_index()\n",
    "top_20_df.columns = ['product_id', 'count']\n",
    "\n",
    "\n",
    "\n"
   ]
  },
  {
   "cell_type": "code",
   "execution_count": 47,
   "id": "universal-facial",
   "metadata": {
    "id": "universal-facial"
   },
   "outputs": [
    {
     "name": "stdout",
     "output_type": "stream",
     "text": [
      "    product_id              product_name\n",
      "0        24852                    BANANA\n",
      "1        13176    BAG OF ORGANIC BANANAS\n",
      "2        21137      ORGANIC STRAWBERRIES\n",
      "3        21903      ORGANIC BABY SPINACH\n",
      "4        47209      ORGANIC HASS AVOCADO\n",
      "5        47766           ORGANIC AVOCADO\n",
      "6        47626               LARGE LEMON\n",
      "7        16797              STRAWBERRIES\n",
      "8        26209                     LIMES\n",
      "9        27845        ORGANIC WHOLE MILK\n",
      "10       27966       ORGANIC RASPBERRIES\n",
      "11       22935      ORGANIC YELLOW ONION\n",
      "12       24964            ORGANIC GARLIC\n",
      "13       45007          ORGANIC ZUCCHINI\n",
      "14       39275       ORGANIC BLUEBERRIES\n",
      "15       49683            CUCUMBER KIRBY\n",
      "16       28204        ORGANIC FUJI APPLE\n",
      "17        5876             ORGANIC LEMON\n",
      "18        8277  APPLE HONEYCRISP ORGANIC\n",
      "19       40706    ORGANIC GRAPE TOMATOES\n"
     ]
    }
   ],
   "source": [
    "# Combina las listas para saber los nombres de estos productos\n",
    "\n",
    "# Crea un df con solo las columnas de product id y product name.\n",
    "product_name_by_id = df_products.set_index('product_id')['product_name']\n",
    "\n",
    "# Fusionamos con product_name_by_id\n",
    "list_top_20 = top_20_df.merge(product_name_by_id, \n",
    "                              left_on='product_id', \n",
    "                              right_index=True, \n",
    "                              how='left')\n",
    "list_top_20.drop(columns=['count'], inplace=True)\n",
    "print(list_top_20)\n"
   ]
  },
  {
   "cell_type": "markdown",
   "id": "72bac749",
   "metadata": {
    "id": "bbcdd20b"
   },
   "source": [
    "<div class=\"alert alert-block alert-success\">\n",
    "<b>Comentario del revisor. (Iteración 1)</b> <a class=\"tocSkip\"></a>\n",
    "\n",
    "Increíble Joselyn! Tal como se debía calculaste la frecuencia buscada y obtuviste los nombres correspondientes mediante el mergeo de los dataframes, excelente!\n",
    "   "
   ]
  },
  {
   "cell_type": "markdown",
   "id": "7df00f47",
   "metadata": {
    "id": "7df00f47"
   },
   "source": [
    "Escribe aquí tus conclusiones\n",
    "\n",
    "1. Al observar los 20 productos más ordenados, podemos concluir que las frutas y verduras orgánicas son muy populares. La mayoría de los productos en la lista son frutas y verduras orgánicas, como bananas, fresas, espinacas, aguacates, limones, entre otros. Esto sugiere que los clientes tienden a preferir productos frescos y saludables."
   ]
  },
  {
   "cell_type": "markdown",
   "id": "gross-theme",
   "metadata": {
    "id": "gross-theme"
   },
   "source": [
    "# [C] Difícil (deben completarse todos para aprobar)\n",
    "\n",
    "1. ¿Cuántos artículos suelen comprar las personas en un pedido? ¿Cómo es la distribución?\n",
    "2. ¿Cuáles son los 20 principales artículos que vuelven a pedirse con mayor frecuencia (muestra sus nombres e IDs de los productos)?\n",
    "3. Para cada producto, ¿cuál es la tasa de repetición del pedido (número de repeticiones de pedido/total de pedidos?\n",
    "4. Para cada cliente, ¿qué proporción de los productos que pidió ya los había pedido? Calcula la tasa de repetición de pedido para cada usuario en lugar de para cada producto.\n",
    "5. ¿Cuáles son los 20 principales artículos que la gente pone primero en sus carritos (muestra las IDs de los productos, sus nombres, y el número de veces en que fueron el primer artículo en añadirse al carrito)?"
   ]
  },
  {
   "cell_type": "markdown",
   "id": "romantic-deposit",
   "metadata": {
    "id": "romantic-deposit"
   },
   "source": [
    "### [C1] ¿Cuántos artículos compran normalmente las personas en un pedido? ¿Cómo es la distribución?"
   ]
  },
  {
   "cell_type": "code",
   "execution_count": 48,
   "id": "virtual-punch",
   "metadata": {
    "id": "virtual-punch"
   },
   "outputs": [
    {
     "name": "stdout",
     "output_type": "stream",
     "text": [
      "El mínimo número de articulos en una orden fue: 1\n",
      "El máximo número de articulos en una orden fue: 127\n",
      "1      21847\n",
      "2      26292\n",
      "3      29046\n",
      "4      31054\n",
      "5      31923\n",
      "       ...  \n",
      "98         1\n",
      "104        1\n",
      "108        1\n",
      "115        1\n",
      "127        1\n",
      "Name: product_id, Length: 90, dtype: int64\n"
     ]
    }
   ],
   "source": [
    "# Agrupar por user_id y contar el número de órdenes únicas\n",
    "articulos_en_un_pedido = df_order_products.groupby('order_id')['product_id'].nunique()\n",
    "print(\"El mínimo número de articulos en una orden fue:\", articulos_en_un_pedido.min())\n",
    "print(\"El máximo número de articulos en una orden fue:\",articulos_en_un_pedido.max())\n",
    "print(articulos_en_un_pedido.value_counts().sort_index())"
   ]
  },
  {
   "cell_type": "code",
   "execution_count": 49,
   "id": "sensitive-breathing",
   "metadata": {
    "id": "sensitive-breathing"
   },
   "outputs": [
    {
     "data": {
      "image/png": "[encoded data removed]",
      "text/plain": [
       "<Figure size 3600x576 with 1 Axes>"
      ]
     },
     "metadata": {
      "needs_background": "light"
     },
     "output_type": "display_data"
    }
   ],
   "source": [
    "articulos_en_un_pedido.plot(kind='hist', \n",
    "                         bins=127, \n",
    "                         color='blue', \n",
    "                         edgecolor='black',  \n",
    "                         figsize=(50, 8),\n",
    "                         xticks=range(127),\n",
    "                         title='Distribución de productos en una orden')\n",
    "plt.xlabel('Número de articulos por pedido')\n",
    "plt.ylabel('Frecuencia')\n",
    "plt.show()"
   ]
  },
  {
   "cell_type": "markdown",
   "id": "50f478b9",
   "metadata": {
    "id": "completed-frank"
   },
   "source": [
    "<div class=\"alert alert-block alert-success\">\n",
    "<b>Comentario del revisor. (Iteración 1)</b> <a class=\"tocSkip\"></a>\n",
    "\n",
    "Nuevamente perfecto Joselyn, impresionante, vienes muy bien! Felicitaciones   "
   ]
  },
  {
   "cell_type": "markdown",
   "id": "designed-mortality",
   "metadata": {
    "id": "designed-mortality"
   },
   "source": [
    "Escribe aquí tus conclusiones\n",
    "1. La mayor parte de las ordenes contienen 5 articulos por pedidos. Después de este número, la cantidad de articulos por pedidos va disminuyendo. "
   ]
  },
  {
   "cell_type": "markdown",
   "id": "5e6b5537",
   "metadata": {
    "id": "5e6b5537"
   },
   "source": [
    "### [C2] ¿Cuáles son los 20 principales artículos que vuelven a pedirse con mayor frecuencia (muestra sus nombres e IDs de los productos)?"
   ]
  },
  {
   "cell_type": "code",
   "execution_count": 50,
   "id": "9374e55a",
   "metadata": {
    "id": "9374e55a"
   },
   "outputs": [],
   "source": [
    "# Filtrarmos las filas donde 'reordered' es igual a 1.\n",
    "filtered_df = df_order_products[df_order_products['reordered'] == 1]\n",
    "\n",
    "# Agrupamos por 'product_id' y contamos las ocurrencias del 'order_id'\n",
    "reorder_product_per_order = filtered_df.groupby('product_id')['order_id'].nunique().sort_values(ascending=False)"
   ]
  },
  {
   "cell_type": "code",
   "execution_count": 51,
   "id": "possible-change",
   "metadata": {
    "id": "possible-change",
    "scrolled": true
   },
   "outputs": [],
   "source": [
    "#Agrupamos por product_id y contamos el número de órdenes únicas\n",
    "reorder_top_20= reorder_product_per_order.head(20)\n",
    "reorder_top_20_df = reorder_top_20.reset_index()\n",
    "reorder_top_20_df.columns = ['product_id', 'count']"
   ]
  },
  {
   "cell_type": "code",
   "execution_count": 52,
   "id": "professional-surfing",
   "metadata": {
    "id": "professional-surfing",
    "scrolled": true
   },
   "outputs": [
    {
     "name": "stdout",
     "output_type": "stream",
     "text": [
      "    product_id              product_name\n",
      "0        24852                    BANANA\n",
      "1        13176    BAG OF ORGANIC BANANAS\n",
      "2        21137      ORGANIC STRAWBERRIES\n",
      "3        21903      ORGANIC BABY SPINACH\n",
      "4        47209      ORGANIC HASS AVOCADO\n",
      "5        47766           ORGANIC AVOCADO\n",
      "6        27845        ORGANIC WHOLE MILK\n",
      "7        47626               LARGE LEMON\n",
      "8        27966       ORGANIC RASPBERRIES\n",
      "9        16797              STRAWBERRIES\n",
      "10       26209                     LIMES\n",
      "11       22935      ORGANIC YELLOW ONION\n",
      "12       24964            ORGANIC GARLIC\n",
      "13       45007          ORGANIC ZUCCHINI\n",
      "14       49683            CUCUMBER KIRBY\n",
      "15       28204        ORGANIC FUJI APPLE\n",
      "16        8277  APPLE HONEYCRISP ORGANIC\n",
      "17       39275       ORGANIC BLUEBERRIES\n",
      "18        5876             ORGANIC LEMON\n",
      "19       49235       ORGANIC HALF & HALF\n"
     ]
    }
   ],
   "source": [
    "# Fusionamos nuestra lista reorder_top_20_df con product_name_by_id esta lista fue en previas ocasiones para poder saber el nombre de los productos de acuerdo con su id, y aqui la volvemos a usar.\n",
    "reorder_list_top_20 = reorder_top_20_df.merge(product_name_by_id, \n",
    "                                              left_on='product_id', \n",
    "                                              right_index=True,\n",
    "                                              how='left')\n",
    "reorder_list_top_20.drop(columns=['count'], inplace=True)\n",
    "print(reorder_list_top_20)"
   ]
  },
  {
   "cell_type": "markdown",
   "id": "8e377fd7",
   "metadata": {
    "id": "48dd3658"
   },
   "source": [
    "<div class=\"alert alert-block alert-success\">\n",
    "<b>Comentario del revisor. (Iteración 1)</b> <a class=\"tocSkip\"></a>\n",
    "\n",
    "Aquí si lo hemos calculado perfectamente! Bien hecho!"
   ]
  },
  {
   "cell_type": "markdown",
   "id": "80e70c74",
   "metadata": {
    "id": "80e70c74"
   },
   "source": [
    "Escribe aquí tus conclusiones\n",
    "\n",
    "1.  Los productos que figuran en esta lista han sido comprados por los clientes en más de una ocasión, lo que sugiere que los clientes están satisfechos con la calidad o el valor de estos productos y optan por volver a comprarlos.\n",
    "\n",
    "2.  La presencia de productos orgánicos en la lista sugiere que los clientes que compran este tipo de productos tienen una preferencia clara por ellos y tienden a reordenarlos con frecuencia. Esto puede indicar una fidelidad a la marca o al tipo de producto."
   ]
  },
  {
   "cell_type": "markdown",
   "id": "9d312b14",
   "metadata": {
    "id": "9d312b14"
   },
   "source": [
    "   ### [C3] Para cada producto, ¿cuál es la proporción de las veces que se pide y que se vuelve a pedir?"
   ]
  },
  {
   "cell_type": "code",
   "execution_count": 53,
   "id": "8ae9f4b1",
   "metadata": {
    "id": "8ae9f4b1"
   },
   "outputs": [
    {
     "name": "stdout",
     "output_type": "stream",
     "text": [
      "       product_id  count  reorder_count  reorder_%\n",
      "0           24852  66050        55763.0   0.844254\n",
      "1           13176  53297        44450.0   0.834006\n",
      "2           21137  37039        28639.0   0.773212\n",
      "3           21903  33971        26233.0   0.772217\n",
      "4           47209  29773        23629.0   0.793639\n",
      "...           ...    ...            ...        ...\n",
      "45568        5836      1            1.0   1.000000\n",
      "45569       43573      1            0.0   0.000000\n",
      "45570       43570      1            0.0   0.000000\n",
      "45571       36174      1            0.0   0.000000\n",
      "45572       41403      1            0.0   0.000000\n",
      "\n",
      "[45573 rows x 4 columns]\n"
     ]
    }
   ],
   "source": [
    "# Para cada producto de nuestro set de datos o de nuestra lista de arriba ?\n",
    "\n",
    "# Lista del número total de pedidos por producto (anteriormente creado). Convertir a un dataframe.\n",
    "#print(product_per_order)\n",
    "df1 = product_per_order.reset_index()\n",
    "df1.columns = ['product_id', 'count']\n",
    "\n",
    "# Lista del número de repeticiones de pedido por producto (anteriormente creado). Convertir a un dataframe.\n",
    "#print(reorder_product_per_order)\n",
    "df2 = reorder_product_per_order.reset_index()\n",
    "df2.columns = ['product_id', 'reorder_count']\n",
    "\n",
    "\n",
    "# Fusionamos nuestra lista df1 con df2 para poder tener los datos de todos los productos en un solo data frame.\n",
    "df1_merge_df2 = df1.merge(df2, \n",
    "                          on='product_id', \n",
    "                          how='outer')\n",
    "\n",
    "# Corregimos los valores ausentes\n",
    "df1_merge_df2['reorder_count'].fillna(0,inplace=True)\n",
    "\n",
    "# Creamos una nueva columa llamada 'reorder_%' la cual devuelve la proporcion\n",
    "# de las veces que se pide y se vuelve a pedir cada producto.\n",
    "df1_merge_df2['reorder_%'] = df1_merge_df2['reorder_count'] / df1_merge_df2['count']\n",
    "print(df1_merge_df2)\n"
   ]
  },
  {
   "cell_type": "markdown",
   "id": "I10dEIAyldcO",
   "metadata": {
    "id": "I10dEIAyldcO"
   },
   "source": [
    "Escribe aquí tus conclusiones\n",
    "1. Esta lista da un analisis completo ya que muestra por cada producto el porcentaje que se vuelve a pedir el producto. Muy importante para poder analizar la satisfaccion que tiene el cliente con este producto."
   ]
  },
  {
   "cell_type": "markdown",
   "id": "1b8bfee6",
   "metadata": {},
   "source": [
    "<div class=\"alert alert-block alert-success\">\n",
    "<b>Comentario del revisor. (Iteración 1)</b> <a class=\"tocSkip\"></a>\n",
    "\n",
    "Excelente forma de resolverlo joselyn, impresionante! Si deseas, puedes ver esta forma que te compartiré, podríamos resolver este mismo caso en una única línea de código, una vez mergeamos los dataframes podríamos calcular dicha proporción de la sigueinte forma:\n",
    "    \n",
    "    pd.DataFrame(df_merged.groupby(\"product_id\")[\"reordered\"].mean()).reset_index()"
   ]
  },
  {
   "cell_type": "markdown",
   "id": "subject-boxing",
   "metadata": {
    "id": "subject-boxing"
   },
   "source": [
    "### [C4] Para cada cliente, ¿qué proporción de sus productos ya los había pedido?"
   ]
  },
  {
   "cell_type": "code",
   "execution_count": 54,
   "id": "medical-couple",
   "metadata": {
    "id": "medical-couple",
    "scrolled": true
   },
   "outputs": [],
   "source": [
    "# Selecciona solamente las columnas a utilizar en df_orders.\n",
    "df_orders_temp = df_orders[['order_id','user_id']].sort_values(by='order_id').reset_index()\n",
    "df_orders_temp.drop(columns=['index'], inplace=True)\n",
    "\n",
    "# Selecciona solamente las columnas a utilizar en df_order_products.\n",
    "df_op_temp = df_order_products[['order_id', 'product_id','reordered']].sort_values(by='order_id').reset_index()\n",
    "df_op_temp.drop(columns=['index'], inplace=True)\n"
   ]
  },
  {
   "cell_type": "code",
   "execution_count": 55,
   "id": "8892e4b4",
   "metadata": {
    "id": "8892e4b4"
   },
   "outputs": [
    {
     "name": "stdout",
     "output_type": "stream",
     "text": [
      "user_id\n",
      "2         0.040000\n",
      "4         0.000000\n",
      "5         0.666667\n",
      "6         0.000000\n",
      "7         0.923077\n",
      "            ...   \n",
      "206203    0.222222\n",
      "206206    0.705882\n",
      "206207    0.848485\n",
      "206208    0.612500\n",
      "206209    0.320000\n",
      "Name: product_id, Length: 149626, dtype: float64\n"
     ]
    }
   ],
   "source": [
    "# Fusionamos las tablas en función de la columna 'order_id'\n",
    "merged_7 = df_orders_temp.merge(df_op_temp, on='order_id')\n",
    "\n",
    "# Calculamos el número total de productos que cada usuario ha pedido\n",
    "total_products_per_user = merged_7.groupby('user_id')['product_id'].nunique()\n",
    "\n",
    "# Calculamos el número de productos reordenados por cada usuario\n",
    "reordered_products_per_user = merged_7[merged_7['reordered'] == 1].groupby('user_id')['product_id'].nunique()\n",
    "\n",
    "# Calculamos la proporción de productos reordenados para cada usuario\n",
    "reorder_ratio_per_user = reordered_products_per_user / total_products_per_user\n",
    "reorder_ratio_per_user.fillna(0, inplace=True)\n",
    "print(reorder_ratio_per_user)"
   ]
  },
  {
   "cell_type": "markdown",
   "id": "2e63d17c",
   "metadata": {},
   "source": [
    "<div class=\"alert alert-block alert-success\">\n",
    "<b>Comentario del revisor. (Iteración 1)</b> <a class=\"tocSkip\"></a>\n",
    "\n",
    "Mismo caso que el anterior, lo has resuelto muy bien, ahora sobre **user_id**, excelente Joselyn! Nuevamente podríamos aplicar la alternativa que te comente arriba pero agrupando por user_id"
   ]
  },
  {
   "cell_type": "markdown",
   "id": "BgJSvXDsleXz",
   "metadata": {
    "id": "BgJSvXDsleXz"
   },
   "source": [
    "Escribe aquí tus conclusiones"
   ]
  },
  {
   "cell_type": "markdown",
   "id": "fc824ad5",
   "metadata": {},
   "source": [
    "<div class=\"alert alert-block alert-warning\">\n",
    "<b>Comentario del revisor. (Iteración 1)</b> <a class=\"tocSkip\"></a>\n",
    "\n",
    "Ups, seguro se nos olvido, recordemos dejar nuestras conclusiones!"
   ]
  },
  {
   "cell_type": "markdown",
   "id": "92d35137",
   "metadata": {
    "id": "92d35137"
   },
   "source": [
    "### [C5] ¿Cuáles son los 20 principales artículos que las personas ponen primero en sus carritos?"
   ]
  },
  {
   "cell_type": "code",
   "execution_count": 56,
   "id": "0ae57274",
   "metadata": {
    "id": "0ae57274",
    "scrolled": true
   },
   "outputs": [
    {
     "name": "stdout",
     "output_type": "stream",
     "text": [
      "Los 20 principales artículos que las personas ponen primero en sus carritos son:\n",
      "\n",
      "    product_id  count                 product_name\n",
      "0        24852  15562                       BANANA\n",
      "1        13176  11026       BAG OF ORGANIC BANANAS\n",
      "2        27845   4363           ORGANIC WHOLE MILK\n",
      "3        21137   3946         ORGANIC STRAWBERRIES\n",
      "4        47209   3390         ORGANIC HASS AVOCADO\n",
      "5        21903   3336         ORGANIC BABY SPINACH\n",
      "6        47766   3044              ORGANIC AVOCADO\n",
      "7        19660   2336                 SPRING WATER\n",
      "8        16797   2308                 STRAWBERRIES\n",
      "9        27966   2024          ORGANIC RASPBERRIES\n",
      "10       44632   1914   SPARKLING WATER GRAPEFRUIT\n",
      "11       49235   1797          ORGANIC HALF & HALF\n",
      "12       47626   1737                  LARGE LEMON\n",
      "13         196   1733                         SODA\n",
      "14       38689   1397     ORGANIC REDUCED FAT MILK\n",
      "15       26209   1370                        LIMES\n",
      "16       12341   1340                HASS AVOCADOS\n",
      "17        5785   1310  ORGANIC REDUCED FAT 2% MILK\n",
      "18       27086   1309                  HALF & HALF\n",
      "19       22935   1246         ORGANIC YELLOW ONION\n"
     ]
    }
   ],
   "source": [
    "# Filtrarmos las filas donde el producto se agregó primero al carrito\n",
    "first_in_cart = df_order_products[df_order_products['add_to_cart_order'] == 1]\n",
    "\n",
    "# Contamos la frecuencia de cada producto de nuestro filtrado\n",
    "top_first_in_cart = first_in_cart['product_id'].value_counts().head(20).reset_index()\n",
    "top_first_in_cart.columns = ['product_id', 'count']\n",
    "top_first_top_20 = top_first_in_cart.merge(product_name_by_id, \n",
    "                                              left_on='product_id', \n",
    "                                              right_index=True,\n",
    "                                              how='left')\n",
    "#reorder_list_top_20.drop(columns=['count'], inplace=True)\n",
    "print(\"Los 20 principales artículos que las personas ponen primero en sus carritos son:\")\n",
    "print()\n",
    "print(top_first_top_20)\n"
   ]
  },
  {
   "cell_type": "markdown",
   "id": "28ce9872",
   "metadata": {
    "id": "28ce9872"
   },
   "source": [
    "Escribe aquí tus conclusiones\n",
    "\n",
    "1. Sorprendentemente la banana sigue siendo el primer articulo en la lista. Gran parte de estos productos son frutas. Importante parte para el correcto balance de una dieta."
   ]
  },
  {
   "cell_type": "markdown",
   "id": "592925fe",
   "metadata": {},
   "source": [
    "<div class=\"alert alert-block alert-success\">\n",
    "<b>Comentario del revisor. (Iteración 1)</b> <a class=\"tocSkip\"></a>\n",
    "\n",
    "Nuevamente el cálculo de la frecuencia es correcto!"
   ]
  },
  {
   "cell_type": "markdown",
   "id": "uITbFCEoDosC",
   "metadata": {
    "id": "uITbFCEoDosC"
   },
   "source": [
    "### Conclusion general del proyecto:"
   ]
  },
  {
   "cell_type": "markdown",
   "id": "1a147cde",
   "metadata": {
    "id": "Nk-4GS7mDwqY"
   },
   "source": [
    "1. En definitiva este proyecto ha sido super largo y complejo. Espero que todo este relativamente bien. Para mi parecer el analisis que se hizo es muy aplicable a todo tipo de tiendas no solo para analizar el producto sino tambien la satisfaccion del cliente con sus patrones de compra. \n",
    "2. Sin duda la parte más compleja fue la última. Espero seguir mejorando y espero sus comentarios para poder proseguir con el siguiente sprint. "
   ]
  },
  {
   "cell_type": "markdown",
   "id": "4aa0f806",
   "metadata": {},
   "source": [
    "<div class=\"alert alert-block alert-success\">\n",
    "<b>Comentario del revisor. (Iteración 1)</b> <a class=\"tocSkip\"></a>\n",
    "\n",
    "Joselyn, has hecho un trabajo estupendo, has resuelto con creces todos los ejercicios de una muy buena manera, implementaste las lógicas correctas y los gráficos esperados, la verdad que ha sido un muy buen proyecto! Felicitaciones!"
   ]
  },
  {
   "cell_type": "code",
   "execution_count": null,
   "id": "9ba6b989",
   "metadata": {},
   "outputs": [],
   "source": []
  }
 ],
 "metadata": {
  "colab": {
   "provenance": []
  },
  "kernelspec": {
   "display_name": "Python 3 (ipykernel)",
   "language": "python",
   "name": "python3"
  },
  "language_info": {
   "codemirror_mode": {
    "name": "ipython",
    "version": 3
   },
   "file_extension": ".py",
   "mimetype": "text/x-python",
   "name": "python",
   "nbconvert_exporter": "python",
   "pygments_lexer": "ipython3",
   "version": "3.9.19"
  },
  "toc": {
   "base_numbering": 1,
   "nav_menu": {},
   "number_sections": true,
   "sideBar": true,
   "skip_h1_title": true,
   "title_cell": "Table of Contents",
   "title_sidebar": "Contents",
   "toc_cell": false,
   "toc_position": {},
   "toc_section_display": true,
   "toc_window_display": false
  },
  "vscode": {
   "interpreter": {
    "hash": "01a7be9ec63e704a62cefc5fe7a4756944464ee731be31632bdf42a4cb4688cf"
   }
  }
 },
 "nbformat": 4,
 "nbformat_minor": 5
}
