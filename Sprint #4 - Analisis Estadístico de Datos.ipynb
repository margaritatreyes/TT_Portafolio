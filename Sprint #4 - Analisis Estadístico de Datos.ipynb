{
 "cells": [
  {
   "cell_type": "markdown",
   "metadata": {},
   "source": [
    "¡Hola!\n",
    "\n",
    "Mi nombre es Tonatiuh Cruz. Me complace revisar tu proyecto hoy.\n",
    "\n",
    "Al identificar cualquier error inicialmente, simplemente los destacaré. Te animo a localizar y abordar los problemas de forma independiente como parte de tu preparación para un rol como data-scientist. En un entorno profesional, tu líder de equipo seguiría un enfoque similar. Si encuentras la tarea desafiante, proporcionaré una pista más específica en la próxima iteración.\n",
    "\n",
    "Encontrarás mis comentarios a continuación - **por favor no los muevas, modifiques o elimines**.\n",
    "\n",
    "Puedes encontrar mis comentarios en cajas verdes, amarillas o rojas como esta:\n",
    "\n",
    "<div class=\"alert alert-block alert-success\">\n",
    "<b>Comentario del revisor</b> <a class=\"tocSkip\"></a>\n",
    "\n",
    "Éxito. Todo está hecho correctamente.\n",
    "</div>\n",
    "\n",
    "<div class=\"alert alert-block alert-warning\">\n",
    "<b>Comentario del revisor</b> <a class=\"tocSkip\"></a>\n",
    "\n",
    "Observaciones. Algunas recomendaciones.\n",
    "</div>\n",
    "\n",
    "<div class=\"alert alert-block alert-danger\">\n",
    "<b>Comentario del revisor</b> <a class=\"tocSkip\"></a>\n",
    "\n",
    "Necesita corrección. El bloque requiere algunas correcciones. El trabajo no puede ser aceptado con comentarios en rojo.\n",
    "</div>\n",
    "\n",
    "Puedes responderme utilizando esto:\n",
    "\n",
    "<div class=\"alert alert-block alert-info\">\n",
    "<b>Respuesta del estudiante.</b> <a class=\"tocSkip\"></a>"
   ]
  },
  {
   "cell_type": "markdown",
   "metadata": {
    "id": "3rYiDeEH0q0f"
   },
   "source": [
    "# ¿Cuál es la mejor tarifa?\n",
    "\n",
    "Trabajas como analista para el operador de telecomunicaciones Megaline. La empresa ofrece a sus clientes dos tarifas de prepago, Surf y Ultimate. El departamento comercial quiere saber cuál de las tarifas genera más ingresos para poder ajustar el presupuesto de publicidad.\n",
    "\n",
    "Vas a realizar un análisis preliminar de las tarifas basado en una selección de clientes relativamente pequeña. Tendrás los datos de 500 clientes de Megaline: quiénes son los clientes, de dónde son, qué tarifa usan, así como la cantidad de llamadas que hicieron y los mensajes de texto que enviaron en 2018. Tu trabajo es analizar el comportamiento de los clientes y determinar qué tarifa de prepago genera más ingresos."
   ]
  },
  {
   "cell_type": "markdown",
   "metadata": {
    "id": "VNddPNRQ0q0w"
   },
   "source": [
    "\n",
    "[Antes de sumergirte en el análisis de datos, explica por tu propia cuenta el propósito del proyecto y las acciones que planeas realizar.]\n",
    "\n",
    "\n",
    "\n",
    "1. Espero poner en practica todo lo aprendido, estoy bastante nerviosa en la parte de estadistica porque siento que no lo comprendi lo suficientemente bien, pero espero que este proyecto me ayude aclarar dudas del tema. \n",
    "\n",
    "\n",
    "\n",
    "\n",
    "\n",
    "[Ten en cuenta que estudiar, modificar y analizar datos es un proceso iterativo. Es normal volver a los pasos anteriores y corregirlos/ampliarlos para permitir nuevos pasos.]"
   ]
  },
  {
   "cell_type": "markdown",
   "metadata": {
    "id": "MQi4IPy70q0y"
   },
   "source": [
    "## Inicialización"
   ]
  },
  {
   "cell_type": "code",
   "execution_count": 1,
   "metadata": {
    "id": "MtYIuBxu0q0z"
   },
   "outputs": [
    {
     "data": {
      "text/plain": [
       "'/home/jovyan/work'"
      ]
     },
     "execution_count": 1,
     "metadata": {},
     "output_type": "execute_result"
    }
   ],
   "source": [
    "# Cargar todas las librerías\n",
    "import pandas as pd\n",
    "import matplotlib.pyplot as plt\n",
    "import seaborn as sns\n",
    "import numpy as np\n",
    "from scipy.stats import ttest_ind, levene\n",
    "import os                            \n",
    "\n",
    "os.getcwd() "
   ]
  },
  {
   "cell_type": "markdown",
   "metadata": {
    "id": "4ysWWC5i0q00"
   },
   "source": [
    "## Cargar datos"
   ]
  },
  {
   "cell_type": "code",
   "execution_count": 2,
   "metadata": {
    "id": "CCqPW7rS0q01"
   },
   "outputs": [],
   "source": [
    "# Carga los archivos de datos en diferentes DataFrames\n",
    "megaline_calls = pd.read_csv('/home/jovyan/work/Sprint4/megaline_calls.csv')\n",
    "megaline_internet = pd.read_csv('/home/jovyan/work/Sprint4/megaline_internet.csv')\n",
    "megaline_messages = pd.read_csv('/home/jovyan/work/Sprint4/megaline_messages.csv')\n",
    "megaline_plans = pd.read_csv('/home/jovyan/work/Sprint4/megaline_plans.csv')\n",
    "megaline_users = pd.read_csv('/home/jovyan/work/Sprint4/megaline_users.csv')"
   ]
  },
  {
   "cell_type": "markdown",
   "metadata": {
    "id": "69qqoJ3r0q01"
   },
   "source": [
    "## Preparar los datos"
   ]
  },
  {
   "cell_type": "code",
   "execution_count": 3,
   "metadata": {},
   "outputs": [],
   "source": [
    "#Redondear las llamadas hacia arriba.\n",
    "megaline_calls['duration'] =  megaline_calls['duration'].apply(np.ceil)\n",
    "\n",
    "#Redondear las megabytes hacia arriba.\n",
    "megaline_internet['mb_used'] = megaline_internet['mb_used'].apply(np.ceil)\n",
    "\n"
   ]
  },
  {
   "cell_type": "markdown",
   "metadata": {
    "id": "ohBhimvH0q01"
   },
   "source": [
    "## Tarifas"
   ]
  },
  {
   "cell_type": "code",
   "execution_count": 4,
   "metadata": {
    "id": "GptqP3Q40q02"
   },
   "outputs": [
    {
     "name": "stdout",
     "output_type": "stream",
     "text": [
      "<class 'pandas.core.frame.DataFrame'>\n",
      "RangeIndex: 2 entries, 0 to 1\n",
      "Data columns (total 8 columns):\n",
      " #   Column                 Non-Null Count  Dtype  \n",
      "---  ------                 --------------  -----  \n",
      " 0   messages_included      2 non-null      int64  \n",
      " 1   mb_per_month_included  2 non-null      int64  \n",
      " 2   minutes_included       2 non-null      int64  \n",
      " 3   usd_monthly_pay        2 non-null      int64  \n",
      " 4   usd_per_gb             2 non-null      int64  \n",
      " 5   usd_per_message        2 non-null      float64\n",
      " 6   usd_per_minute         2 non-null      float64\n",
      " 7   plan_name              2 non-null      object \n",
      "dtypes: float64(2), int64(5), object(1)\n",
      "memory usage: 256.0+ bytes\n"
     ]
    }
   ],
   "source": [
    "# Imprime la información general/resumida sobre el DataFrame de las tarifas\n",
    "megaline_plans.info()\n"
   ]
  },
  {
   "cell_type": "code",
   "execution_count": 5,
   "metadata": {
    "id": "64xzjwL70q02"
   },
   "outputs": [
    {
     "data": {
      "text/html": [
       "<div>\n",
       "<style scoped>\n",
       "    .dataframe tbody tr th:only-of-type {\n",
       "        vertical-align: middle;\n",
       "    }\n",
       "\n",
       "    .dataframe tbody tr th {\n",
       "        vertical-align: top;\n",
       "    }\n",
       "\n",
       "    .dataframe thead th {\n",
       "        text-align: right;\n",
       "    }\n",
       "</style>\n",
       "<table border=\"1\" class=\"dataframe\">\n",
       "  <thead>\n",
       "    <tr style=\"text-align: right;\">\n",
       "      <th></th>\n",
       "      <th>messages_included</th>\n",
       "      <th>mb_per_month_included</th>\n",
       "      <th>minutes_included</th>\n",
       "      <th>usd_monthly_pay</th>\n",
       "      <th>usd_per_gb</th>\n",
       "      <th>usd_per_message</th>\n",
       "      <th>usd_per_minute</th>\n",
       "      <th>plan_name</th>\n",
       "    </tr>\n",
       "  </thead>\n",
       "  <tbody>\n",
       "    <tr>\n",
       "      <th>0</th>\n",
       "      <td>50</td>\n",
       "      <td>15360</td>\n",
       "      <td>500</td>\n",
       "      <td>20</td>\n",
       "      <td>10</td>\n",
       "      <td>0.03</td>\n",
       "      <td>0.03</td>\n",
       "      <td>surf</td>\n",
       "    </tr>\n",
       "    <tr>\n",
       "      <th>1</th>\n",
       "      <td>1000</td>\n",
       "      <td>30720</td>\n",
       "      <td>3000</td>\n",
       "      <td>70</td>\n",
       "      <td>7</td>\n",
       "      <td>0.01</td>\n",
       "      <td>0.01</td>\n",
       "      <td>ultimate</td>\n",
       "    </tr>\n",
       "  </tbody>\n",
       "</table>\n",
       "</div>"
      ],
      "text/plain": [
       "   messages_included  mb_per_month_included  minutes_included  \\\n",
       "0                 50                  15360               500   \n",
       "1               1000                  30720              3000   \n",
       "\n",
       "   usd_monthly_pay  usd_per_gb  usd_per_message  usd_per_minute plan_name  \n",
       "0               20          10             0.03            0.03      surf  \n",
       "1               70           7             0.01            0.01  ultimate  "
      ]
     },
     "metadata": {},
     "output_type": "display_data"
    }
   ],
   "source": [
    "# Imprime una muestra de los datos para las tarifas\n",
    "display(megaline_plans.head())\n"
   ]
  },
  {
   "cell_type": "markdown",
   "metadata": {},
   "source": [
    "La tabla **megaline_plans** contiene 8 columnas, todos los nombres siguen las buenas practicas. Tenemos 2 datos. No existen valores ausentes.\n",
    "\n",
    "- messages_included: tipo int64, no parece tener problemas.\n",
    "- mb_per_month_included: tipo int64, no parece tener problemas.\n",
    "- minutes_included: tipo int64, no parece tener problemas.\n",
    "- usd_monthly_pay: tipo int64,  parece tener problemas deberia ser float64 porque la moneda si carga decimal.\n",
    "- usd_per_gb: tipo int64, parece tener problemas deberia ser float64 porque la moneda si carga decimal.\n",
    "- usd_per_message: tipo float64, no parece tener problemas.\n",
    "- usd_per_minute: tipo float64, no parece tener problemas.\n",
    "- plan_name: tipo object, no parece tener problemas.\n"
   ]
  },
  {
   "cell_type": "markdown",
   "metadata": {
    "id": "R3C05i1l0q03"
   },
   "source": [
    "### Corregir datos"
   ]
  },
  {
   "cell_type": "code",
   "execution_count": 6,
   "metadata": {},
   "outputs": [],
   "source": [
    "## Convertir los usd_monthly_pay y usd_per_gb de int64 a float64\n",
    "megaline_plans['usd_monthly_pay'] = megaline_plans['usd_monthly_pay'].astype('float64')\n",
    "megaline_plans['usd_per_gb'] = megaline_plans['usd_per_gb'].astype('float64')\n",
    "\n"
   ]
  },
  {
   "cell_type": "markdown",
   "metadata": {
    "id": "LJir7bml0q03"
   },
   "source": [
    "### Enriquecer los datos"
   ]
  },
  {
   "cell_type": "code",
   "execution_count": 7,
   "metadata": {
    "id": "gfcIEuXV0q04"
   },
   "outputs": [
    {
     "data": {
      "text/html": [
       "<div>\n",
       "<style scoped>\n",
       "    .dataframe tbody tr th:only-of-type {\n",
       "        vertical-align: middle;\n",
       "    }\n",
       "\n",
       "    .dataframe tbody tr th {\n",
       "        vertical-align: top;\n",
       "    }\n",
       "\n",
       "    .dataframe thead th {\n",
       "        text-align: right;\n",
       "    }\n",
       "</style>\n",
       "<table border=\"1\" class=\"dataframe\">\n",
       "  <thead>\n",
       "    <tr style=\"text-align: right;\">\n",
       "      <th></th>\n",
       "      <th>plan</th>\n",
       "      <th>minutes_included</th>\n",
       "      <th>messages_included</th>\n",
       "      <th>mb_per_month_included</th>\n",
       "      <th>gb_per_month_included</th>\n",
       "      <th>usd_monthly_pay</th>\n",
       "      <th>usd_per_minute</th>\n",
       "      <th>usd_per_message</th>\n",
       "      <th>usd_per_gb</th>\n",
       "    </tr>\n",
       "  </thead>\n",
       "  <tbody>\n",
       "    <tr>\n",
       "      <th>0</th>\n",
       "      <td>surf</td>\n",
       "      <td>500</td>\n",
       "      <td>50</td>\n",
       "      <td>15360</td>\n",
       "      <td>15.0</td>\n",
       "      <td>20.0</td>\n",
       "      <td>0.03</td>\n",
       "      <td>0.03</td>\n",
       "      <td>10.0</td>\n",
       "    </tr>\n",
       "    <tr>\n",
       "      <th>1</th>\n",
       "      <td>ultimate</td>\n",
       "      <td>3000</td>\n",
       "      <td>1000</td>\n",
       "      <td>30720</td>\n",
       "      <td>30.0</td>\n",
       "      <td>70.0</td>\n",
       "      <td>0.01</td>\n",
       "      <td>0.01</td>\n",
       "      <td>7.0</td>\n",
       "    </tr>\n",
       "  </tbody>\n",
       "</table>\n",
       "</div>"
      ],
      "text/plain": [
       "       plan  minutes_included  messages_included  mb_per_month_included  \\\n",
       "0      surf               500                 50                  15360   \n",
       "1  ultimate              3000               1000                  30720   \n",
       "\n",
       "   gb_per_month_included  usd_monthly_pay  usd_per_minute  usd_per_message  \\\n",
       "0                   15.0             20.0            0.03             0.03   \n",
       "1                   30.0             70.0            0.01             0.01   \n",
       "\n",
       "   usd_per_gb  \n",
       "0        10.0  \n",
       "1         7.0  "
      ]
     },
     "metadata": {},
     "output_type": "display_data"
    }
   ],
   "source": [
    "## Cambiar plan_name por solo plan para que pueda usarse a futuro con un merge\n",
    "megaline_plans.rename(columns = {'plan_name':'plan'}, inplace = True)\n",
    "\n",
    "## Agregar una columna de gb_per_month_included. Recuerda un 1GB = 1024MB\n",
    "megaline_plans['gb_per_month_included'] = megaline_plans['mb_per_month_included'] / 1024\n",
    "\n",
    "## Ordenar las columnas del dataframe\n",
    "megaline_plans = megaline_plans[['plan',\n",
    "                                 'minutes_included',\n",
    "                                 'messages_included', \n",
    "                                 'mb_per_month_included',\n",
    "                                 'gb_per_month_included',\n",
    "                                 'usd_monthly_pay',\n",
    "                                 'usd_per_minute',\n",
    "                                 'usd_per_message',\n",
    "                                 'usd_per_gb' ]]\n",
    "\n",
    "## Mostrar cambios\n",
    "display(megaline_plans.head())\n",
    "\n"
   ]
  },
  {
   "cell_type": "markdown",
   "metadata": {},
   "source": [
    "<div class=\"alert alert-block alert-success\">\n",
    "<b>Comentario del revisor</b> <a class=\"tocSkip\"></a>\n",
    "\n",
    "Muy buen trabajo!! Es correcto considerar que 1024 megabytes son 1 gigabytes.\n",
    "    \n",
    "</div>"
   ]
  },
  {
   "cell_type": "markdown",
   "metadata": {
    "id": "1n2X6WXf0q04"
   },
   "source": [
    "## Usuarios/as"
   ]
  },
  {
   "cell_type": "code",
   "execution_count": 8,
   "metadata": {
    "id": "2NgjWFqx0q05"
   },
   "outputs": [
    {
     "name": "stdout",
     "output_type": "stream",
     "text": [
      "<class 'pandas.core.frame.DataFrame'>\n",
      "RangeIndex: 500 entries, 0 to 499\n",
      "Data columns (total 8 columns):\n",
      " #   Column      Non-Null Count  Dtype \n",
      "---  ------      --------------  ----- \n",
      " 0   user_id     500 non-null    int64 \n",
      " 1   first_name  500 non-null    object\n",
      " 2   last_name   500 non-null    object\n",
      " 3   age         500 non-null    int64 \n",
      " 4   city        500 non-null    object\n",
      " 5   reg_date    500 non-null    object\n",
      " 6   plan        500 non-null    object\n",
      " 7   churn_date  34 non-null     object\n",
      "dtypes: int64(2), object(6)\n",
      "memory usage: 31.4+ KB\n"
     ]
    }
   ],
   "source": [
    "# Imprime la información general/resumida sobre el DataFrame de usuarios\n",
    "megaline_users.info()\n"
   ]
  },
  {
   "cell_type": "code",
   "execution_count": 9,
   "metadata": {
    "id": "1IN1L9uh0q05"
   },
   "outputs": [
    {
     "data": {
      "text/html": [
       "<div>\n",
       "<style scoped>\n",
       "    .dataframe tbody tr th:only-of-type {\n",
       "        vertical-align: middle;\n",
       "    }\n",
       "\n",
       "    .dataframe tbody tr th {\n",
       "        vertical-align: top;\n",
       "    }\n",
       "\n",
       "    .dataframe thead th {\n",
       "        text-align: right;\n",
       "    }\n",
       "</style>\n",
       "<table border=\"1\" class=\"dataframe\">\n",
       "  <thead>\n",
       "    <tr style=\"text-align: right;\">\n",
       "      <th></th>\n",
       "      <th>user_id</th>\n",
       "      <th>first_name</th>\n",
       "      <th>last_name</th>\n",
       "      <th>age</th>\n",
       "      <th>city</th>\n",
       "      <th>reg_date</th>\n",
       "      <th>plan</th>\n",
       "      <th>churn_date</th>\n",
       "    </tr>\n",
       "  </thead>\n",
       "  <tbody>\n",
       "    <tr>\n",
       "      <th>0</th>\n",
       "      <td>1000</td>\n",
       "      <td>Anamaria</td>\n",
       "      <td>Bauer</td>\n",
       "      <td>45</td>\n",
       "      <td>Atlanta-Sandy Springs-Roswell, GA MSA</td>\n",
       "      <td>2018-12-24</td>\n",
       "      <td>ultimate</td>\n",
       "      <td>NaN</td>\n",
       "    </tr>\n",
       "    <tr>\n",
       "      <th>1</th>\n",
       "      <td>1001</td>\n",
       "      <td>Mickey</td>\n",
       "      <td>Wilkerson</td>\n",
       "      <td>28</td>\n",
       "      <td>Seattle-Tacoma-Bellevue, WA MSA</td>\n",
       "      <td>2018-08-13</td>\n",
       "      <td>surf</td>\n",
       "      <td>NaN</td>\n",
       "    </tr>\n",
       "    <tr>\n",
       "      <th>2</th>\n",
       "      <td>1002</td>\n",
       "      <td>Carlee</td>\n",
       "      <td>Hoffman</td>\n",
       "      <td>36</td>\n",
       "      <td>Las Vegas-Henderson-Paradise, NV MSA</td>\n",
       "      <td>2018-10-21</td>\n",
       "      <td>surf</td>\n",
       "      <td>NaN</td>\n",
       "    </tr>\n",
       "    <tr>\n",
       "      <th>3</th>\n",
       "      <td>1003</td>\n",
       "      <td>Reynaldo</td>\n",
       "      <td>Jenkins</td>\n",
       "      <td>52</td>\n",
       "      <td>Tulsa, OK MSA</td>\n",
       "      <td>2018-01-28</td>\n",
       "      <td>surf</td>\n",
       "      <td>NaN</td>\n",
       "    </tr>\n",
       "    <tr>\n",
       "      <th>4</th>\n",
       "      <td>1004</td>\n",
       "      <td>Leonila</td>\n",
       "      <td>Thompson</td>\n",
       "      <td>40</td>\n",
       "      <td>Seattle-Tacoma-Bellevue, WA MSA</td>\n",
       "      <td>2018-05-23</td>\n",
       "      <td>surf</td>\n",
       "      <td>NaN</td>\n",
       "    </tr>\n",
       "  </tbody>\n",
       "</table>\n",
       "</div>"
      ],
      "text/plain": [
       "   user_id first_name  last_name  age                                   city  \\\n",
       "0     1000   Anamaria      Bauer   45  Atlanta-Sandy Springs-Roswell, GA MSA   \n",
       "1     1001     Mickey  Wilkerson   28        Seattle-Tacoma-Bellevue, WA MSA   \n",
       "2     1002     Carlee    Hoffman   36   Las Vegas-Henderson-Paradise, NV MSA   \n",
       "3     1003   Reynaldo    Jenkins   52                          Tulsa, OK MSA   \n",
       "4     1004    Leonila   Thompson   40        Seattle-Tacoma-Bellevue, WA MSA   \n",
       "\n",
       "     reg_date      plan churn_date  \n",
       "0  2018-12-24  ultimate        NaN  \n",
       "1  2018-08-13      surf        NaN  \n",
       "2  2018-10-21      surf        NaN  \n",
       "3  2018-01-28      surf        NaN  \n",
       "4  2018-05-23      surf        NaN  "
      ]
     },
     "metadata": {},
     "output_type": "display_data"
    }
   ],
   "source": [
    "# Imprime una muestra de datos para usuarios\n",
    "display(megaline_users.head())\n",
    "\n"
   ]
  },
  {
   "cell_type": "markdown",
   "metadata": {},
   "source": [
    "La tabla **megaline_users** contiene 8 columnas, todos los nombres siguen las buenas practicas. Tenemos 500 datos.  Existen valores ausentes en la columna de churn_date pero son datos irrelevantes. Solo significa que el cliente sigue usando nuestro plan. \n",
    "\n",
    "- user_id: tipo int64, deberia ser object ya que es una variable de identificación.\n",
    "- first_name: tipo object, no parece tener problemas.\n",
    "- last_name: tipo object, no parece tener problemas.\n",
    "- age: tipo int64, no parece tener problemas.\n",
    "- city: tipo object, no parece tener problemas.\n",
    "- reg_date: tipo object, deberia ser datetime.\n",
    "- plan: tipo object, no parece tener problemas.\n",
    "- churn_date: tipo object, deberia ser datetime.\n"
   ]
  },
  {
   "cell_type": "markdown",
   "metadata": {
    "id": "BX5FQh_I0q06"
   },
   "source": [
    "### Corregir los datos"
   ]
  },
  {
   "cell_type": "code",
   "execution_count": 10,
   "metadata": {
    "id": "yUqX-K0C0q07"
   },
   "outputs": [],
   "source": [
    "## Convertir los id de usuarios a object\n",
    "megaline_users['user_id'] = megaline_users['user_id'].astype('object')\n",
    "\n",
    "## Convertir las fechas a tipo datetime\n",
    "megaline_users['reg_date'] = pd.to_datetime(megaline_users['reg_date'], format='%Y-%m-%d')\n",
    "megaline_users['churn_date'] = pd.to_datetime(megaline_users['churn_date'], format='%Y-%m-%d')\n"
   ]
  },
  {
   "cell_type": "markdown",
   "metadata": {
    "id": "ycwuARJp0q07"
   },
   "source": [
    "### Enriquecer los datos"
   ]
  },
  {
   "cell_type": "code",
   "execution_count": 11,
   "metadata": {
    "id": "iq0AaBS90q08"
   },
   "outputs": [
    {
     "data": {
      "text/html": [
       "<div>\n",
       "<style scoped>\n",
       "    .dataframe tbody tr th:only-of-type {\n",
       "        vertical-align: middle;\n",
       "    }\n",
       "\n",
       "    .dataframe tbody tr th {\n",
       "        vertical-align: top;\n",
       "    }\n",
       "\n",
       "    .dataframe thead th {\n",
       "        text-align: right;\n",
       "    }\n",
       "</style>\n",
       "<table border=\"1\" class=\"dataframe\">\n",
       "  <thead>\n",
       "    <tr style=\"text-align: right;\">\n",
       "      <th></th>\n",
       "      <th>user_id</th>\n",
       "      <th>first_name</th>\n",
       "      <th>last_name</th>\n",
       "      <th>age</th>\n",
       "      <th>city</th>\n",
       "      <th>state</th>\n",
       "      <th>plan</th>\n",
       "      <th>reg_date</th>\n",
       "      <th>churn_date</th>\n",
       "    </tr>\n",
       "  </thead>\n",
       "  <tbody>\n",
       "    <tr>\n",
       "      <th>0</th>\n",
       "      <td>1000</td>\n",
       "      <td>Anamaria</td>\n",
       "      <td>Bauer</td>\n",
       "      <td>45</td>\n",
       "      <td>Atlanta-Sandy Springs-Roswell, GA MSA</td>\n",
       "      <td>GA</td>\n",
       "      <td>ultimate</td>\n",
       "      <td>2018-12-24</td>\n",
       "      <td>NaT</td>\n",
       "    </tr>\n",
       "    <tr>\n",
       "      <th>1</th>\n",
       "      <td>1001</td>\n",
       "      <td>Mickey</td>\n",
       "      <td>Wilkerson</td>\n",
       "      <td>28</td>\n",
       "      <td>Seattle-Tacoma-Bellevue, WA MSA</td>\n",
       "      <td>WA</td>\n",
       "      <td>surf</td>\n",
       "      <td>2018-08-13</td>\n",
       "      <td>NaT</td>\n",
       "    </tr>\n",
       "    <tr>\n",
       "      <th>2</th>\n",
       "      <td>1002</td>\n",
       "      <td>Carlee</td>\n",
       "      <td>Hoffman</td>\n",
       "      <td>36</td>\n",
       "      <td>Las Vegas-Henderson-Paradise, NV MSA</td>\n",
       "      <td>NV</td>\n",
       "      <td>surf</td>\n",
       "      <td>2018-10-21</td>\n",
       "      <td>NaT</td>\n",
       "    </tr>\n",
       "    <tr>\n",
       "      <th>3</th>\n",
       "      <td>1003</td>\n",
       "      <td>Reynaldo</td>\n",
       "      <td>Jenkins</td>\n",
       "      <td>52</td>\n",
       "      <td>Tulsa, OK MSA</td>\n",
       "      <td>OK</td>\n",
       "      <td>surf</td>\n",
       "      <td>2018-01-28</td>\n",
       "      <td>NaT</td>\n",
       "    </tr>\n",
       "    <tr>\n",
       "      <th>4</th>\n",
       "      <td>1004</td>\n",
       "      <td>Leonila</td>\n",
       "      <td>Thompson</td>\n",
       "      <td>40</td>\n",
       "      <td>Seattle-Tacoma-Bellevue, WA MSA</td>\n",
       "      <td>WA</td>\n",
       "      <td>surf</td>\n",
       "      <td>2018-05-23</td>\n",
       "      <td>NaT</td>\n",
       "    </tr>\n",
       "  </tbody>\n",
       "</table>\n",
       "</div>"
      ],
      "text/plain": [
       "  user_id first_name  last_name  age                                   city  \\\n",
       "0    1000   Anamaria      Bauer   45  Atlanta-Sandy Springs-Roswell, GA MSA   \n",
       "1    1001     Mickey  Wilkerson   28        Seattle-Tacoma-Bellevue, WA MSA   \n",
       "2    1002     Carlee    Hoffman   36   Las Vegas-Henderson-Paradise, NV MSA   \n",
       "3    1003   Reynaldo    Jenkins   52                          Tulsa, OK MSA   \n",
       "4    1004    Leonila   Thompson   40        Seattle-Tacoma-Bellevue, WA MSA   \n",
       "\n",
       "  state      plan   reg_date churn_date  \n",
       "0    GA  ultimate 2018-12-24        NaT  \n",
       "1    WA      surf 2018-08-13        NaT  \n",
       "2    NV      surf 2018-10-21        NaT  \n",
       "3    OK      surf 2018-01-28        NaT  \n",
       "4    WA      surf 2018-05-23        NaT  "
      ]
     },
     "metadata": {},
     "output_type": "display_data"
    }
   ],
   "source": [
    "## Agregar una columna del estado, dividiendo la cadena de city en función de la coma y seleccionando el último elemento \n",
    "megaline_users['state'] = megaline_users['city'].str.split(',').str[-1].str.strip()\n",
    "megaline_users['state'] = megaline_users['state'].str.split(' ').str[-2].str.strip()\n",
    "\n",
    "\n",
    "## Ordenar las columnas del dataframe\n",
    "megaline_users = megaline_users[['user_id',\n",
    "                                 'first_name',\n",
    "                                 'last_name', \n",
    "                                 'age',\n",
    "                                 'city',\n",
    "                                 'state',\n",
    "                                 'plan',\n",
    "                                 'reg_date',\n",
    "                                 'churn_date']]\n",
    "\n",
    "## Mostrar cambios\n",
    "display(megaline_users.head())\n"
   ]
  },
  {
   "cell_type": "markdown",
   "metadata": {
    "id": "o7MeKCid0q08"
   },
   "source": [
    "## Llamadas"
   ]
  },
  {
   "cell_type": "code",
   "execution_count": 12,
   "metadata": {
    "id": "6dDlnoDm0q08"
   },
   "outputs": [
    {
     "name": "stdout",
     "output_type": "stream",
     "text": [
      "<class 'pandas.core.frame.DataFrame'>\n",
      "RangeIndex: 137735 entries, 0 to 137734\n",
      "Data columns (total 4 columns):\n",
      " #   Column     Non-Null Count   Dtype  \n",
      "---  ------     --------------   -----  \n",
      " 0   id         137735 non-null  object \n",
      " 1   user_id    137735 non-null  int64  \n",
      " 2   call_date  137735 non-null  object \n",
      " 3   duration   137735 non-null  float64\n",
      "dtypes: float64(1), int64(1), object(2)\n",
      "memory usage: 4.2+ MB\n"
     ]
    }
   ],
   "source": [
    "# Imprime la información general/resumida sobre el DataFrame de las llamadas\n",
    "megaline_calls.info()\n"
   ]
  },
  {
   "cell_type": "code",
   "execution_count": 13,
   "metadata": {
    "id": "kuh1vlNB0q09"
   },
   "outputs": [
    {
     "data": {
      "text/html": [
       "<div>\n",
       "<style scoped>\n",
       "    .dataframe tbody tr th:only-of-type {\n",
       "        vertical-align: middle;\n",
       "    }\n",
       "\n",
       "    .dataframe tbody tr th {\n",
       "        vertical-align: top;\n",
       "    }\n",
       "\n",
       "    .dataframe thead th {\n",
       "        text-align: right;\n",
       "    }\n",
       "</style>\n",
       "<table border=\"1\" class=\"dataframe\">\n",
       "  <thead>\n",
       "    <tr style=\"text-align: right;\">\n",
       "      <th></th>\n",
       "      <th>id</th>\n",
       "      <th>user_id</th>\n",
       "      <th>call_date</th>\n",
       "      <th>duration</th>\n",
       "    </tr>\n",
       "  </thead>\n",
       "  <tbody>\n",
       "    <tr>\n",
       "      <th>0</th>\n",
       "      <td>1000_93</td>\n",
       "      <td>1000</td>\n",
       "      <td>2018-12-27</td>\n",
       "      <td>9.0</td>\n",
       "    </tr>\n",
       "    <tr>\n",
       "      <th>1</th>\n",
       "      <td>1000_145</td>\n",
       "      <td>1000</td>\n",
       "      <td>2018-12-27</td>\n",
       "      <td>14.0</td>\n",
       "    </tr>\n",
       "    <tr>\n",
       "      <th>2</th>\n",
       "      <td>1000_247</td>\n",
       "      <td>1000</td>\n",
       "      <td>2018-12-27</td>\n",
       "      <td>15.0</td>\n",
       "    </tr>\n",
       "    <tr>\n",
       "      <th>3</th>\n",
       "      <td>1000_309</td>\n",
       "      <td>1000</td>\n",
       "      <td>2018-12-28</td>\n",
       "      <td>6.0</td>\n",
       "    </tr>\n",
       "    <tr>\n",
       "      <th>4</th>\n",
       "      <td>1000_380</td>\n",
       "      <td>1000</td>\n",
       "      <td>2018-12-30</td>\n",
       "      <td>5.0</td>\n",
       "    </tr>\n",
       "  </tbody>\n",
       "</table>\n",
       "</div>"
      ],
      "text/plain": [
       "         id  user_id   call_date  duration\n",
       "0   1000_93     1000  2018-12-27       9.0\n",
       "1  1000_145     1000  2018-12-27      14.0\n",
       "2  1000_247     1000  2018-12-27      15.0\n",
       "3  1000_309     1000  2018-12-28       6.0\n",
       "4  1000_380     1000  2018-12-30       5.0"
      ]
     },
     "metadata": {},
     "output_type": "display_data"
    }
   ],
   "source": [
    "# Imprime una muestra de datos para las llamadas\n",
    "display(megaline_calls.head())\n",
    "\n"
   ]
  },
  {
   "cell_type": "markdown",
   "metadata": {},
   "source": [
    "La tabla **megaline_calls** contiene 4 columnas, todos los nombres siguen las buenas practicas. Tenemos 137735 datos. No existen valores ausentes.\n",
    "\n",
    "- id: tipo object, no parece tener problemas.\n",
    "- user_id: tipo int64, deberia ser object ya que es una variable de identificación.\n",
    "- call_date: tipo object, deberia ser datetime.\n",
    "- duration: tipo float64, deberia ser int64 ya que no se cuentan los segundos."
   ]
  },
  {
   "cell_type": "markdown",
   "metadata": {
    "id": "S7hzxmbX0q0-"
   },
   "source": [
    "### Corregir los datos"
   ]
  },
  {
   "cell_type": "markdown",
   "metadata": {
    "id": "YxWyAjD20q0-"
   },
   "source": [
    "[Corrige los problemas obvios con los datos basándote en las observaciones iniciales.]"
   ]
  },
  {
   "cell_type": "code",
   "execution_count": 14,
   "metadata": {
    "id": "S2r8xA4f0q0-"
   },
   "outputs": [],
   "source": [
    "## Convertir los id de usuarios a object\n",
    "megaline_calls['user_id'] = megaline_calls['user_id'].astype('object')\n",
    "\n",
    "## Convertir las fechas a tipo datetime\n",
    "megaline_calls['call_date'] = pd.to_datetime(megaline_calls['call_date'], format = '%Y-%m-%d')\n",
    "\n",
    "## Convertir la duracion de los minutos de en enteros int64 aplicando la funcion de ceil en la columna duration\n",
    "megaline_calls['duration'] = np.ceil(megaline_calls['duration']).astype('int64')\n"
   ]
  },
  {
   "cell_type": "markdown",
   "metadata": {
    "id": "KrMgTrlG0q0_"
   },
   "source": [
    "### Enriquecer los datos"
   ]
  },
  {
   "cell_type": "markdown",
   "metadata": {
    "id": "a9MbmEvE0q0_"
   },
   "source": [
    "[Agrega factores adicionales a los datos si crees que pudieran ser útiles.]"
   ]
  },
  {
   "cell_type": "code",
   "execution_count": 15,
   "metadata": {
    "id": "iZ1avpA_0q0_",
    "scrolled": true
   },
   "outputs": [
    {
     "data": {
      "text/html": [
       "<div>\n",
       "<style scoped>\n",
       "    .dataframe tbody tr th:only-of-type {\n",
       "        vertical-align: middle;\n",
       "    }\n",
       "\n",
       "    .dataframe tbody tr th {\n",
       "        vertical-align: top;\n",
       "    }\n",
       "\n",
       "    .dataframe thead th {\n",
       "        text-align: right;\n",
       "    }\n",
       "</style>\n",
       "<table border=\"1\" class=\"dataframe\">\n",
       "  <thead>\n",
       "    <tr style=\"text-align: right;\">\n",
       "      <th></th>\n",
       "      <th>user_id</th>\n",
       "      <th>call_id</th>\n",
       "      <th>call_date</th>\n",
       "      <th>month</th>\n",
       "      <th>call_duration</th>\n",
       "    </tr>\n",
       "  </thead>\n",
       "  <tbody>\n",
       "    <tr>\n",
       "      <th>0</th>\n",
       "      <td>1000</td>\n",
       "      <td>1000_93</td>\n",
       "      <td>2018-12-27</td>\n",
       "      <td>12</td>\n",
       "      <td>9</td>\n",
       "    </tr>\n",
       "    <tr>\n",
       "      <th>1</th>\n",
       "      <td>1000</td>\n",
       "      <td>1000_145</td>\n",
       "      <td>2018-12-27</td>\n",
       "      <td>12</td>\n",
       "      <td>14</td>\n",
       "    </tr>\n",
       "    <tr>\n",
       "      <th>2</th>\n",
       "      <td>1000</td>\n",
       "      <td>1000_247</td>\n",
       "      <td>2018-12-27</td>\n",
       "      <td>12</td>\n",
       "      <td>15</td>\n",
       "    </tr>\n",
       "    <tr>\n",
       "      <th>3</th>\n",
       "      <td>1000</td>\n",
       "      <td>1000_309</td>\n",
       "      <td>2018-12-28</td>\n",
       "      <td>12</td>\n",
       "      <td>6</td>\n",
       "    </tr>\n",
       "    <tr>\n",
       "      <th>4</th>\n",
       "      <td>1000</td>\n",
       "      <td>1000_380</td>\n",
       "      <td>2018-12-30</td>\n",
       "      <td>12</td>\n",
       "      <td>5</td>\n",
       "    </tr>\n",
       "  </tbody>\n",
       "</table>\n",
       "</div>"
      ],
      "text/plain": [
       "  user_id   call_id  call_date  month  call_duration\n",
       "0    1000   1000_93 2018-12-27     12              9\n",
       "1    1000  1000_145 2018-12-27     12             14\n",
       "2    1000  1000_247 2018-12-27     12             15\n",
       "3    1000  1000_309 2018-12-28     12              6\n",
       "4    1000  1000_380 2018-12-30     12              5"
      ]
     },
     "metadata": {},
     "output_type": "display_data"
    }
   ],
   "source": [
    "## Renombrar la columna de id & duration \n",
    "megaline_calls.rename(columns={'id': 'call_id',\n",
    "                              'duration': 'call_duration'}, inplace=True)\n",
    "\n",
    "## Agregar la columna del mes.\n",
    "megaline_calls['month'] = megaline_calls['call_date'].dt.month\n",
    "\n",
    "## Ordenar las columnas del dataframe\n",
    "megaline_calls = megaline_calls[['user_id',\n",
    "                                 'call_id',\n",
    "                                 'call_date',\n",
    "                                 'month',\n",
    "                                 'call_duration']]\n",
    "\n",
    "## Mostrar cambios\n",
    "display(megaline_calls.head())\n"
   ]
  },
  {
   "cell_type": "markdown",
   "metadata": {},
   "source": [
    "<div class=\"alert alert-block alert-warning\">\n",
    "<b>Comentario Revisor</b> <a class=\"tocSkip\"></a>\n",
    "\n",
    "Qué podríamos decir hasta el momento de las llamadas que tienen una duración de 0?\n",
    "</div>\n",
    "\n",
    "<div class=\"alert alert-block alert-info\">\n",
    "<b>En las llamadas con duracion de 0, el usuario no realizo ni una sola llamada, ni siquiera de un segundo.</b> <a class=\"tocSkip\"></a>"
   ]
  },
  {
   "cell_type": "markdown",
   "metadata": {
    "id": "mOUZSi180q0_"
   },
   "source": [
    "## Mensajes"
   ]
  },
  {
   "cell_type": "code",
   "execution_count": 16,
   "metadata": {
    "id": "R-bYJpdV0q1A"
   },
   "outputs": [
    {
     "name": "stdout",
     "output_type": "stream",
     "text": [
      "<class 'pandas.core.frame.DataFrame'>\n",
      "RangeIndex: 76051 entries, 0 to 76050\n",
      "Data columns (total 3 columns):\n",
      " #   Column        Non-Null Count  Dtype \n",
      "---  ------        --------------  ----- \n",
      " 0   id            76051 non-null  object\n",
      " 1   user_id       76051 non-null  int64 \n",
      " 2   message_date  76051 non-null  object\n",
      "dtypes: int64(1), object(2)\n",
      "memory usage: 1.7+ MB\n"
     ]
    }
   ],
   "source": [
    "# Imprime la información general/resumida sobre el DataFrame de los mensajes\n",
    "megaline_messages.info()"
   ]
  },
  {
   "cell_type": "code",
   "execution_count": 17,
   "metadata": {
    "id": "mCEl2iGE0q1A"
   },
   "outputs": [
    {
     "data": {
      "text/html": [
       "<div>\n",
       "<style scoped>\n",
       "    .dataframe tbody tr th:only-of-type {\n",
       "        vertical-align: middle;\n",
       "    }\n",
       "\n",
       "    .dataframe tbody tr th {\n",
       "        vertical-align: top;\n",
       "    }\n",
       "\n",
       "    .dataframe thead th {\n",
       "        text-align: right;\n",
       "    }\n",
       "</style>\n",
       "<table border=\"1\" class=\"dataframe\">\n",
       "  <thead>\n",
       "    <tr style=\"text-align: right;\">\n",
       "      <th></th>\n",
       "      <th>id</th>\n",
       "      <th>user_id</th>\n",
       "      <th>message_date</th>\n",
       "    </tr>\n",
       "  </thead>\n",
       "  <tbody>\n",
       "    <tr>\n",
       "      <th>0</th>\n",
       "      <td>1000_125</td>\n",
       "      <td>1000</td>\n",
       "      <td>2018-12-27</td>\n",
       "    </tr>\n",
       "    <tr>\n",
       "      <th>1</th>\n",
       "      <td>1000_160</td>\n",
       "      <td>1000</td>\n",
       "      <td>2018-12-31</td>\n",
       "    </tr>\n",
       "    <tr>\n",
       "      <th>2</th>\n",
       "      <td>1000_223</td>\n",
       "      <td>1000</td>\n",
       "      <td>2018-12-31</td>\n",
       "    </tr>\n",
       "    <tr>\n",
       "      <th>3</th>\n",
       "      <td>1000_251</td>\n",
       "      <td>1000</td>\n",
       "      <td>2018-12-27</td>\n",
       "    </tr>\n",
       "    <tr>\n",
       "      <th>4</th>\n",
       "      <td>1000_255</td>\n",
       "      <td>1000</td>\n",
       "      <td>2018-12-26</td>\n",
       "    </tr>\n",
       "  </tbody>\n",
       "</table>\n",
       "</div>"
      ],
      "text/plain": [
       "         id  user_id message_date\n",
       "0  1000_125     1000   2018-12-27\n",
       "1  1000_160     1000   2018-12-31\n",
       "2  1000_223     1000   2018-12-31\n",
       "3  1000_251     1000   2018-12-27\n",
       "4  1000_255     1000   2018-12-26"
      ]
     },
     "metadata": {},
     "output_type": "display_data"
    }
   ],
   "source": [
    "# Imprime una muestra de datos para los mensajes\n",
    "display(megaline_messages.head())"
   ]
  },
  {
   "cell_type": "markdown",
   "metadata": {},
   "source": [
    "La tabla **megaline_messages** contiene 3 columnas, todos los nombres siguen las buenas practicas. Tenemos 76051 datos. No existen valores ausentes.\n",
    "\n",
    "- id: tipo object, no parece tener problemas.\n",
    "- user_id: tipo int64, deberia ser object ya que es una variable de identificación.\n",
    "- message_date: tipo object, deberia ser datetime.\n"
   ]
  },
  {
   "cell_type": "markdown",
   "metadata": {
    "id": "Sprfak900q1B"
   },
   "source": [
    "### Corregir los datos"
   ]
  },
  {
   "cell_type": "markdown",
   "metadata": {
    "id": "eGw7d9j10q1B"
   },
   "source": [
    "[Corrige los problemas obvios con los datos basándote en las observaciones iniciales.]"
   ]
  },
  {
   "cell_type": "code",
   "execution_count": 18,
   "metadata": {
    "id": "vsllvkoa0q1B"
   },
   "outputs": [],
   "source": [
    "## Convertir los id de usuarios a object\n",
    "megaline_messages['user_id'] = megaline_messages['user_id'].astype('object')\n",
    "\n",
    "## Convertir las fechas a tipo datetime\n",
    "megaline_messages['message_date'] = pd.to_datetime(megaline_messages['message_date'], format='%Y-%m-%d')"
   ]
  },
  {
   "cell_type": "markdown",
   "metadata": {
    "id": "HvLid7iD0q1B"
   },
   "source": [
    "### Enriquecer los datos"
   ]
  },
  {
   "cell_type": "markdown",
   "metadata": {
    "id": "8nhPFKIe0q1C"
   },
   "source": [
    "[Agrega factores adicionales a los datos si crees que pudieran ser útiles.]"
   ]
  },
  {
   "cell_type": "code",
   "execution_count": 19,
   "metadata": {
    "id": "zYEXZac10q1C"
   },
   "outputs": [
    {
     "data": {
      "text/html": [
       "<div>\n",
       "<style scoped>\n",
       "    .dataframe tbody tr th:only-of-type {\n",
       "        vertical-align: middle;\n",
       "    }\n",
       "\n",
       "    .dataframe tbody tr th {\n",
       "        vertical-align: top;\n",
       "    }\n",
       "\n",
       "    .dataframe thead th {\n",
       "        text-align: right;\n",
       "    }\n",
       "</style>\n",
       "<table border=\"1\" class=\"dataframe\">\n",
       "  <thead>\n",
       "    <tr style=\"text-align: right;\">\n",
       "      <th></th>\n",
       "      <th>user_id</th>\n",
       "      <th>message_id</th>\n",
       "      <th>message_date</th>\n",
       "      <th>month</th>\n",
       "    </tr>\n",
       "  </thead>\n",
       "  <tbody>\n",
       "    <tr>\n",
       "      <th>0</th>\n",
       "      <td>1000</td>\n",
       "      <td>1000_125</td>\n",
       "      <td>2018-12-27</td>\n",
       "      <td>12</td>\n",
       "    </tr>\n",
       "    <tr>\n",
       "      <th>1</th>\n",
       "      <td>1000</td>\n",
       "      <td>1000_160</td>\n",
       "      <td>2018-12-31</td>\n",
       "      <td>12</td>\n",
       "    </tr>\n",
       "    <tr>\n",
       "      <th>2</th>\n",
       "      <td>1000</td>\n",
       "      <td>1000_223</td>\n",
       "      <td>2018-12-31</td>\n",
       "      <td>12</td>\n",
       "    </tr>\n",
       "    <tr>\n",
       "      <th>3</th>\n",
       "      <td>1000</td>\n",
       "      <td>1000_251</td>\n",
       "      <td>2018-12-27</td>\n",
       "      <td>12</td>\n",
       "    </tr>\n",
       "    <tr>\n",
       "      <th>4</th>\n",
       "      <td>1000</td>\n",
       "      <td>1000_255</td>\n",
       "      <td>2018-12-26</td>\n",
       "      <td>12</td>\n",
       "    </tr>\n",
       "  </tbody>\n",
       "</table>\n",
       "</div>"
      ],
      "text/plain": [
       "  user_id message_id message_date  month\n",
       "0    1000   1000_125   2018-12-27     12\n",
       "1    1000   1000_160   2018-12-31     12\n",
       "2    1000   1000_223   2018-12-31     12\n",
       "3    1000   1000_251   2018-12-27     12\n",
       "4    1000   1000_255   2018-12-26     12"
      ]
     },
     "metadata": {},
     "output_type": "display_data"
    }
   ],
   "source": [
    "## Renombrar la columna de id  \n",
    "megaline_messages.rename(columns={'id': 'message_id'}, inplace=True)\n",
    "\n",
    "## Agregar una columna del mes\n",
    "megaline_messages['month'] = megaline_messages['message_date'].dt.month\n",
    "\n",
    "## Ordenar las columnas del dataframe\n",
    "megaline_messages = megaline_messages[['user_id',\n",
    "                                 'message_id',\n",
    "                                 'message_date',\n",
    "                                 'month']]\n",
    "\n",
    "## Mostrar cambios\n",
    "display(megaline_messages.head())\n"
   ]
  },
  {
   "cell_type": "markdown",
   "metadata": {
    "id": "bStkaxn40q1C"
   },
   "source": [
    "## Internet"
   ]
  },
  {
   "cell_type": "code",
   "execution_count": 20,
   "metadata": {
    "id": "e-Uz5qyn0q1C"
   },
   "outputs": [
    {
     "name": "stdout",
     "output_type": "stream",
     "text": [
      "<class 'pandas.core.frame.DataFrame'>\n",
      "RangeIndex: 104825 entries, 0 to 104824\n",
      "Data columns (total 4 columns):\n",
      " #   Column        Non-Null Count   Dtype  \n",
      "---  ------        --------------   -----  \n",
      " 0   id            104825 non-null  object \n",
      " 1   user_id       104825 non-null  int64  \n",
      " 2   session_date  104825 non-null  object \n",
      " 3   mb_used       104825 non-null  float64\n",
      "dtypes: float64(1), int64(1), object(2)\n",
      "memory usage: 3.2+ MB\n"
     ]
    }
   ],
   "source": [
    "# Imprime la información general/resumida sobre el DataFrame de internet\n",
    "megaline_internet.info()"
   ]
  },
  {
   "cell_type": "code",
   "execution_count": 21,
   "metadata": {
    "id": "9r3x_XLw0q1C"
   },
   "outputs": [
    {
     "data": {
      "text/html": [
       "<div>\n",
       "<style scoped>\n",
       "    .dataframe tbody tr th:only-of-type {\n",
       "        vertical-align: middle;\n",
       "    }\n",
       "\n",
       "    .dataframe tbody tr th {\n",
       "        vertical-align: top;\n",
       "    }\n",
       "\n",
       "    .dataframe thead th {\n",
       "        text-align: right;\n",
       "    }\n",
       "</style>\n",
       "<table border=\"1\" class=\"dataframe\">\n",
       "  <thead>\n",
       "    <tr style=\"text-align: right;\">\n",
       "      <th></th>\n",
       "      <th>id</th>\n",
       "      <th>user_id</th>\n",
       "      <th>session_date</th>\n",
       "      <th>mb_used</th>\n",
       "    </tr>\n",
       "  </thead>\n",
       "  <tbody>\n",
       "    <tr>\n",
       "      <th>0</th>\n",
       "      <td>1000_13</td>\n",
       "      <td>1000</td>\n",
       "      <td>2018-12-29</td>\n",
       "      <td>90.0</td>\n",
       "    </tr>\n",
       "    <tr>\n",
       "      <th>1</th>\n",
       "      <td>1000_204</td>\n",
       "      <td>1000</td>\n",
       "      <td>2018-12-31</td>\n",
       "      <td>0.0</td>\n",
       "    </tr>\n",
       "    <tr>\n",
       "      <th>2</th>\n",
       "      <td>1000_379</td>\n",
       "      <td>1000</td>\n",
       "      <td>2018-12-28</td>\n",
       "      <td>661.0</td>\n",
       "    </tr>\n",
       "    <tr>\n",
       "      <th>3</th>\n",
       "      <td>1000_413</td>\n",
       "      <td>1000</td>\n",
       "      <td>2018-12-26</td>\n",
       "      <td>271.0</td>\n",
       "    </tr>\n",
       "    <tr>\n",
       "      <th>4</th>\n",
       "      <td>1000_442</td>\n",
       "      <td>1000</td>\n",
       "      <td>2018-12-27</td>\n",
       "      <td>881.0</td>\n",
       "    </tr>\n",
       "  </tbody>\n",
       "</table>\n",
       "</div>"
      ],
      "text/plain": [
       "         id  user_id session_date  mb_used\n",
       "0   1000_13     1000   2018-12-29     90.0\n",
       "1  1000_204     1000   2018-12-31      0.0\n",
       "2  1000_379     1000   2018-12-28    661.0\n",
       "3  1000_413     1000   2018-12-26    271.0\n",
       "4  1000_442     1000   2018-12-27    881.0"
      ]
     },
     "metadata": {},
     "output_type": "display_data"
    }
   ],
   "source": [
    "# Imprime una muestra de datos para el tráfico de internet\n",
    "display(megaline_internet.head())"
   ]
  },
  {
   "cell_type": "markdown",
   "metadata": {},
   "source": [
    "La tabla **megaline_internet** contiene 4 columnas, todos los nombres siguen las buenas practicas. Tenemos 104825 datos. No existen valores ausentes.\n",
    "\n",
    "- id: tipo object, no parece tener problemas.\n",
    "- user_id: tipo int64, deberia ser object ya que es una variable de identificación.\n",
    "- session_date: tipo object, deberia ser datetime.\n",
    "- mb_used: tipo float64, deberia convertirse en entero ya que asi es como lo contabilizan."
   ]
  },
  {
   "cell_type": "markdown",
   "metadata": {
    "id": "yA0tkPFg0q1D"
   },
   "source": [
    "### Corregir los datos"
   ]
  },
  {
   "cell_type": "markdown",
   "metadata": {
    "id": "zlZMuIEK0q1D"
   },
   "source": [
    "[Corrige los problemas obvios con los datos basándote en las observaciones iniciales.]"
   ]
  },
  {
   "cell_type": "code",
   "execution_count": 22,
   "metadata": {
    "id": "zVeanzdd0q1E"
   },
   "outputs": [],
   "source": [
    "## Convertir los id de usuarios a object\n",
    "megaline_internet['user_id'] = megaline_internet['user_id'].astype('object')\n",
    "\n",
    "## Convertir los mb en enteros int64\n",
    "megaline_internet['mb_used'] = megaline_internet['mb_used'].astype('int64')\n",
    "\n",
    "## Convertir las fechas a tipo datetime\n",
    "megaline_internet['session_date'] = pd.to_datetime(megaline_internet['session_date'], format='%Y-%m-%d')"
   ]
  },
  {
   "cell_type": "markdown",
   "metadata": {
    "id": "e8_mLF4a0q1E"
   },
   "source": [
    "### Enriquecer los datos"
   ]
  },
  {
   "cell_type": "markdown",
   "metadata": {
    "id": "xhNdn2tE0q1E"
   },
   "source": [
    "[Agrega factores adicionales a los datos si crees que pudieran ser útiles.]"
   ]
  },
  {
   "cell_type": "code",
   "execution_count": 23,
   "metadata": {
    "id": "ESiYPIEK0q1E"
   },
   "outputs": [
    {
     "data": {
      "text/html": [
       "<div>\n",
       "<style scoped>\n",
       "    .dataframe tbody tr th:only-of-type {\n",
       "        vertical-align: middle;\n",
       "    }\n",
       "\n",
       "    .dataframe tbody tr th {\n",
       "        vertical-align: top;\n",
       "    }\n",
       "\n",
       "    .dataframe thead th {\n",
       "        text-align: right;\n",
       "    }\n",
       "</style>\n",
       "<table border=\"1\" class=\"dataframe\">\n",
       "  <thead>\n",
       "    <tr style=\"text-align: right;\">\n",
       "      <th></th>\n",
       "      <th>user_id</th>\n",
       "      <th>internet_id</th>\n",
       "      <th>session_date</th>\n",
       "      <th>month</th>\n",
       "      <th>mb_used</th>\n",
       "      <th>gb_used</th>\n",
       "    </tr>\n",
       "  </thead>\n",
       "  <tbody>\n",
       "    <tr>\n",
       "      <th>0</th>\n",
       "      <td>1000</td>\n",
       "      <td>1000_13</td>\n",
       "      <td>2018-12-29</td>\n",
       "      <td>12</td>\n",
       "      <td>90</td>\n",
       "      <td>0.087891</td>\n",
       "    </tr>\n",
       "    <tr>\n",
       "      <th>1</th>\n",
       "      <td>1000</td>\n",
       "      <td>1000_204</td>\n",
       "      <td>2018-12-31</td>\n",
       "      <td>12</td>\n",
       "      <td>0</td>\n",
       "      <td>0.000000</td>\n",
       "    </tr>\n",
       "    <tr>\n",
       "      <th>2</th>\n",
       "      <td>1000</td>\n",
       "      <td>1000_379</td>\n",
       "      <td>2018-12-28</td>\n",
       "      <td>12</td>\n",
       "      <td>661</td>\n",
       "      <td>0.645508</td>\n",
       "    </tr>\n",
       "    <tr>\n",
       "      <th>3</th>\n",
       "      <td>1000</td>\n",
       "      <td>1000_413</td>\n",
       "      <td>2018-12-26</td>\n",
       "      <td>12</td>\n",
       "      <td>271</td>\n",
       "      <td>0.264648</td>\n",
       "    </tr>\n",
       "    <tr>\n",
       "      <th>4</th>\n",
       "      <td>1000</td>\n",
       "      <td>1000_442</td>\n",
       "      <td>2018-12-27</td>\n",
       "      <td>12</td>\n",
       "      <td>881</td>\n",
       "      <td>0.860352</td>\n",
       "    </tr>\n",
       "  </tbody>\n",
       "</table>\n",
       "</div>"
      ],
      "text/plain": [
       "  user_id internet_id session_date  month  mb_used   gb_used\n",
       "0    1000     1000_13   2018-12-29     12       90  0.087891\n",
       "1    1000    1000_204   2018-12-31     12        0  0.000000\n",
       "2    1000    1000_379   2018-12-28     12      661  0.645508\n",
       "3    1000    1000_413   2018-12-26     12      271  0.264648\n",
       "4    1000    1000_442   2018-12-27     12      881  0.860352"
      ]
     },
     "metadata": {},
     "output_type": "display_data"
    }
   ],
   "source": [
    "## Renombrar la columna de id a internet_id \n",
    "megaline_internet.rename(columns={'id':'internet_id'}, inplace=True)\n",
    "\n",
    "## Agregar una columna del mes\n",
    "megaline_internet['month'] = megaline_internet['session_date'].dt.month\n",
    "\n",
    "## Agregar una columna del gb used\n",
    "megaline_internet['gb_used'] = megaline_internet['mb_used']/1024\n",
    "\n",
    "## Ordenar las columnas del dataframe\n",
    "megaline_internet = megaline_internet[['user_id',\n",
    "                                       'internet_id',\n",
    "                                       'session_date',   \n",
    "                                       'month',\n",
    "                                       'mb_used',\n",
    "                                       'gb_used']]\n",
    "\n",
    "## Mostrar cambios\n",
    "display(megaline_internet.head())"
   ]
  },
  {
   "cell_type": "markdown",
   "metadata": {},
   "source": [
    "<div class=\"alert alert-block alert-danger\">\n",
    "\n",
    "<b>Comentario revisor</b> <a class=\"tocSkip\"></a>\n",
    "\n",
    "Te sugiero verificar a cuánto equivale un gb para cuando hagas la transformación.\n",
    "\n",
    "</div>\n",
    "\n",
    "<div class=\"alert alert-block alert-info\">\n",
    "<b> 1024 MB =  1 gb. Gracias.</b> <a class=\"tocSkip\"></a>"
   ]
  },
  {
   "cell_type": "markdown",
   "metadata": {
    "id": "3UA2cqIW0q1E"
   },
   "source": [
    "## Estudiar las condiciones de las tarifas"
   ]
  },
  {
   "cell_type": "markdown",
   "metadata": {
    "id": "T86Sqltq0q1F"
   },
   "source": [
    "[Es sumamente importante entender cómo funcionan las tarifas, cómo se les cobra a los usuarios en función de su plan de suscripción. Así que te sugerimos imprimir la información de la tarifa para ver una vez más sus condiciones.]"
   ]
  },
  {
   "cell_type": "code",
   "execution_count": 24,
   "metadata": {
    "id": "i409op8p0q1F"
   },
   "outputs": [
    {
     "data": {
      "text/html": [
       "<div>\n",
       "<style scoped>\n",
       "    .dataframe tbody tr th:only-of-type {\n",
       "        vertical-align: middle;\n",
       "    }\n",
       "\n",
       "    .dataframe tbody tr th {\n",
       "        vertical-align: top;\n",
       "    }\n",
       "\n",
       "    .dataframe thead th {\n",
       "        text-align: right;\n",
       "    }\n",
       "</style>\n",
       "<table border=\"1\" class=\"dataframe\">\n",
       "  <thead>\n",
       "    <tr style=\"text-align: right;\">\n",
       "      <th></th>\n",
       "      <th>plan</th>\n",
       "      <th>minutes_included</th>\n",
       "      <th>messages_included</th>\n",
       "      <th>mb_per_month_included</th>\n",
       "      <th>gb_per_month_included</th>\n",
       "      <th>usd_monthly_pay</th>\n",
       "      <th>usd_per_minute</th>\n",
       "      <th>usd_per_message</th>\n",
       "      <th>usd_per_gb</th>\n",
       "    </tr>\n",
       "  </thead>\n",
       "  <tbody>\n",
       "    <tr>\n",
       "      <th>0</th>\n",
       "      <td>surf</td>\n",
       "      <td>500</td>\n",
       "      <td>50</td>\n",
       "      <td>15360</td>\n",
       "      <td>15.0</td>\n",
       "      <td>20.0</td>\n",
       "      <td>0.03</td>\n",
       "      <td>0.03</td>\n",
       "      <td>10.0</td>\n",
       "    </tr>\n",
       "    <tr>\n",
       "      <th>1</th>\n",
       "      <td>ultimate</td>\n",
       "      <td>3000</td>\n",
       "      <td>1000</td>\n",
       "      <td>30720</td>\n",
       "      <td>30.0</td>\n",
       "      <td>70.0</td>\n",
       "      <td>0.01</td>\n",
       "      <td>0.01</td>\n",
       "      <td>7.0</td>\n",
       "    </tr>\n",
       "  </tbody>\n",
       "</table>\n",
       "</div>"
      ],
      "text/plain": [
       "       plan  minutes_included  messages_included  mb_per_month_included  \\\n",
       "0      surf               500                 50                  15360   \n",
       "1  ultimate              3000               1000                  30720   \n",
       "\n",
       "   gb_per_month_included  usd_monthly_pay  usd_per_minute  usd_per_message  \\\n",
       "0                   15.0             20.0            0.03             0.03   \n",
       "1                   30.0             70.0            0.01             0.01   \n",
       "\n",
       "   usd_per_gb  \n",
       "0        10.0  \n",
       "1         7.0  "
      ]
     },
     "metadata": {},
     "output_type": "display_data"
    }
   ],
   "source": [
    "# Imprime las condiciones de la tarifa y asegúrate de que te quedan claras\n",
    "display(megaline_plans.head())\n",
    "\n"
   ]
  },
  {
   "cell_type": "markdown",
   "metadata": {
    "id": "hMR1tP5d0q1F"
   },
   "source": [
    "## Agregar datos por usuario\n",
    "\n",
    "[Ahora que los datos están limpios, agrega los datos por usuario y por periodo para que solo haya un registro por usuario y por periodo. Esto facilitará mucho el análisis posterior.]"
   ]
  },
  {
   "cell_type": "code",
   "execution_count": 25,
   "metadata": {
    "id": "A332cedB0q1G"
   },
   "outputs": [
    {
     "data": {
      "text/html": [
       "<div>\n",
       "<style scoped>\n",
       "    .dataframe tbody tr th:only-of-type {\n",
       "        vertical-align: middle;\n",
       "    }\n",
       "\n",
       "    .dataframe tbody tr th {\n",
       "        vertical-align: top;\n",
       "    }\n",
       "\n",
       "    .dataframe thead th {\n",
       "        text-align: right;\n",
       "    }\n",
       "</style>\n",
       "<table border=\"1\" class=\"dataframe\">\n",
       "  <thead>\n",
       "    <tr style=\"text-align: right;\">\n",
       "      <th></th>\n",
       "      <th>user_id</th>\n",
       "      <th>month</th>\n",
       "      <th>total_calls</th>\n",
       "      <th>total_duration</th>\n",
       "    </tr>\n",
       "  </thead>\n",
       "  <tbody>\n",
       "    <tr>\n",
       "      <th>0</th>\n",
       "      <td>1000</td>\n",
       "      <td>12</td>\n",
       "      <td>16</td>\n",
       "      <td>124</td>\n",
       "    </tr>\n",
       "    <tr>\n",
       "      <th>1</th>\n",
       "      <td>1001</td>\n",
       "      <td>8</td>\n",
       "      <td>27</td>\n",
       "      <td>182</td>\n",
       "    </tr>\n",
       "    <tr>\n",
       "      <th>2</th>\n",
       "      <td>1001</td>\n",
       "      <td>9</td>\n",
       "      <td>49</td>\n",
       "      <td>315</td>\n",
       "    </tr>\n",
       "    <tr>\n",
       "      <th>3</th>\n",
       "      <td>1001</td>\n",
       "      <td>10</td>\n",
       "      <td>65</td>\n",
       "      <td>393</td>\n",
       "    </tr>\n",
       "    <tr>\n",
       "      <th>4</th>\n",
       "      <td>1001</td>\n",
       "      <td>11</td>\n",
       "      <td>64</td>\n",
       "      <td>426</td>\n",
       "    </tr>\n",
       "  </tbody>\n",
       "</table>\n",
       "</div>"
      ],
      "text/plain": [
       "   user_id  month  total_calls  total_duration\n",
       "0     1000     12           16             124\n",
       "1     1001      8           27             182\n",
       "2     1001      9           49             315\n",
       "3     1001     10           65             393\n",
       "4     1001     11           64             426"
      ]
     },
     "execution_count": 25,
     "metadata": {},
     "output_type": "execute_result"
    }
   ],
   "source": [
    "# Calcula el número de llamadas hechas por cada usuario al mes. Guarda el resultado.\n",
    "# Calcula la cantidad de minutos usados por cada usuario al mes. Guarda el resultado.\n",
    "monthly_calls = megaline_calls.groupby(['user_id','month']).agg( \n",
    "                                                            total_calls    = ('call_id','count'),\n",
    "                                                            total_duration = ('call_duration','sum')).reset_index()\n",
    "## Mostrar cambios\n",
    "monthly_calls.head()"
   ]
  },
  {
   "cell_type": "markdown",
   "metadata": {},
   "source": [
    "<div class=\"alert alert-block alert-warning\">\n",
    "\n",
    "<b>Comentario revisor</b> <a class=\"tocSkip\"></a>\n",
    "\n",
    "Si bien es correcta la forma de agrupar para sacar la duración de las llamadas por cada ususario, para proximas ocasiones puedes hacer uso de la siguiente forma:\n",
    "    \n",
    "    pivot_calls = calls.pivot_table(index=['user_id', 'month'],\n",
    "                                values=['duration'],\n",
    "                                aggfunc=['sum','count']).reset_index()\n",
    "\n",
    "</div>\n",
    "\n",
    "<div class=\"alert alert-block alert-info\">\n",
    "<b> Listo la tendre en cuenta.</b> <a class=\"tocSkip\"></a>"
   ]
  },
  {
   "cell_type": "code",
   "execution_count": 26,
   "metadata": {
    "id": "CcQvNHn60q1G"
   },
   "outputs": [
    {
     "data": {
      "text/html": [
       "<div>\n",
       "<style scoped>\n",
       "    .dataframe tbody tr th:only-of-type {\n",
       "        vertical-align: middle;\n",
       "    }\n",
       "\n",
       "    .dataframe tbody tr th {\n",
       "        vertical-align: top;\n",
       "    }\n",
       "\n",
       "    .dataframe thead th {\n",
       "        text-align: right;\n",
       "    }\n",
       "</style>\n",
       "<table border=\"1\" class=\"dataframe\">\n",
       "  <thead>\n",
       "    <tr style=\"text-align: right;\">\n",
       "      <th></th>\n",
       "      <th>user_id</th>\n",
       "      <th>month</th>\n",
       "      <th>total_messages</th>\n",
       "    </tr>\n",
       "  </thead>\n",
       "  <tbody>\n",
       "    <tr>\n",
       "      <th>0</th>\n",
       "      <td>1000</td>\n",
       "      <td>12</td>\n",
       "      <td>11</td>\n",
       "    </tr>\n",
       "    <tr>\n",
       "      <th>1</th>\n",
       "      <td>1001</td>\n",
       "      <td>8</td>\n",
       "      <td>30</td>\n",
       "    </tr>\n",
       "    <tr>\n",
       "      <th>2</th>\n",
       "      <td>1001</td>\n",
       "      <td>9</td>\n",
       "      <td>44</td>\n",
       "    </tr>\n",
       "    <tr>\n",
       "      <th>3</th>\n",
       "      <td>1001</td>\n",
       "      <td>10</td>\n",
       "      <td>53</td>\n",
       "    </tr>\n",
       "    <tr>\n",
       "      <th>4</th>\n",
       "      <td>1001</td>\n",
       "      <td>11</td>\n",
       "      <td>36</td>\n",
       "    </tr>\n",
       "  </tbody>\n",
       "</table>\n",
       "</div>"
      ],
      "text/plain": [
       "   user_id  month  total_messages\n",
       "0     1000     12              11\n",
       "1     1001      8              30\n",
       "2     1001      9              44\n",
       "3     1001     10              53\n",
       "4     1001     11              36"
      ]
     },
     "execution_count": 26,
     "metadata": {},
     "output_type": "execute_result"
    }
   ],
   "source": [
    "# Calcula el número de mensajes enviados por cada usuario al mes. Guarda el resultado.\n",
    "monthly_messages = megaline_messages.groupby(['user_id','month']).agg(\n",
    "                                                                  total_messages = ('message_id','count')).reset_index()\n",
    "## Mostrar cambios\n",
    "monthly_messages.head()"
   ]
  },
  {
   "cell_type": "code",
   "execution_count": 27,
   "metadata": {
    "id": "H1AqN2eG0q1H"
   },
   "outputs": [
    {
     "data": {
      "text/html": [
       "<div>\n",
       "<style scoped>\n",
       "    .dataframe tbody tr th:only-of-type {\n",
       "        vertical-align: middle;\n",
       "    }\n",
       "\n",
       "    .dataframe tbody tr th {\n",
       "        vertical-align: top;\n",
       "    }\n",
       "\n",
       "    .dataframe thead th {\n",
       "        text-align: right;\n",
       "    }\n",
       "</style>\n",
       "<table border=\"1\" class=\"dataframe\">\n",
       "  <thead>\n",
       "    <tr style=\"text-align: right;\">\n",
       "      <th></th>\n",
       "      <th>user_id</th>\n",
       "      <th>month</th>\n",
       "      <th>total_gb</th>\n",
       "    </tr>\n",
       "  </thead>\n",
       "  <tbody>\n",
       "    <tr>\n",
       "      <th>0</th>\n",
       "      <td>1000</td>\n",
       "      <td>12</td>\n",
       "      <td>2</td>\n",
       "    </tr>\n",
       "    <tr>\n",
       "      <th>1</th>\n",
       "      <td>1001</td>\n",
       "      <td>8</td>\n",
       "      <td>7</td>\n",
       "    </tr>\n",
       "    <tr>\n",
       "      <th>2</th>\n",
       "      <td>1001</td>\n",
       "      <td>9</td>\n",
       "      <td>14</td>\n",
       "    </tr>\n",
       "    <tr>\n",
       "      <th>3</th>\n",
       "      <td>1001</td>\n",
       "      <td>10</td>\n",
       "      <td>22</td>\n",
       "    </tr>\n",
       "    <tr>\n",
       "      <th>4</th>\n",
       "      <td>1001</td>\n",
       "      <td>11</td>\n",
       "      <td>19</td>\n",
       "    </tr>\n",
       "  </tbody>\n",
       "</table>\n",
       "</div>"
      ],
      "text/plain": [
       "   user_id  month  total_gb\n",
       "0     1000     12         2\n",
       "1     1001      8         7\n",
       "2     1001      9        14\n",
       "3     1001     10        22\n",
       "4     1001     11        19"
      ]
     },
     "execution_count": 27,
     "metadata": {},
     "output_type": "execute_result"
    }
   ],
   "source": [
    "# Calcula el volumen del tráfico de Internet usado por cada usuario al mes. Guarda el resultado.\n",
    "monthly_internet = megaline_internet.groupby(['user_id','month']).agg(\n",
    "                                                                  total_gb = ('gb_used','sum')).reset_index()\n",
    "\n",
    "## Redondear el valor usado al mes del gb para arriba y volverlo entero\n",
    "monthly_internet['total_gb'] = monthly_internet['total_gb'].apply(np.ceil)\n",
    "monthly_internet['total_gb'] = monthly_internet['total_gb'].astype('int64')\n",
    "\n",
    "## Mostrar cambios\n",
    "monthly_internet.head()"
   ]
  },
  {
   "cell_type": "markdown",
   "metadata": {
    "id": "VDfYXnj80q1H"
   },
   "source": [
    "[Junta los datos agregados en un DataFrame para que haya un registro que represente lo que consumió un usuario único en un mes determinado.]"
   ]
  },
  {
   "cell_type": "code",
   "execution_count": 28,
   "metadata": {
    "id": "FW99ykyf0q1H"
   },
   "outputs": [
    {
     "data": {
      "text/html": [
       "<div>\n",
       "<style scoped>\n",
       "    .dataframe tbody tr th:only-of-type {\n",
       "        vertical-align: middle;\n",
       "    }\n",
       "\n",
       "    .dataframe tbody tr th {\n",
       "        vertical-align: top;\n",
       "    }\n",
       "\n",
       "    .dataframe thead th {\n",
       "        text-align: right;\n",
       "    }\n",
       "</style>\n",
       "<table border=\"1\" class=\"dataframe\">\n",
       "  <thead>\n",
       "    <tr style=\"text-align: right;\">\n",
       "      <th></th>\n",
       "      <th>user_id</th>\n",
       "      <th>month</th>\n",
       "      <th>total_calls</th>\n",
       "      <th>total_duration</th>\n",
       "      <th>total_messages</th>\n",
       "      <th>total_gb</th>\n",
       "    </tr>\n",
       "  </thead>\n",
       "  <tbody>\n",
       "    <tr>\n",
       "      <th>0</th>\n",
       "      <td>1000</td>\n",
       "      <td>12</td>\n",
       "      <td>16.0</td>\n",
       "      <td>124.0</td>\n",
       "      <td>11.0</td>\n",
       "      <td>2.0</td>\n",
       "    </tr>\n",
       "    <tr>\n",
       "      <th>1</th>\n",
       "      <td>1001</td>\n",
       "      <td>8</td>\n",
       "      <td>27.0</td>\n",
       "      <td>182.0</td>\n",
       "      <td>30.0</td>\n",
       "      <td>7.0</td>\n",
       "    </tr>\n",
       "    <tr>\n",
       "      <th>2</th>\n",
       "      <td>1001</td>\n",
       "      <td>9</td>\n",
       "      <td>49.0</td>\n",
       "      <td>315.0</td>\n",
       "      <td>44.0</td>\n",
       "      <td>14.0</td>\n",
       "    </tr>\n",
       "    <tr>\n",
       "      <th>3</th>\n",
       "      <td>1001</td>\n",
       "      <td>10</td>\n",
       "      <td>65.0</td>\n",
       "      <td>393.0</td>\n",
       "      <td>53.0</td>\n",
       "      <td>22.0</td>\n",
       "    </tr>\n",
       "    <tr>\n",
       "      <th>4</th>\n",
       "      <td>1001</td>\n",
       "      <td>11</td>\n",
       "      <td>64.0</td>\n",
       "      <td>426.0</td>\n",
       "      <td>36.0</td>\n",
       "      <td>19.0</td>\n",
       "    </tr>\n",
       "  </tbody>\n",
       "</table>\n",
       "</div>"
      ],
      "text/plain": [
       "   user_id  month  total_calls  total_duration  total_messages  total_gb\n",
       "0     1000     12         16.0           124.0            11.0       2.0\n",
       "1     1001      8         27.0           182.0            30.0       7.0\n",
       "2     1001      9         49.0           315.0            44.0      14.0\n",
       "3     1001     10         65.0           393.0            53.0      22.0\n",
       "4     1001     11         64.0           426.0            36.0      19.0"
      ]
     },
     "execution_count": 28,
     "metadata": {},
     "output_type": "execute_result"
    }
   ],
   "source": [
    "## Fusionar los datos de llamadas, minutos, mensajes e Internet con base en user_id y month\n",
    "\n",
    "## Primer Merge\n",
    "monthly_info = monthly_calls.merge(monthly_messages, on = ['user_id','month'], how = 'outer')\n",
    "#print(monthly_info)\n",
    "\n",
    "## Segundo Merge\n",
    "monthly_info = monthly_info.merge(monthly_internet, on = ['user_id','month'], how = 'outer' )\n",
    "#print(monthly_info)\n",
    "\n",
    "monthly_info.head()"
   ]
  },
  {
   "cell_type": "code",
   "execution_count": 29,
   "metadata": {
    "id": "0dNOXHag0q1H"
   },
   "outputs": [
    {
     "name": "stdout",
     "output_type": "stream",
     "text": [
      "<class 'pandas.core.frame.DataFrame'>\n",
      "Int64Index: 2303 entries, 0 to 2302\n",
      "Data columns (total 22 columns):\n",
      " #   Column                 Non-Null Count  Dtype         \n",
      "---  ------                 --------------  -----         \n",
      " 0   user_id                2303 non-null   object        \n",
      " 1   first_name             2303 non-null   object        \n",
      " 2   last_name              2303 non-null   object        \n",
      " 3   age                    2303 non-null   int64         \n",
      " 4   city                   2303 non-null   object        \n",
      " 5   state                  2303 non-null   object        \n",
      " 6   plan                   2303 non-null   object        \n",
      " 7   reg_date               2303 non-null   datetime64[ns]\n",
      " 8   churn_date             160 non-null    datetime64[ns]\n",
      " 9   minutes_included       2303 non-null   int64         \n",
      " 10  messages_included      2303 non-null   int64         \n",
      " 11  mb_per_month_included  2303 non-null   int64         \n",
      " 12  gb_per_month_included  2303 non-null   float64       \n",
      " 13  usd_monthly_pay        2303 non-null   float64       \n",
      " 14  usd_per_minute         2303 non-null   float64       \n",
      " 15  usd_per_message        2303 non-null   float64       \n",
      " 16  usd_per_gb             2303 non-null   float64       \n",
      " 17  month                  2293 non-null   float64       \n",
      " 18  total_calls            2258 non-null   float64       \n",
      " 19  total_duration         2258 non-null   float64       \n",
      " 20  total_messages         1806 non-null   float64       \n",
      " 21  total_gb               2277 non-null   float64       \n",
      "dtypes: datetime64[ns](2), float64(10), int64(4), object(6)\n",
      "memory usage: 413.8+ KB\n"
     ]
    }
   ],
   "source": [
    "# Añade la información de la tarifa\n",
    "\n",
    "## Preparamos datos para obtener los nombres de los datos del usuarios y el costo de su plan (Tercer Merge)\n",
    "user_info = megaline_users.merge(megaline_plans, on = 'plan', how = 'outer')\n",
    "#user_info.info()\n",
    "#monthly_info.info()\n",
    "\n",
    "## Juntamos los datos del usuario y mostramos su consumo (Cuarto Merge)\n",
    "monthly_info = user_info.merge(monthly_info, on = ['user_id'], how = 'outer')\n",
    "monthly_info.info()\n"
   ]
  },
  {
   "cell_type": "markdown",
   "metadata": {},
   "source": [
    "<div class=\"alert alert-block alert-success\">\n",
    "<b>Comentario del revisor</b> <a class=\"tocSkip\"></a>\n",
    "\n",
    "Muy buen trabajo!! el merge es correcto para unir todas las bases trabajadas.\n",
    "    \n",
    "</div>"
   ]
  },
  {
   "cell_type": "code",
   "execution_count": 30,
   "metadata": {},
   "outputs": [],
   "source": [
    "# Revisar mi tabla actualizada\n",
    "# monthly_info.head()"
   ]
  },
  {
   "cell_type": "markdown",
   "metadata": {
    "id": "1IwGo4wg0q1I"
   },
   "source": [
    "[Calcula los ingresos mensuales por usuario (resta el límite del paquete gratuito del número total de llamadas, mensajes de texto y datos; multiplica el resultado por el valor del plan de llamadas; añade la tarifa mensual en función del plan de llamadas). Nota: Dadas las condiciones del plan, ¡esto podría no ser tan trivial como un par de líneas! Así que no pasa nada si dedicas algo de tiempo a ello.]"
   ]
  },
  {
   "cell_type": "code",
   "execution_count": 31,
   "metadata": {
    "id": "5FGCf_c60q1I"
   },
   "outputs": [
    {
     "name": "stdout",
     "output_type": "stream",
     "text": [
      "<class 'pandas.core.frame.DataFrame'>\n",
      "Int64Index: 2303 entries, 0 to 2302\n",
      "Data columns (total 29 columns):\n",
      " #   Column                 Non-Null Count  Dtype         \n",
      "---  ------                 --------------  -----         \n",
      " 0   user_id                2303 non-null   object        \n",
      " 1   first_name             2303 non-null   object        \n",
      " 2   last_name              2303 non-null   object        \n",
      " 3   age                    2303 non-null   int64         \n",
      " 4   city                   2303 non-null   object        \n",
      " 5   state                  2303 non-null   object        \n",
      " 6   reg_date               2303 non-null   datetime64[ns]\n",
      " 7   churn_date             160 non-null    datetime64[ns]\n",
      " 8   plan                   2303 non-null   object        \n",
      " 9   month                  2293 non-null   float64       \n",
      " 10  usd_monthly_pay        2303 non-null   float64       \n",
      " 11  total_calls            2258 non-null   float64       \n",
      " 12  minutes_included       2303 non-null   int64         \n",
      " 13  total_duration         2258 non-null   float64       \n",
      " 14  minutes_to_pay         2258 non-null   float64       \n",
      " 15  usd_per_minute         2303 non-null   float64       \n",
      " 16  minute_cost            2258 non-null   float64       \n",
      " 17  total_messages         1806 non-null   float64       \n",
      " 18  messages_included      2303 non-null   int64         \n",
      " 19  messages_to_pay        1806 non-null   float64       \n",
      " 20  usd_per_message        2303 non-null   float64       \n",
      " 21  messages_cost          1806 non-null   float64       \n",
      " 22  total_gb               2277 non-null   float64       \n",
      " 23  gb_per_month_included  2303 non-null   float64       \n",
      " 24  mb_per_month_included  2303 non-null   int64         \n",
      " 25  gb_to_pay              2277 non-null   float64       \n",
      " 26  usd_per_gb             2303 non-null   float64       \n",
      " 27  gb_cost                2277 non-null   float64       \n",
      " 28  total_cost             1759 non-null   float64       \n",
      "dtypes: datetime64[ns](2), float64(17), int64(4), object(6)\n",
      "memory usage: 539.8+ KB\n"
     ]
    },
    {
     "data": {
      "text/html": [
       "<div>\n",
       "<style scoped>\n",
       "    .dataframe tbody tr th:only-of-type {\n",
       "        vertical-align: middle;\n",
       "    }\n",
       "\n",
       "    .dataframe tbody tr th {\n",
       "        vertical-align: top;\n",
       "    }\n",
       "\n",
       "    .dataframe thead th {\n",
       "        text-align: right;\n",
       "    }\n",
       "</style>\n",
       "<table border=\"1\" class=\"dataframe\">\n",
       "  <thead>\n",
       "    <tr style=\"text-align: right;\">\n",
       "      <th></th>\n",
       "      <th>user_id</th>\n",
       "      <th>first_name</th>\n",
       "      <th>last_name</th>\n",
       "      <th>age</th>\n",
       "      <th>city</th>\n",
       "      <th>state</th>\n",
       "      <th>reg_date</th>\n",
       "      <th>churn_date</th>\n",
       "      <th>plan</th>\n",
       "      <th>month</th>\n",
       "      <th>...</th>\n",
       "      <th>messages_to_pay</th>\n",
       "      <th>usd_per_message</th>\n",
       "      <th>messages_cost</th>\n",
       "      <th>total_gb</th>\n",
       "      <th>gb_per_month_included</th>\n",
       "      <th>mb_per_month_included</th>\n",
       "      <th>gb_to_pay</th>\n",
       "      <th>usd_per_gb</th>\n",
       "      <th>gb_cost</th>\n",
       "      <th>total_cost</th>\n",
       "    </tr>\n",
       "  </thead>\n",
       "  <tbody>\n",
       "    <tr>\n",
       "      <th>0</th>\n",
       "      <td>1000</td>\n",
       "      <td>Anamaria</td>\n",
       "      <td>Bauer</td>\n",
       "      <td>45</td>\n",
       "      <td>Atlanta-Sandy Springs-Roswell, GA MSA</td>\n",
       "      <td>GA</td>\n",
       "      <td>2018-12-24</td>\n",
       "      <td>NaT</td>\n",
       "      <td>ultimate</td>\n",
       "      <td>12.0</td>\n",
       "      <td>...</td>\n",
       "      <td>0.0</td>\n",
       "      <td>0.01</td>\n",
       "      <td>0.00</td>\n",
       "      <td>2.0</td>\n",
       "      <td>30.0</td>\n",
       "      <td>30720</td>\n",
       "      <td>0.0</td>\n",
       "      <td>7.0</td>\n",
       "      <td>0.0</td>\n",
       "      <td>70.00</td>\n",
       "    </tr>\n",
       "    <tr>\n",
       "      <th>1</th>\n",
       "      <td>1001</td>\n",
       "      <td>Mickey</td>\n",
       "      <td>Wilkerson</td>\n",
       "      <td>28</td>\n",
       "      <td>Seattle-Tacoma-Bellevue, WA MSA</td>\n",
       "      <td>WA</td>\n",
       "      <td>2018-08-13</td>\n",
       "      <td>NaT</td>\n",
       "      <td>surf</td>\n",
       "      <td>10.0</td>\n",
       "      <td>...</td>\n",
       "      <td>3.0</td>\n",
       "      <td>0.03</td>\n",
       "      <td>0.09</td>\n",
       "      <td>22.0</td>\n",
       "      <td>15.0</td>\n",
       "      <td>15360</td>\n",
       "      <td>7.0</td>\n",
       "      <td>10.0</td>\n",
       "      <td>70.0</td>\n",
       "      <td>90.09</td>\n",
       "    </tr>\n",
       "    <tr>\n",
       "      <th>2</th>\n",
       "      <td>1001</td>\n",
       "      <td>Mickey</td>\n",
       "      <td>Wilkerson</td>\n",
       "      <td>28</td>\n",
       "      <td>Seattle-Tacoma-Bellevue, WA MSA</td>\n",
       "      <td>WA</td>\n",
       "      <td>2018-08-13</td>\n",
       "      <td>NaT</td>\n",
       "      <td>surf</td>\n",
       "      <td>11.0</td>\n",
       "      <td>...</td>\n",
       "      <td>0.0</td>\n",
       "      <td>0.03</td>\n",
       "      <td>0.00</td>\n",
       "      <td>19.0</td>\n",
       "      <td>15.0</td>\n",
       "      <td>15360</td>\n",
       "      <td>4.0</td>\n",
       "      <td>10.0</td>\n",
       "      <td>40.0</td>\n",
       "      <td>60.00</td>\n",
       "    </tr>\n",
       "    <tr>\n",
       "      <th>3</th>\n",
       "      <td>1001</td>\n",
       "      <td>Mickey</td>\n",
       "      <td>Wilkerson</td>\n",
       "      <td>28</td>\n",
       "      <td>Seattle-Tacoma-Bellevue, WA MSA</td>\n",
       "      <td>WA</td>\n",
       "      <td>2018-08-13</td>\n",
       "      <td>NaT</td>\n",
       "      <td>surf</td>\n",
       "      <td>12.0</td>\n",
       "      <td>...</td>\n",
       "      <td>0.0</td>\n",
       "      <td>0.03</td>\n",
       "      <td>0.00</td>\n",
       "      <td>19.0</td>\n",
       "      <td>15.0</td>\n",
       "      <td>15360</td>\n",
       "      <td>4.0</td>\n",
       "      <td>10.0</td>\n",
       "      <td>40.0</td>\n",
       "      <td>60.00</td>\n",
       "    </tr>\n",
       "    <tr>\n",
       "      <th>4</th>\n",
       "      <td>1001</td>\n",
       "      <td>Mickey</td>\n",
       "      <td>Wilkerson</td>\n",
       "      <td>28</td>\n",
       "      <td>Seattle-Tacoma-Bellevue, WA MSA</td>\n",
       "      <td>WA</td>\n",
       "      <td>2018-08-13</td>\n",
       "      <td>NaT</td>\n",
       "      <td>surf</td>\n",
       "      <td>9.0</td>\n",
       "      <td>...</td>\n",
       "      <td>0.0</td>\n",
       "      <td>0.03</td>\n",
       "      <td>0.00</td>\n",
       "      <td>14.0</td>\n",
       "      <td>15.0</td>\n",
       "      <td>15360</td>\n",
       "      <td>0.0</td>\n",
       "      <td>10.0</td>\n",
       "      <td>0.0</td>\n",
       "      <td>20.00</td>\n",
       "    </tr>\n",
       "  </tbody>\n",
       "</table>\n",
       "<p>5 rows × 29 columns</p>\n",
       "</div>"
      ],
      "text/plain": [
       "  user_id first_name  last_name  age                                   city  \\\n",
       "0    1000   Anamaria      Bauer   45  Atlanta-Sandy Springs-Roswell, GA MSA   \n",
       "1    1001     Mickey  Wilkerson   28        Seattle-Tacoma-Bellevue, WA MSA   \n",
       "2    1001     Mickey  Wilkerson   28        Seattle-Tacoma-Bellevue, WA MSA   \n",
       "3    1001     Mickey  Wilkerson   28        Seattle-Tacoma-Bellevue, WA MSA   \n",
       "4    1001     Mickey  Wilkerson   28        Seattle-Tacoma-Bellevue, WA MSA   \n",
       "\n",
       "  state   reg_date churn_date      plan  month  ...  messages_to_pay  \\\n",
       "0    GA 2018-12-24        NaT  ultimate   12.0  ...              0.0   \n",
       "1    WA 2018-08-13        NaT      surf   10.0  ...              3.0   \n",
       "2    WA 2018-08-13        NaT      surf   11.0  ...              0.0   \n",
       "3    WA 2018-08-13        NaT      surf   12.0  ...              0.0   \n",
       "4    WA 2018-08-13        NaT      surf    9.0  ...              0.0   \n",
       "\n",
       "   usd_per_message  messages_cost  total_gb  gb_per_month_included  \\\n",
       "0             0.01           0.00       2.0                   30.0   \n",
       "1             0.03           0.09      22.0                   15.0   \n",
       "2             0.03           0.00      19.0                   15.0   \n",
       "3             0.03           0.00      19.0                   15.0   \n",
       "4             0.03           0.00      14.0                   15.0   \n",
       "\n",
       "   mb_per_month_included  gb_to_pay  usd_per_gb  gb_cost  total_cost  \n",
       "0                  30720        0.0         7.0      0.0       70.00  \n",
       "1                  15360        7.0        10.0     70.0       90.09  \n",
       "2                  15360        4.0        10.0     40.0       60.00  \n",
       "3                  15360        4.0        10.0     40.0       60.00  \n",
       "4                  15360        0.0        10.0      0.0       20.00  \n",
       "\n",
       "[5 rows x 29 columns]"
      ]
     },
     "execution_count": 31,
     "metadata": {},
     "output_type": "execute_result"
    }
   ],
   "source": [
    "# Calcula el ingreso mensual para cada usuario\n",
    "\n",
    "## Minutos de LLamadas A Pagar\n",
    "monthly_info['minutes_to_pay'] = monthly_info['total_duration'] - monthly_info['minutes_included']\n",
    "monthly_info['minutes_to_pay'] = monthly_info['minutes_to_pay'].apply(lambda x: max(x, 0))\n",
    "## Costo Extra:\n",
    "monthly_info['minute_cost'] = monthly_info['minutes_to_pay']*monthly_info['usd_per_minute']\n",
    "\n",
    "## Numero de Mensajes A Pagar\n",
    "monthly_info['messages_to_pay'] = monthly_info['total_messages'] - monthly_info['messages_included']\n",
    "monthly_info['messages_to_pay'] = monthly_info['messages_to_pay'].apply(lambda x: max(x, 0))\n",
    "## Costo Extra:\n",
    "monthly_info['messages_cost'] = monthly_info['messages_to_pay']*monthly_info['usd_per_message']\n",
    "\n",
    "## Numero de GB de Internet A Pagar\n",
    "monthly_info['gb_to_pay'] = monthly_info['total_gb'] - monthly_info['mb_per_month_included']/1024\n",
    "monthly_info['gb_to_pay'] = monthly_info['gb_to_pay'].apply(lambda x: max(x, 0))\n",
    "## Costo Extra:\n",
    "monthly_info['gb_cost'] = monthly_info['gb_to_pay']*monthly_info['usd_per_gb']\n",
    "\n",
    "## Total a Pagar por los Servicios\n",
    "monthly_info['total_cost'] = monthly_info['gb_cost'] + monthly_info['messages_cost'] + monthly_info['minute_cost'] + monthly_info['usd_monthly_pay']\n",
    "\n",
    "## Ordenar las columnas del dataframe\n",
    "monthly_info = monthly_info[['user_id',\n",
    "                             'first_name',\n",
    "                             'last_name',\n",
    "                             'age',\n",
    "                             'city',\n",
    "                             'state',\n",
    "                             'reg_date',\n",
    "                             'churn_date',\n",
    "                             'plan',\n",
    "                             'month',\n",
    "                             'usd_monthly_pay',\n",
    "                             'total_calls',\n",
    "                             'minutes_included',\n",
    "                             'total_duration',\n",
    "                             'minutes_to_pay',\n",
    "                             'usd_per_minute',\n",
    "                             'minute_cost',\n",
    "                             'total_messages',\n",
    "                             'messages_included',\n",
    "                             'messages_to_pay',\n",
    "                             'usd_per_message',\n",
    "                             'messages_cost',\n",
    "                             'total_gb',\n",
    "                             'gb_per_month_included',\n",
    "                             'mb_per_month_included',\n",
    "                             'gb_to_pay',\n",
    "                             'usd_per_gb',\n",
    "                             'gb_cost',      \n",
    "                             'total_cost']]\n",
    "\n",
    "monthly_info.info()\n",
    "\n",
    "## Mostrar\n",
    "monthly_info.sort_values(by='user_id', ascending=True, inplace=True)\n",
    "monthly_info.reset_index(drop=True, inplace=True)\n",
    "monthly_info.head()"
   ]
  },
  {
   "cell_type": "markdown",
   "metadata": {
    "id": "-jtyHzJb0q1I"
   },
   "source": [
    "## Estudia el comportamiento de usuario"
   ]
  },
  {
   "cell_type": "markdown",
   "metadata": {
    "id": "AxU3Y0N70q1J"
   },
   "source": [
    "[Calcula algunas estadísticas descriptivas para los datos agregados y fusionados que nos sean útiles y que muestren un panorama general captado por los datos. Dibuja gráficos útiles para facilitar la comprensión. Dado que la tarea principal es comparar las tarifas y decidir cuál es más rentable, las estadísticas y gráficas deben calcularse por tarifa.]\n",
    "\n",
    "[En los comentarios hallarás pistas relevantes para las llamadas, pero no las hay para los mensajes e Internet. Sin embargo, el principio del estudio estadístico que se aplica para ellos es el mismo que para las llamadas.]"
   ]
  },
  {
   "cell_type": "markdown",
   "metadata": {
    "id": "vtW4CJEe0q1J"
   },
   "source": [
    "### Llamadas"
   ]
  },
  {
   "cell_type": "code",
   "execution_count": 32,
   "metadata": {
    "id": "Jf5v5--k0q1J"
   },
   "outputs": [
    {
     "name": "stdout",
     "output_type": "stream",
     "text": [
      "plan month  surf  ultimate\n",
      "0      Ene   203       193\n",
      "1      Feb   297       470\n",
      "2      Mar   330       304\n",
      "3      Abr   351       336\n",
      "4      May   410       406\n",
      "5      Jun   435       387\n",
      "6      Jul   453       427\n",
      "7      Ago   417       421\n",
      "8      Sep   420       437\n",
      "9      Oct   438       455\n",
      "10     Nov   432       448\n",
      "11     Dic   484       465\n"
     ]
    },
    {
     "data": {
      "text/plain": [
       "<Figure size 1000x800 with 0 Axes>"
      ]
     },
     "metadata": {},
     "output_type": "display_data"
    },
    {
     "data": {
      "image/png": "[encoded data removed]",
      "text/plain": [
       "<Figure size 640x480 with 1 Axes>"
      ]
     },
     "metadata": {},
     "output_type": "display_data"
    }
   ],
   "source": [
    "# Calcular la duración promedio de llamadas por cada plan y por cada mes.\n",
    "# Unstack mueve los indices del plan y las convierte en columnas.\n",
    "mean_duration_by_month_plan = monthly_info.groupby(['month', 'plan'])['total_duration'].mean().unstack('plan').reset_index()\n",
    "mean_duration_by_month_plan['month'] = mean_duration_by_month_plan['month'].astype('int64')\n",
    "\n",
    "# Definir el diccionario de traducción\n",
    "meses = {\n",
    "    1: 'Ene',\n",
    "    2: 'Feb',\n",
    "    3: 'Mar',\n",
    "    4: 'Abr',\n",
    "    5: 'May',\n",
    "    6: 'Jun',\n",
    "    7: 'Jul',\n",
    "    8: 'Ago',\n",
    "    9: 'Sep',\n",
    "    10: 'Oct',\n",
    "    11: 'Nov',\n",
    "    12: 'Dic'\n",
    "}\n",
    "\n",
    "mean_duration_by_month_plan['month'] = mean_duration_by_month_plan['month'].map(meses)\n",
    "mean_duration_by_month_plan['surf'] = mean_duration_by_month_plan['surf'].astype('int64')\n",
    "mean_duration_by_month_plan['ultimate'] = mean_duration_by_month_plan['ultimate'].astype('int64')\n",
    "\n",
    "print(mean_duration_by_month_plan)\n",
    "\n",
    "# Crear un gráfico de barras para visualizarla.\n",
    "plt.figure(figsize=(10, 8))\n",
    "mean_duration_by_month_plan.plot(x='month', \n",
    "                                 kind='bar', \n",
    "                                 y=['surf','ultimate'],\n",
    "                                 color=['purple', 'yellow'],\n",
    "                                 edgecolor='black',\n",
    "                                 title='Duración Promedio de Llamadas por Plan',\n",
    "                                 xlabel='Meses del 2018', \n",
    "                                 ylabel='Promedio de llamadas (minutos)',\n",
    "                                 rot=45,\n",
    "                                 legend=True,\n",
    "                                 grid= False)\n",
    "\n",
    "plt.legend(['Surf','Ultimate'], bbox_to_anchor=(1, 0.5), loc='center left')\n",
    "plt.show()\n",
    "\n"
   ]
  },
  {
   "cell_type": "markdown",
   "metadata": {},
   "source": [
    "**Notas:**\n",
    "- He calculado la duración promedio de las llamadas por cada plan y por cada mes. He utilizado unstack() para convertir los índices del plan en columnas. Le inclui los nombres de los meses para una mejor lectura. Converti las duraciones promedio a enteros. Grafique la duración promedio de las llamadas por plan utilizando un gráfico de barras.\n",
    "\n",
    "- El gráfico resultante muestra la duración promedio de las llamadas para los planes 'Surf' y 'Ultimate' a lo largo de los meses."
   ]
  },
  {
   "cell_type": "code",
   "execution_count": 33,
   "metadata": {
    "id": "QoLqW1S_0q1J"
   },
   "outputs": [
    {
     "data": {
      "image/png": "[encoded data removed]",
      "text/plain": [
       "<Figure size 1000x800 with 1 Axes>"
      ]
     },
     "metadata": {},
     "output_type": "display_data"
    }
   ],
   "source": [
    "# Compara el número de \"minutos mensuales\" que necesitan los usuarios de cada plan. Trazar histograma\n",
    "\n",
    "## Filtrar los minutos mensuales por plan para poder graficarlos\n",
    "monthly_minutes_sum = monthly_info.groupby(['user_id','month', 'plan'])['total_duration'].sum().reset_index()\n",
    "#print(monthly_minutes_sum)\n",
    "\n",
    "## Filtrar los datos por plan\n",
    "surf_minutes = monthly_minutes_sum[monthly_minutes_sum['plan'] == 'surf']['total_duration']\n",
    "ultimate_minutes = monthly_minutes_sum[monthly_minutes_sum['plan'] == 'ultimate']['total_duration']\n",
    "#print(surf_minutes)\n",
    "#print(ultimate_minutes)\n",
    "\n",
    "## Trazar histograma\n",
    "plt.figure(figsize=(10, 8))\n",
    "surf_minutes.plot(kind='hist', \n",
    "                 bins=30, \n",
    "                 alpha=1,\n",
    "                 title='Distribución del número de minutos mensuales por plan',\n",
    "                 label='Surf', \n",
    "                 color='purple')\n",
    "\n",
    "ultimate_minutes.plot(kind='hist', \n",
    "                 bins=30, \n",
    "                 alpha=0.8,\n",
    "                 label='Ultimate', \n",
    "                 color='yellow')\n",
    "\n",
    "plt.xlabel('Minutos mensuales')\n",
    "plt.ylabel('Frecuencia')\n",
    "plt.legend(['Surf','Ultimate'], bbox_to_anchor=(1, 0.5), loc='center left')\n",
    "plt.show()\n"
   ]
  },
  {
   "cell_type": "markdown",
   "metadata": {},
   "source": [
    "**Notas:** \n",
    "\n",
    "- Mostre el número de minutos mensuales que necesitan los usuarios de cada plan utilizando un histograma. He agrupado los datos por usuario, mes y plan, y luego he calculado la suma de la duración total de las llamadas por grupo. Luego, he filtrado estos datos por plan y he trazado un histograma para cada plan.\n",
    "\n",
    "- El histograma muestra la distribución del número de minutos mensuales para cada plan (Surf y Ultimate). Cada barra en el histograma representa un rango de minutos mensuales, y la altura de la barra representa la frecuencia de usuarios que tienen ese número de minutos mensuales.\n"
   ]
  },
  {
   "cell_type": "markdown",
   "metadata": {
    "id": "bLS9T8OH0q1K"
   },
   "source": [
    "[Calcula la media y la variable de la duración de las llamadas para averiguar si los usuarios de los distintos planes se comportan de forma diferente al realizar sus llamadas.]"
   ]
  },
  {
   "cell_type": "code",
   "execution_count": 34,
   "metadata": {
    "id": "oSndbAnt0q1K"
   },
   "outputs": [
    {
     "name": "stdout",
     "output_type": "stream",
     "text": [
      "Duración de Llamadas Plan Surf:\n",
      "Media : 428.7495232040687\n",
      "Varianza : 54968.27946065038\n",
      "\n",
      "Duración de LLamadas Plan Ultimate:\n",
      "Media : 430.45\n",
      "Varianza: 57844.46481223922\n"
     ]
    }
   ],
   "source": [
    "# Calcula la media y la varianza de la duración mensual de llamadas.\n",
    "\n",
    "mean_duration_surf = surf_minutes.mean()\n",
    "variance_duration_surf = surf_minutes.var()\n",
    "\n",
    "mean_duration_ultimate = ultimate_minutes.mean()\n",
    "variance_duration_ultimate = ultimate_minutes.var()\n",
    "\n",
    "# Imprimir los resultados\n",
    "print(\"Duración de Llamadas Plan Surf:\")\n",
    "print(\"Media :\", mean_duration_surf)\n",
    "print(\"Varianza :\", variance_duration_surf)\n",
    "print()\n",
    "print(\"Duración de LLamadas Plan Ultimate:\")\n",
    "print(\"Media :\", mean_duration_ultimate)\n",
    "print(\"Varianza:\", variance_duration_ultimate)\n"
   ]
  },
  {
   "cell_type": "markdown",
   "metadata": {},
   "source": [
    "**Notas:**\n",
    "\n",
    "- Estos resultados muestran que, en promedio, la duración de las llamadas para ambos planes es similar. Sin embargo, la varianza es ligeramente mayor para el Plan Ultimate, lo que podría indicar una mayor dispersión en la duración de las llamadas para ese plan en comparación con el Plan Surf. En general, estos resultados sugieren que los usuarios de los dos planes no se comportan de manera significativamente diferente al realizar sus llamadas, al menos en términos de duración promedio y variabilidad."
   ]
  },
  {
   "cell_type": "code",
   "execution_count": 35,
   "metadata": {
    "id": "nZzoRUKc0q1K"
   },
   "outputs": [
    {
     "data": {
      "image/png": "[encoded data removed]",
      "text/plain": [
       "<Figure size 1000x600 with 1 Axes>"
      ]
     },
     "metadata": {},
     "output_type": "display_data"
    }
   ],
   "source": [
    "# Traza un diagrama de caja para visualizar la distribución de la duración mensual de llamadas\n",
    "plt.figure(figsize=(10, 6))\n",
    "plt.boxplot([surf_minutes, ultimate_minutes], labels=['Surf', 'Ultimate'])\n",
    "plt.xlabel('Plan')\n",
    "plt.ylabel('Duración mensual de llamadas')\n",
    "plt.title('Distribución de la duración mensual de llamadas por plan')\n",
    "plt.show()"
   ]
  },
  {
   "cell_type": "markdown",
   "metadata": {
    "id": "r627zBO50q1K"
   },
   "source": [
    "[Elabora las conclusiones sobre el comportamiento de los usuarios con respecto a las llamadas. ¿Su comportamiento varía en función del plan?]"
   ]
  },
  {
   "cell_type": "code",
   "execution_count": 36,
   "metadata": {},
   "outputs": [
    {
     "data": {
      "text/plain": [
       "count    1573.000000\n",
       "mean      428.749523\n",
       "std       234.453150\n",
       "min         0.000000\n",
       "25%       272.000000\n",
       "50%       425.000000\n",
       "75%       576.000000\n",
       "max      1510.000000\n",
       "Name: total_duration, dtype: float64"
      ]
     },
     "execution_count": 36,
     "metadata": {},
     "output_type": "execute_result"
    }
   ],
   "source": [
    "surf_minutes.describe()"
   ]
  },
  {
   "cell_type": "code",
   "execution_count": 37,
   "metadata": {},
   "outputs": [
    {
     "data": {
      "text/plain": [
       "count     720.000000\n",
       "mean      430.450000\n",
       "std       240.508762\n",
       "min         0.000000\n",
       "25%       260.000000\n",
       "50%       424.000000\n",
       "75%       565.250000\n",
       "max      1369.000000\n",
       "Name: total_duration, dtype: float64"
      ]
     },
     "execution_count": 37,
     "metadata": {},
     "output_type": "execute_result"
    }
   ],
   "source": [
    "ultimate_minutes.describe()"
   ]
  },
  {
   "cell_type": "markdown",
   "metadata": {},
   "source": [
    "**Notas:**\n",
    "- No, la variabilidad y la distribución de estos datos sugieren que el comportamiento general de los usuarios en cuanto a la duración de las llamadas no varía significativamente en función del plan. \n",
    "\n",
    "- El promedio de duración mensual de llamadas para el plan Surf es de aproximadamente 428.75 minutos, mientras que para el plan Ultimate es de aproximadamente 430.45 minutos. La diferencia en los promedios es mínima, lo que sugiere que, en promedio, ambos planes tienen un comportamiento similar en cuanto a la duración de las llamadas.\n",
    "\n",
    "- La desviación estándar para el plan Surf es de aproximadamente 234.45 minutos, y para el plan Ultimate es de aproximadamente 240.51 minutos. Esto indica que la variabilidad en la duración de las llamadas es comparable entre ambos planes, con una distribución de datos similar."
   ]
  },
  {
   "cell_type": "markdown",
   "metadata": {
    "id": "8idKy8Wh0q1L"
   },
   "source": [
    "### Mensajes"
   ]
  },
  {
   "cell_type": "code",
   "execution_count": 38,
   "metadata": {
    "id": "NXLxiTit0q1L"
   },
   "outputs": [
    {
     "name": "stdout",
     "output_type": "stream",
     "text": [
      "plan month  surf  ultimate\n",
      "0      Ene    21        20\n",
      "1      Feb    21        25\n",
      "2      Mar    21        34\n",
      "3      Abr    24        28\n",
      "4      May    33        44\n",
      "5      Jun    33        36\n",
      "6      Jul    35        41\n",
      "7      Ago    37        47\n",
      "8      Sep    39        45\n",
      "9      Oct    42        46\n",
      "10     Nov    40        47\n",
      "11     Dic    48        53\n"
     ]
    },
    {
     "data": {
      "text/plain": [
       "<Figure size 1000x800 with 0 Axes>"
      ]
     },
     "metadata": {},
     "output_type": "display_data"
    },
    {
     "data": {
      "image/png": "[encoded data removed]",
      "text/plain": [
       "<Figure size 640x480 with 1 Axes>"
      ]
     },
     "metadata": {},
     "output_type": "display_data"
    }
   ],
   "source": [
    "# Comprara el número de mensajes que tienden a enviar cada mes los usuarios de cada plan\n",
    "mean_messages_by_month_plan = monthly_info.groupby(['month', 'plan'])['total_messages'].mean().unstack('plan').reset_index()\n",
    "mean_messages_by_month_plan['month'] = mean_messages_by_month_plan['month'].astype('int64')\n",
    "\n",
    "# Definir el diccionario de traducción\n",
    "meses = {\n",
    "    1: 'Ene',\n",
    "    2: 'Feb',\n",
    "    3: 'Mar',\n",
    "    4: 'Abr',\n",
    "    5: 'May',\n",
    "    6: 'Jun',\n",
    "    7: 'Jul',\n",
    "    8: 'Ago',\n",
    "    9: 'Sep',\n",
    "    10: 'Oct',\n",
    "    11: 'Nov',\n",
    "    12: 'Dic'\n",
    "}\n",
    "\n",
    "mean_messages_by_month_plan['month'] = mean_messages_by_month_plan['month'].map(meses)\n",
    "mean_messages_by_month_plan['surf'] = mean_messages_by_month_plan['surf'].astype('int64')\n",
    "mean_messages_by_month_plan['ultimate'] = mean_messages_by_month_plan['ultimate'].astype('int64')\n",
    "\n",
    "print(mean_messages_by_month_plan)\n",
    "\n",
    "# Crear un gráfico de barras para visualizarla.\n",
    "plt.figure(figsize=(10, 8))\n",
    "mean_messages_by_month_plan.plot(x='month', \n",
    "                                 kind='bar', \n",
    "                                 y=['surf','ultimate'],\n",
    "                                 color=['purple', 'yellow'],\n",
    "                                 edgecolor='black',\n",
    "                                 title='Número Promedio de Mensajes por Mes y Plan',\n",
    "                                 xlabel='Meses del 2018', \n",
    "                                 ylabel='Promedio de Mensajes',\n",
    "                                 rot=45,\n",
    "                                 legend=True,\n",
    "                                 grid= False)\n",
    "\n",
    "plt.legend(['Surf','Ultimate'], bbox_to_anchor=(1, 0.5), loc='center left')\n",
    "plt.show()\n",
    "\n"
   ]
  },
  {
   "cell_type": "markdown",
   "metadata": {},
   "source": [
    "**Notas:**\n",
    "- Estos resultados sugieren que los usuarios del plan Ultimate tienden a utilizar más los servicios de mensajes en comparación con los usuarios del plan Surf, especialmente en los meses de mayor actividad como diciembre y mayo. Esta información puede ser útil para ajustar estrategias de marketing, planificación de recursos y para comprender mejor las necesidades y preferencias de los diferentes segmentos de usuarios de la compañía."
   ]
  },
  {
   "cell_type": "code",
   "execution_count": 39,
   "metadata": {
    "id": "dtFwCGAp0q1M"
   },
   "outputs": [
    {
     "data": {
      "image/png": "[encoded data removed]",
      "text/plain": [
       "<Figure size 1000x800 with 1 Axes>"
      ]
     },
     "metadata": {},
     "output_type": "display_data"
    }
   ],
   "source": [
    "## Filtrar los mensajes mensuales por plan para poder graficarlos\n",
    "monthly_messages_sum = monthly_info.groupby(['user_id','month', 'plan'])['total_messages'].sum().reset_index()\n",
    "#print(monthly_messages_sum)\n",
    "\n",
    "## Filtrar los datos por plan\n",
    "surf_messages     = monthly_messages_sum[monthly_messages_sum['plan'] == 'surf']['total_messages']\n",
    "ultimate_messages = monthly_messages_sum[monthly_messages_sum['plan'] == 'ultimate']['total_messages']\n",
    "#print(surf_messages)\n",
    "#print(ultimate_messages)\n",
    "\n",
    "## Trazar histograma\n",
    "plt.figure(figsize=(10, 8))\n",
    "surf_messages.plot(kind='hist', \n",
    "                 bins=20, \n",
    "                 alpha=1,\n",
    "                 title='Distribución del número de mensajes mensuales por plan',\n",
    "                 label='Surf', \n",
    "                 color='purple')\n",
    "\n",
    "ultimate_messages.plot(kind='hist', \n",
    "                 bins=20, \n",
    "                 alpha=0.8,\n",
    "                 label='Ultimate', \n",
    "                 color='yellow')\n",
    "\n",
    "plt.xlabel('Mensajes mensuales')\n",
    "plt.ylabel('Frecuencia')\n",
    "plt.legend(['Surf','Ultimate'], bbox_to_anchor=(1, 0.5), loc='center left')\n",
    "plt.show()\n"
   ]
  },
  {
   "cell_type": "code",
   "execution_count": 40,
   "metadata": {},
   "outputs": [
    {
     "data": {
      "text/plain": [
       "count    1573.000000\n",
       "mean       31.159568\n",
       "std        33.566717\n",
       "min         0.000000\n",
       "25%         3.000000\n",
       "50%        24.000000\n",
       "75%        47.000000\n",
       "max       266.000000\n",
       "Name: total_messages, dtype: float64"
      ]
     },
     "execution_count": 40,
     "metadata": {},
     "output_type": "execute_result"
    }
   ],
   "source": [
    "surf_messages.describe()"
   ]
  },
  {
   "cell_type": "code",
   "execution_count": 41,
   "metadata": {},
   "outputs": [
    {
     "data": {
      "text/plain": [
       "count    720.000000\n",
       "mean      37.551389\n",
       "std       34.767179\n",
       "min        0.000000\n",
       "25%        7.000000\n",
       "50%       30.000000\n",
       "75%       61.000000\n",
       "max      166.000000\n",
       "Name: total_messages, dtype: float64"
      ]
     },
     "execution_count": 41,
     "metadata": {},
     "output_type": "execute_result"
    }
   ],
   "source": [
    "ultimate_messages.describe()"
   ]
  },
  {
   "cell_type": "markdown",
   "metadata": {
    "id": "390SSL480q1M"
   },
   "source": [
    "[Elabora las conclusiones sobre el comportamiento de los usuarios con respecto a los mensajes. ¿Su comportamiento varía en función del plan?]"
   ]
  },
  {
   "cell_type": "markdown",
   "metadata": {},
   "source": [
    "**Notas:**\n",
    "- No, el comportamiento de los usuarios varía, en mi opinion muy levemente en función del plan, especialmente en cuanto al número de mensajes enviados mensualmente. \n",
    "\n",
    "- Los usuarios del plan Ultimate envían en promedio más mensajes por mes (aproximadamente 37.55 mensajes) en comparación con los usuarios del plan Surf (aproximadamente 31.16 mensajes) pero nada tan significativo. \n",
    "\n",
    "- Ambos planes muestran una alta variabilidad en la cantidad de mensajes enviados, como lo indica la desviación estándar significativa en ambos casos (Surf: aproximadamente 33.57, Ultimate: aproximadamente 34.77). Esto significa que hay una amplia gama en la cantidad de mensajes enviados por los usuarios en cada plan, desde mínimos hasta máximos considerablemente altos.\n"
   ]
  },
  {
   "cell_type": "markdown",
   "metadata": {
    "id": "42YSypXz0q1M"
   },
   "source": [
    "### Internet"
   ]
  },
  {
   "cell_type": "code",
   "execution_count": 42,
   "metadata": {
    "id": "GRI_R7xF0q1L"
   },
   "outputs": [
    {
     "name": "stdout",
     "output_type": "stream",
     "text": [
      "plan month  surf  ultimate\n",
      "0      Ene     5         7\n",
      "1      Feb    12        17\n",
      "2      Mar    13        18\n",
      "3      Abr    12        16\n",
      "4      May    14        16\n",
      "5      Jun    15        15\n",
      "6      Jul    17        16\n",
      "7      Ago    17        17\n",
      "8      Sep    16        17\n",
      "9      Oct    17        17\n",
      "10     Nov    16        17\n",
      "11     Dic    18        18\n"
     ]
    },
    {
     "data": {
      "text/plain": [
       "<Figure size 1000x800 with 0 Axes>"
      ]
     },
     "metadata": {},
     "output_type": "display_data"
    },
    {
     "data": {
      "image/png": "[encoded data removed]",
      "text/plain": [
       "<Figure size 640x480 with 1 Axes>"
      ]
     },
     "metadata": {},
     "output_type": "display_data"
    }
   ],
   "source": [
    "# Compara la cantidad de tráfico de Internet consumido por usuarios por plan\n",
    "mean_gb_by_month_plan = monthly_info.groupby(['month', 'plan'])['total_gb'].mean().unstack('plan').reset_index()\n",
    "mean_gb_by_month_plan['month'] = mean_gb_by_month_plan['month'].astype('int64')\n",
    "\n",
    "# Definir el diccionario de traducción\n",
    "meses = {\n",
    "    1: 'Ene',\n",
    "    2: 'Feb',\n",
    "    3: 'Mar',\n",
    "    4: 'Abr',\n",
    "    5: 'May',\n",
    "    6: 'Jun',\n",
    "    7: 'Jul',\n",
    "    8: 'Ago',\n",
    "    9: 'Sep',\n",
    "    10: 'Oct',\n",
    "    11: 'Nov',\n",
    "    12: 'Dic'\n",
    "}\n",
    "\n",
    "mean_gb_by_month_plan['month']    = mean_gb_by_month_plan['month'].map(meses)\n",
    "mean_gb_by_month_plan['surf']     = mean_gb_by_month_plan['surf'].astype('int64')\n",
    "mean_gb_by_month_plan['ultimate'] = mean_gb_by_month_plan['ultimate'].astype('int64')\n",
    "\n",
    "print(mean_gb_by_month_plan)\n",
    "\n",
    "# Crear un gráfico de barras para visualizarla.\n",
    "plt.figure(figsize=(10, 8))\n",
    "mean_gb_by_month_plan.plot(x='month', \n",
    "                                 kind='bar', \n",
    "                                 y=['surf','ultimate'],\n",
    "                                 color=['purple', 'yellow'],\n",
    "                                 edgecolor='black',\n",
    "                                 title='Número Promedio de GB por Mes y Plan',\n",
    "                                 xlabel='Meses del 2018', \n",
    "                                 ylabel='Promedio de GB',\n",
    "                                 rot=45,\n",
    "                                 legend=True,\n",
    "                                 grid= False)\n",
    "\n",
    "plt.legend(['Surf','Ultimate'], bbox_to_anchor=(1, 0.5), loc='center left')\n",
    "plt.show()"
   ]
  },
  {
   "cell_type": "code",
   "execution_count": 43,
   "metadata": {
    "id": "5VlyJ9ry0q1N"
   },
   "outputs": [
    {
     "data": {
      "image/png": "[encoded data removed]",
      "text/plain": [
       "<Figure size 1000x800 with 1 Axes>"
      ]
     },
     "metadata": {},
     "output_type": "display_data"
    }
   ],
   "source": [
    "## Filtrar los GB mensuales por plan para poder graficarlos\n",
    "monthly_gb_sum = monthly_info.groupby(['user_id','month', 'plan'])['total_gb'].sum().reset_index()\n",
    "#print(monthly_messages_sum)\n",
    "\n",
    "## Filtrar los datos por plan\n",
    "surf_gb     = monthly_gb_sum[monthly_gb_sum['plan'] == 'surf']['total_gb']\n",
    "ultimate_gb = monthly_gb_sum[monthly_gb_sum['plan'] == 'ultimate']['total_gb']\n",
    "#print(surf_gb)\n",
    "#print(ultimate_gb)\n",
    "\n",
    "## Trazar histograma\n",
    "plt.figure(figsize=(10, 8))\n",
    "surf_gb.plot(kind='hist', \n",
    "                 bins=20, \n",
    "                 alpha=1,\n",
    "                 title='Distribución del número de gb mensuales por plan',\n",
    "                 label='Surf', \n",
    "                 color='purple')\n",
    "\n",
    "ultimate_gb.plot(kind='hist', \n",
    "                 bins=20, \n",
    "                 alpha=0.8,\n",
    "                 label='Ultimate', \n",
    "                 color='yellow')\n",
    "\n",
    "plt.xlabel('GB mensuales')\n",
    "plt.ylabel('Frecuencia')\n",
    "plt.legend(['Surf','Ultimate'], bbox_to_anchor=(1, 0.5), loc='center left')\n",
    "plt.show()"
   ]
  },
  {
   "cell_type": "code",
   "execution_count": 44,
   "metadata": {},
   "outputs": [
    {
     "data": {
      "text/plain": [
       "count    1573.000000\n",
       "mean       16.684679\n",
       "std         7.852067\n",
       "min         0.000000\n",
       "25%        12.000000\n",
       "50%        17.000000\n",
       "75%        21.000000\n",
       "max        70.000000\n",
       "Name: total_gb, dtype: float64"
      ]
     },
     "execution_count": 44,
     "metadata": {},
     "output_type": "execute_result"
    }
   ],
   "source": [
    "surf_gb.describe()"
   ]
  },
  {
   "cell_type": "code",
   "execution_count": 45,
   "metadata": {},
   "outputs": [
    {
     "data": {
      "text/plain": [
       "count    720.000000\n",
       "mean      17.334722\n",
       "std        7.677282\n",
       "min        0.000000\n",
       "25%       13.000000\n",
       "50%       17.000000\n",
       "75%       21.000000\n",
       "max       46.000000\n",
       "Name: total_gb, dtype: float64"
      ]
     },
     "execution_count": 45,
     "metadata": {},
     "output_type": "execute_result"
    }
   ],
   "source": [
    "ultimate_gb.describe()"
   ]
  },
  {
   "cell_type": "markdown",
   "metadata": {
    "id": "UN9zwuMP0q1N"
   },
   "source": [
    "[Elabora las conclusiones sobre cómo los usuarios tienden a consumir el tráfico de Internet. ¿Su comportamiento varía en función del plan?]"
   ]
  },
  {
   "cell_type": "markdown",
   "metadata": {},
   "source": [
    "**Notas:**\n",
    "- El promedio mensual de consumo de GB para el plan Surf es de aproximadamente 16.68 GB, mientras que para el plan Ultimate es de aproximadamente 17.33 GB. La diferencia en los promedios es mínima, lo que sugiere que, en promedio, ambos planes tienen un comportamiento similar en cuanto al consumo de datos de Internet.\n",
    "\n",
    "- La desviación estándar para el plan Surf es de aproximadamente 7.85 GB, y para el plan Ultimate es de aproximadamente 7.67 GB. Esto indica que la variabilidad en el consumo de GB es comparable entre ambos planes, con una distribución de datos similar.\n",
    "\n",
    "- Los percentiles (25%, 50%, 75%) muestran que la mediana (50%) para ambos planes es de 17 GB, lo cual indica que la mitad de los usuarios consumen menos de este valor y la otra mitad consume más. Los valores en el 25% y 75% también son comparables entre los dos planes.\n",
    "\n",
    "\n",
    "- Ambos planes tienen un mínimo de consumo de GB de 0, lo cual indica que algunos usuarios no consumieron datos en ciertos meses. Los valores máximos muestran que, en general, los usuarios de ambos planes pueden alcanzar consumos de datos altos, con un máximo de 70 GB para Surf y 46 GB para Ultimate.\n"
   ]
  },
  {
   "cell_type": "markdown",
   "metadata": {
    "id": "tCijq3260q1N"
   },
   "source": [
    "## Ingreso"
   ]
  },
  {
   "cell_type": "markdown",
   "metadata": {
    "id": "9nq5IAcy0q1O"
   },
   "source": [
    "[Del mismo modo que has estudiado el comportamiento de los usuarios, describe estadísticamente los ingresos de los planes.]"
   ]
  },
  {
   "cell_type": "code",
   "execution_count": 46,
   "metadata": {
    "id": "tz-dq_V00q1O"
   },
   "outputs": [
    {
     "name": "stdout",
     "output_type": "stream",
     "text": [
      "plan month  surf  ultimate\n",
      "0      Ene    20        70\n",
      "1      Feb    23        70\n",
      "2      Mar    38        78\n",
      "3      Abr    40        73\n",
      "4      May    50        71\n",
      "5      Jun    52        72\n",
      "6      Jul    62        72\n",
      "7      Ago    64        72\n",
      "8      Sep    57        71\n",
      "9      Oct    65        72\n",
      "10     Nov    57        72\n",
      "11     Dic    68        72\n"
     ]
    },
    {
     "data": {
      "text/plain": [
       "<Figure size 1000x800 with 0 Axes>"
      ]
     },
     "metadata": {},
     "output_type": "display_data"
    },
    {
     "data": {
      "image/png": "[encoded data removed]",
      "text/plain": [
       "<Figure size 640x480 with 1 Axes>"
      ]
     },
     "metadata": {},
     "output_type": "display_data"
    }
   ],
   "source": [
    "# Compara la cantidad de costo por usuarios por plan\n",
    "mean_revenue_by_month_plan = monthly_info.groupby(['month', 'plan'])['total_cost'].mean().unstack('plan').reset_index()\n",
    "mean_revenue_by_month_plan['month'] = mean_revenue_by_month_plan['month'].astype('int64')\n",
    "\n",
    "# Definir el diccionario de traducción\n",
    "meses = {\n",
    "    1: 'Ene',\n",
    "    2: 'Feb',\n",
    "    3: 'Mar',\n",
    "    4: 'Abr',\n",
    "    5: 'May',\n",
    "    6: 'Jun',\n",
    "    7: 'Jul',\n",
    "    8: 'Ago',\n",
    "    9: 'Sep',\n",
    "    10: 'Oct',\n",
    "    11: 'Nov',\n",
    "    12: 'Dic'\n",
    "}\n",
    "\n",
    "mean_revenue_by_month_plan['month']    = mean_revenue_by_month_plan['month'].map(meses)\n",
    "mean_revenue_by_month_plan['surf']     = mean_revenue_by_month_plan['surf'].astype('int64')\n",
    "mean_revenue_by_month_plan['ultimate'] = mean_revenue_by_month_plan['ultimate'].astype('int64')\n",
    "\n",
    "print(mean_revenue_by_month_plan)\n",
    "\n",
    "# Crear un gráfico de barras para visualizarla.\n",
    "plt.figure(figsize=(10, 8))\n",
    "mean_revenue_by_month_plan.plot(x='month', \n",
    "                                 kind='bar', \n",
    "                                 y=['surf','ultimate'],\n",
    "                                 color=['purple', 'yellow'],\n",
    "                                 edgecolor='black',\n",
    "                                 title='Ingresos Mensuales por Plan',\n",
    "                                 xlabel='Meses del 2018', \n",
    "                                 ylabel='Promedio de Ingresos Mensuales (USD)',\n",
    "                                 rot=45,\n",
    "                                 legend=True,\n",
    "                                 grid= False)\n",
    "\n",
    "plt.legend(['Surf','Ultimate'], bbox_to_anchor=(1, 0.5), loc='center left')\n",
    "plt.show()"
   ]
  },
  {
   "cell_type": "markdown",
   "metadata": {
    "id": "KAFidcXZ0q1P"
   },
   "source": [
    "[Elabora las conclusiones sobre cómo difiere el ingreso entre los planes.]"
   ]
  },
  {
   "cell_type": "markdown",
   "metadata": {},
   "source": [
    "**CONCLUSIONES FINALES**\n",
    "\n",
    "Plan Surf:\n",
    "\n",
    "- Minutos: La media mensual es de 428.75 minutos, cercana al límite incluido de 500 minutos. Esto sugiere que la mayoría de los usuarios están utilizando sus minutos, pero sin exceder el límite.\n",
    "-  Mensajes: La media mensual es de 31.16 mensajes, por debajo del límite incluido de 50 mensajes. Los usuarios podrían beneficiarse si envían más mensajes dentro del límite incluido.\n",
    "-  Datos: El consumo promedio mensual es de 16.67 GB, superior al límite incluido de 15 GB. Algunos usuarios podrían estar excediendo su asignación de datos.\n",
    "-  Conclusión: Los usuarios del plan Surf están utilizando bien sus minutos, pero podrían maximizar el valor del plan utilizando más mensajes dentro del límite incluido y gestionando mejor el uso de datos para evitar costos adicionales por exceder la asignación.\n",
    "\n",
    "Plan Ultimate:\n",
    "\n",
    "- Minutos: La media mensual es de 430.45 minutos, considerablemente por debajo del límite incluido de 3000 minutos. Esto indica que los usuarios están utilizando una fracción significativa de sus minutos incluidos, pero no están cerca del límite máximo.\n",
    "- Mensajes: La media mensual es de 37.55 mensajes, también está significativamente por debajo del límite incluido de 1000 mensajes. Los usuarios no están aprovechando al máximo el límite de mensajes incluidos en su plan.\n",
    "- Datos: El consumo promedio mensual es de 17.31 GB, también está por debajo del límite incluido de 30 GB. \n",
    "- Conclusión: Aunque los usuarios del plan Ultimate están utilizando una cantidad considerable de minutos y datos, hay un margen considerable antes de alcanzar los límites incluidos en su plan. Sin embargo, podrían beneficiarse de un uso más intensivo de mensajes y gb para maximizar el valor del plan."
   ]
  },
  {
   "cell_type": "markdown",
   "metadata": {},
   "source": [
    "<div class=\"alert alert-block alert-success\">\n",
    "<b>Comentario revisor</b> <a class=\"tocSkip\"></a>\n",
    "\n",
    " Muy buena prática la de usar distintos tipos de gráficas identificar algunos hallazgos y llegar a conclusiones\n",
    "</div>"
   ]
  },
  {
   "cell_type": "markdown",
   "metadata": {
    "id": "ajJ7VKeI0q1Q"
   },
   "source": [
    "## Prueba las hipótesis estadísticas"
   ]
  },
  {
   "cell_type": "markdown",
   "metadata": {
    "id": "AdXAZ-yL0q1Q"
   },
   "source": [
    "[Prueba la hipótesis de que son diferentes los ingresos promedio procedentes de los usuarios de los planes de llamada Ultimate y Surf.]"
   ]
  },
  {
   "cell_type": "markdown",
   "metadata": {
    "id": "IQwa_hsh0q1Q"
   },
   "source": [
    "[Elabora las hipótesis nula y alternativa, escoge la prueba estadística, determina el valor alfa.]\n",
    "\n",
    "\n",
    "1. ELABORAR HIPOTESIS\n",
    "   - Hipótesis Nula (H0): las varianzas del ingreso promedio de los usuarios en NY-NJ son iguales.\n",
    "   - Hipótesis Alternativa (HA): las varianzas del ingreso promedio de los usuarios en NY-NJ son distintas.\n",
    "   - Hipótesis Nula (H0): El ingreso promedio de los usuarios de los planes Ultimate y Surf es igual.\n",
    "   - Hipótesis Alternativa (HA): El ingreso promedio de los usuarios de los planes Ultimate y Surf es diferente.\n",
    "\n",
    "   \n",
    "\n",
    "2. ESCOGER PRUEBA ESTADISTICA\n",
    "   - Dado que estamos comparando las medias de dos grupos independientes, utilizamos la prueba t de Student para muestras independientes. Además, para determinar si asumimos varianzas iguales o diferentes entre los grupos, realizamos primero la prueba de Levene para evaluar la igualdad de varianzas.\n",
    "\n",
    "\n",
    "3. DETERMINAR EL VALOR DE ALPHA:\n",
    "   - Usamos un nivel de significancia alfa de 0.05"
   ]
  },
  {
   "cell_type": "code",
   "execution_count": 47,
   "metadata": {
    "id": "nFoPNlPq0q1R"
   },
   "outputs": [
    {
     "name": "stdout",
     "output_type": "stream",
     "text": [
      "p-value:7.013951104196673e-70 - Rechazamos la hipotesis nula de igualdad de varianzas\n",
      "p-value:9.404275461578459e-13 - Rechazamos la hipotesis nula de igualdad de medias\n"
     ]
    }
   ],
   "source": [
    "# Prueba las hipótesis\n",
    "alpha = 0.05\n",
    "ingreso_surf = monthly_info[monthly_info['plan'] == 'surf']['total_cost'].dropna()\n",
    "ingreso_ultimate = monthly_info[monthly_info['plan'] == 'ultimate']['total_cost'].dropna()\n",
    "\n",
    "# Prueba de Levene para igualdad de varianzas\n",
    "_, pvalue_levene = levene(ingreso_ultimate, ingreso_surf)\n",
    "if pvalue_levene < alpha:\n",
    "    print(f'p-value:{pvalue_levene} - Rechazamos la hipotesis nula de igualdad de varianzas')\n",
    "    equalvar = False\n",
    "else:\n",
    "    print(f'p-value:{pvalue_levene} - No Rechazamos la hipotesis nula de igualdad de varianzas')\n",
    "    equalvar = True\n",
    "\n",
    "    \n",
    "# Prueba t de Student para muestras independientes    \n",
    "_, pvalue = ttest_ind(ingreso_surf, ingreso_ultimate, equal_var=equalvar)\n",
    "\n",
    "if pvalue < alpha:\n",
    "    print(f'p-value:{pvalue} - Rechazamos la hipotesis nula de igualdad de medias')\n",
    "else:\n",
    "    print(f'p-value:{pvalue} - No Rechazamos la hipotesis nula de igualdad de medias')\n",
    "    "
   ]
  },
  {
   "cell_type": "markdown",
   "metadata": {},
   "source": [
    "<div class=\"alert alert-block alert-success\">\n",
    "<b>Comentario revisor</b> <a class=\"tocSkip\"></a>\n",
    "\n",
    "Excelente trabajo!! Es importante mostrar si se cumplen los supuestos cuandor realizamos pruebas de hipótesis.\n",
    "</div>"
   ]
  },
  {
   "cell_type": "markdown",
   "metadata": {},
   "source": [
    "Dado el p-value extremadamente pequeño tanto en la prueba de Levene como en la prueba t de Student, podemos concluir que:\n",
    "\n",
    "- Prueba de Levene: Las varianzas entre los ingresos de los planes Surf y Ultimate son diferentes (p-value: 2.0941791851299124e-69)\n",
    "\n",
    "- Prueba t de Student: Los ingresos promedio entre los usuarios de los planes Surf y Ultimate son significativamente diferentes (p-value: 5.756661975640558e-13)\n",
    "\n",
    "- Por lo tanto, rechazamos la hipótesis nula de que los ingresos promedio de los usuarios de los planes Ultimate y Surf son iguales. Esto indica que los usuarios de los dos planes generan ingresos significativamente diferentes para la empresa."
   ]
  },
  {
   "cell_type": "markdown",
   "metadata": {
    "id": "tCcAruM60q1R"
   },
   "source": [
    "[Prueba la hipótesis de que el ingreso promedio de los usuarios del área NY-NJ es diferente al de los usuarios de otras regiones.]"
   ]
  },
  {
   "cell_type": "markdown",
   "metadata": {
    "id": "LsBgitqj0q1R"
   },
   "source": [
    "[Elabora las hipótesis nula y alternativa, escoge la prueba estadística, determina el valor alfa.]\n"
   ]
  },
  {
   "cell_type": "code",
   "execution_count": 48,
   "metadata": {
    "id": "Cqcj7wrZ0q1S"
   },
   "outputs": [
    {
     "name": "stdout",
     "output_type": "stream",
     "text": [
      "p-value:0.005285370510034613 - Rechazamos la hipotesis nula de igualdad de varianzas\n",
      "p-value:0.09837185354307454 - No Rechazamos la hipotesis nula de igualdad de medias\n"
     ]
    }
   ],
   "source": [
    "## Prueba las hipótesis\n",
    "alpha = 0.05\n",
    "ingreso_ny_nj = monthly_info[monthly_info['state'].isin(['NY', 'NJ'])]['total_cost'].dropna()\n",
    "ingreso_otras_regiones = monthly_info[~monthly_info['state'].isin(['NY', 'NJ'])]['total_cost'].dropna()\n",
    "#print(ingreso_ny_nj)\n",
    "#print(ingreso_otras_regiones)\n",
    "\n",
    "\n",
    "## Prueba de Levene para igualdad de varianzas\n",
    "_, pvalue_levene = levene(ingreso_ny_nj, ingreso_otras_regiones)\n",
    "if pvalue_levene < alpha:\n",
    "    print(f'p-value:{pvalue_levene} - Rechazamos la hipotesis nula de igualdad de varianzas')\n",
    "    equalvar = False\n",
    "else:\n",
    "    print(f'p-value:{pvalue_levene} - No Rechazamos la hipotesis nula de igualdad de varianzas')\n",
    "    equalvar = True\n",
    "\n",
    "    \n",
    "## Prueba t de Student para muestras independientes    \n",
    "_, pvalue = ttest_ind(ingreso_ny_nj, ingreso_otras_regiones, equal_var=equalvar)\n",
    "\n",
    "if pvalue < alpha:\n",
    "    print(f'p-value:{pvalue} - Rechazamos la hipotesis nula de igualdad de medias')\n",
    "else:\n",
    "    print(f'p-value:{pvalue} - No Rechazamos la hipotesis nula de igualdad de medias')\n",
    "    \n"
   ]
  },
  {
   "cell_type": "markdown",
   "metadata": {},
   "source": [
    "- Aunque las varianzas de los ingresos entre usuarios de NY-NJ y otras regiones son significativamente diferentes con un p-value de 0.00516, lo que está por debajo del nivel de significancia (α = 0.05), no hay evidencia suficiente para concluir que las medias de los ingresos son diferentes. \n",
    "\n",
    "- Esto significa que, en promedio, los ingresos de los usuarios de las áreas NY-NJ no difieren significativamente de los de otras regiones."
   ]
  },
  {
   "cell_type": "markdown",
   "metadata": {},
   "source": [
    "<div class=\"alert alert-block alert-success\">\n",
    "<b>Comentario revisor</b> <a class=\"tocSkip\"></a>\n",
    "\n",
    "Excelente trabajo con el desarrollo de las pruebas de hipótesis\n",
    "</div>"
   ]
  },
  {
   "cell_type": "markdown",
   "metadata": {
    "id": "bbTR8UQO0q1T"
   },
   "source": [
    "## Conclusión general\n",
    "\n",
    "[En esta sección final, enumera tus conclusiones importantes. Asegúrate de que estas abarquen todas las decisiones (suposiciones) importantes que adoptaste y que determinaron la forma elegida para procesar y analizar los datos.]"
   ]
  },
  {
   "cell_type": "markdown",
   "metadata": {},
   "source": [
    "**Durante el análisis de los datos de usuarios de los planes \"Surf\" y \"Ultimate\" de un proveedor de servicios, se llevaron a cabo varios pasos importantes y se tomaron decisiones clave para procesar y analizar los datos.**\n",
    "\n",
    "- Plan Surf: La media de minutos mensuales es 428.75, lo cual está cerca del límite incluido de 500 minutos. Los usuarios utilizan la mayoría de sus minutos, pero no exceden el límite. La media de mensajes mensuales es 31.16, por debajo del límite incluido de 50 mensajes. Los usuarios podrían beneficiarse si enviaran más mensajes dentro del límite. El consumo promedio de datos mensual es 16.67 GB, por encima del límite incluido de 15 GB. Algunos usuarios podrían estar excediendo su asignación de datos.\n",
    "\n",
    "- Plan Ultimate: La media de minutos mensuales es 430.45, considerablemente por debajo del límite incluido de 3000 minutos. Los usuarios no están utilizando la mayor parte de los minutos disponibles. La media de mensajes mensuales es 37.55, significativamente por debajo del límite incluido de 1000 mensajes. Los usuarios no están aprovechando al máximo el límite de mensajes incluidos. El consumo promedio de datos mensual es 17.31 GB, por debajo del límite incluido de 30 GB. Los usuarios no están alcanzando el límite de datos disponibles.\n",
    "\n",
    "\n",
    "- Si lo que queremos es mejorar el servicio creo que esta informacion nos permite sacar un plan ideal para nuestro grupo de clientes.\n",
    "\n",
    "\n",
    "**Durante el análisis de ingresos mensuales, los ingresos promedio mensuales se compararon entre los dos planes. Los ingresos mensuales del plan Surf aumentaron de (20) a (68) dolares durante el año. Por otro lado los ingreso del plan Ultimate se mantuvieron alrededor de (70) dolares durante todo el año.**\n",
    "\n",
    "- Los usuarios del plan Surf a menudo incurren en cargos adicionales, lo que lleva a un aumento en los ingresos mensuales, mientras que los usuarios del plan Ultimate generalmente permanecen dentro de los límites de su plan, lo que resulta en ingresos más estables.\n",
    "\n",
    "\n",
    "\n",
    "**Durante las pruebas de hipótesis, se realizó una prueba t de Student para comparar los ingresos medios entre los planes Surf y Ultimate. Se encontró una diferencia significativa entre los ingresos medios de los dos planes.\n",
    "\n",
    "- Tambien se realizó una prueba de Levene para comparar las varianzas y una prueba t de Student para las medias de los ingresos por región (NY-NJ vs. Otras Regiones). Aunque las varianzas de los ingresos entre usuarios de NY-NJ y otras regiones son significativamente diferentes, no hay suficiente evidencia para concluir que las medias de los ingresos sean diferentes.\n",
    "\n",
    "\n",
    "**Ideas Finales**\n",
    "- Estas conclusiones y decisiones proporcionan una comprensión clara del comportamiento de los usuarios y la rentabilidad de los planes, permitiendo a la empresa tomar decisiones informadas sobre la gestión de sus ofertas y servicios."
   ]
  },
  {
   "cell_type": "code",
   "execution_count": null,
   "metadata": {},
   "outputs": [],
   "source": []
  }
 ],
 "metadata": {
  "ExecuteTimeLog": [
   {
    "duration": 828,
    "start_time": "2021-11-16T09:21:11.304Z"
   },
   {
    "duration": 893,
    "start_time": "2021-11-16T09:21:17.728Z"
   },
   {
    "duration": 1150,
    "start_time": "2021-11-16T09:21:29.568Z"
   },
   {
    "duration": 3,
    "start_time": "2021-11-16T09:24:14.495Z"
   },
   {
    "duration": 120,
    "start_time": "2021-11-16T09:24:46.630Z"
   },
   {
    "duration": 3,
    "start_time": "2021-11-16T09:28:27.882Z"
   },
   {
    "duration": 4,
    "start_time": "2021-11-16T09:29:54.281Z"
   },
   {
    "duration": 3,
    "start_time": "2021-11-16T09:30:45.936Z"
   },
   {
    "duration": 4,
    "start_time": "2021-11-16T09:31:06.300Z"
   },
   {
    "duration": 113,
    "start_time": "2021-11-16T09:31:37.208Z"
   },
   {
    "duration": 143,
    "start_time": "2021-11-16T09:31:48.656Z"
   },
   {
    "duration": 98,
    "start_time": "2021-11-16T09:31:55.678Z"
   },
   {
    "duration": 3,
    "start_time": "2021-11-16T09:32:08.535Z"
   },
   {
    "duration": 111,
    "start_time": "2021-11-16T09:32:10.120Z"
   },
   {
    "duration": 3,
    "start_time": "2021-11-16T09:32:15.732Z"
   },
   {
    "duration": 4,
    "start_time": "2021-11-16T09:32:29.423Z"
   },
   {
    "duration": 3,
    "start_time": "2021-11-16T10:03:03.074Z"
   },
   {
    "duration": 3,
    "start_time": "2021-11-16T10:10:01.288Z"
   },
   {
    "duration": 3,
    "start_time": "2021-11-16T10:10:46.923Z"
   },
   {
    "duration": 121,
    "start_time": "2021-11-16T10:37:46.494Z"
   },
   {
    "duration": 125,
    "start_time": "2021-11-16T10:38:20.632Z"
   },
   {
    "duration": 112,
    "start_time": "2021-11-16T10:46:53.001Z"
   },
   {
    "duration": 110,
    "start_time": "2021-11-16T10:48:25.775Z"
   },
   {
    "duration": 3,
    "start_time": "2021-11-16T10:50:18.720Z"
   },
   {
    "duration": 4,
    "start_time": "2021-11-16T10:50:37.649Z"
   },
   {
    "duration": 2,
    "start_time": "2021-11-16T10:50:51.884Z"
   },
   {
    "duration": 3,
    "start_time": "2021-11-16T10:51:56.237Z"
   },
   {
    "duration": 101,
    "start_time": "2021-11-16T10:53:13.791Z"
   },
   {
    "duration": 3,
    "start_time": "2021-11-16T10:55:59.186Z"
   },
   {
    "duration": 3,
    "start_time": "2021-11-16T10:56:10.751Z"
   },
   {
    "duration": 3,
    "start_time": "2021-11-16T10:56:49.038Z"
   },
   {
    "duration": 3,
    "start_time": "2021-11-16T10:56:49.174Z"
   },
   {
    "duration": 4,
    "start_time": "2021-11-16T10:56:49.414Z"
   },
   {
    "duration": 3,
    "start_time": "2021-11-16T10:56:49.680Z"
   },
   {
    "duration": 3,
    "start_time": "2021-11-16T10:56:50.370Z"
   },
   {
    "duration": 114,
    "start_time": "2021-11-16T10:59:34.518Z"
   },
   {
    "duration": 3,
    "start_time": "2021-11-16T11:01:41.201Z"
   },
   {
    "duration": 116,
    "start_time": "2021-11-16T11:01:48.754Z"
   },
   {
    "duration": 3,
    "start_time": "2021-11-16T11:02:16.685Z"
   },
   {
    "duration": 3,
    "start_time": "2021-11-16T11:02:19.479Z"
   },
   {
    "duration": 3,
    "start_time": "2021-11-16T11:02:47.067Z"
   },
   {
    "duration": 3,
    "start_time": "2021-11-16T11:02:49.353Z"
   },
   {
    "duration": 3,
    "start_time": "2021-11-16T11:03:07.835Z"
   },
   {
    "duration": 3,
    "start_time": "2021-11-16T11:03:07.953Z"
   },
   {
    "duration": 112,
    "start_time": "2021-11-16T11:07:52.072Z"
   },
   {
    "duration": 187,
    "start_time": "2021-11-16T11:09:23.468Z"
   },
   {
    "duration": 4,
    "start_time": "2021-11-16T11:10:01.455Z"
   },
   {
    "duration": 3,
    "start_time": "2021-11-16T11:10:05.069Z"
   },
   {
    "duration": 4,
    "start_time": "2021-11-16T11:10:13.376Z"
   },
   {
    "duration": 3,
    "start_time": "2021-11-16T11:10:14.434Z"
   },
   {
    "duration": 3,
    "start_time": "2021-11-16T11:10:22.853Z"
   },
   {
    "duration": 4,
    "start_time": "2021-11-16T11:27:29.279Z"
   },
   {
    "duration": 4,
    "start_time": "2021-11-16T11:29:08.919Z"
   },
   {
    "duration": 118,
    "start_time": "2021-11-16T11:29:46.703Z"
   },
   {
    "duration": 437,
    "start_time": "2021-11-16T11:36:02.181Z"
   },
   {
    "duration": 157,
    "start_time": "2021-11-16T11:36:14.388Z"
   },
   {
    "duration": 207,
    "start_time": "2021-11-16T11:47:15.898Z"
   },
   {
    "duration": 3,
    "start_time": "2021-11-16T11:53:52.092Z"
   },
   {
    "duration": 3,
    "start_time": "2021-11-16T11:53:52.236Z"
   },
   {
    "duration": 3,
    "start_time": "2021-11-16T11:59:12.005Z"
   },
   {
    "duration": 112,
    "start_time": "2021-11-16T12:00:33.446Z"
   },
   {
    "duration": 3,
    "start_time": "2021-11-16T12:02:14.453Z"
   },
   {
    "duration": 3,
    "start_time": "2021-11-16T12:02:39.512Z"
   },
   {
    "duration": 106,
    "start_time": "2021-11-16T12:03:03.460Z"
   },
   {
    "duration": 3,
    "start_time": "2021-11-17T20:37:21.139Z"
   },
   {
    "duration": 3,
    "start_time": "2021-11-17T20:37:22.229Z"
   },
   {
    "duration": 3,
    "start_time": "2021-11-17T20:38:38.806Z"
   },
   {
    "duration": 3,
    "start_time": "2021-11-17T20:38:41.958Z"
   },
   {
    "duration": 3,
    "start_time": "2021-11-17T20:43:46.551Z"
   },
   {
    "duration": 4,
    "start_time": "2021-11-17T20:58:21.835Z"
   },
   {
    "duration": 3,
    "start_time": "2021-11-17T20:59:21.872Z"
   },
   {
    "duration": 4,
    "start_time": "2021-11-17T20:59:45.352Z"
   },
   {
    "duration": 4,
    "start_time": "2021-11-17T20:59:49.646Z"
   },
   {
    "duration": 159,
    "start_time": "2021-11-17T21:02:26.949Z"
   },
   {
    "duration": 3,
    "start_time": "2021-11-17T21:03:53.461Z"
   },
   {
    "duration": 3,
    "start_time": "2021-11-17T21:03:53.694Z"
   },
   {
    "duration": 3,
    "start_time": "2021-11-17T21:05:28.145Z"
   },
   {
    "duration": 116,
    "start_time": "2021-11-17T21:05:57.787Z"
   },
   {
    "duration": 3,
    "start_time": "2021-11-17T21:06:37.993Z"
   },
   {
    "duration": 3,
    "start_time": "2021-11-17T21:06:38.261Z"
   },
   {
    "duration": 3,
    "start_time": "2021-11-17T21:11:54.358Z"
   },
   {
    "duration": 3,
    "start_time": "2021-11-17T21:12:43.846Z"
   },
   {
    "duration": 4,
    "start_time": "2021-11-17T21:13:08.773Z"
   },
   {
    "duration": 3,
    "start_time": "2021-11-17T21:14:44.441Z"
   },
   {
    "duration": 3,
    "start_time": "2021-11-17T21:15:42.059Z"
   },
   {
    "duration": 4,
    "start_time": "2021-11-17T21:15:51.995Z"
   },
   {
    "duration": 3,
    "start_time": "2021-11-17T21:15:53.923Z"
   },
   {
    "duration": 3,
    "start_time": "2021-11-17T21:15:55.282Z"
   },
   {
    "duration": 3,
    "start_time": "2021-11-17T21:16:28.492Z"
   },
   {
    "duration": 3,
    "start_time": "2021-11-17T21:16:32.603Z"
   },
   {
    "duration": 3,
    "start_time": "2021-11-17T21:17:06.941Z"
   },
   {
    "duration": 98,
    "start_time": "2021-11-17T21:18:05.733Z"
   },
   {
    "duration": 4,
    "start_time": "2021-11-17T21:21:35.255Z"
   },
   {
    "duration": 3,
    "start_time": "2021-11-17T21:21:37.804Z"
   },
   {
    "duration": 4,
    "start_time": "2021-11-17T21:23:06.071Z"
   },
   {
    "duration": 3,
    "start_time": "2021-11-17T21:23:24.799Z"
   },
   {
    "duration": 3,
    "start_time": "2021-11-17T21:23:32.591Z"
   },
   {
    "duration": 98,
    "start_time": "2021-11-17T21:28:31.559Z"
   },
   {
    "duration": 3,
    "start_time": "2021-11-17T21:28:45.448Z"
   },
   {
    "duration": 3,
    "start_time": "2021-11-17T21:29:17.303Z"
   },
   {
    "duration": 3,
    "start_time": "2021-11-17T21:29:29.617Z"
   },
   {
    "duration": 3,
    "start_time": "2021-11-17T21:29:32.681Z"
   },
   {
    "duration": 3,
    "start_time": "2021-11-17T21:36:11.474Z"
   },
   {
    "duration": 3,
    "start_time": "2021-11-17T21:36:14.791Z"
   },
   {
    "duration": 3,
    "start_time": "2021-11-17T21:36:53.943Z"
   },
   {
    "duration": 3,
    "start_time": "2021-11-17T21:36:56.165Z"
   },
   {
    "duration": 4,
    "start_time": "2021-11-17T21:37:16.590Z"
   },
   {
    "duration": 3,
    "start_time": "2021-11-17T21:37:22.702Z"
   },
   {
    "duration": 4,
    "start_time": "2021-11-17T21:38:03.479Z"
   },
   {
    "duration": 3,
    "start_time": "2021-11-17T21:38:08.601Z"
   },
   {
    "duration": 3,
    "start_time": "2021-11-17T21:38:12.928Z"
   },
   {
    "duration": 3,
    "start_time": "2021-11-17T21:38:48.896Z"
   },
   {
    "duration": 2,
    "start_time": "2021-11-17T21:38:49.171Z"
   },
   {
    "duration": 4,
    "start_time": "2021-11-17T21:39:57.889Z"
   },
   {
    "duration": 3,
    "start_time": "2021-11-17T21:39:58.057Z"
   },
   {
    "duration": 3,
    "start_time": "2021-11-17T21:41:20.108Z"
   },
   {
    "duration": 3,
    "start_time": "2021-11-17T21:41:20.629Z"
   },
   {
    "duration": 3,
    "start_time": "2021-11-17T21:42:49.136Z"
   },
   {
    "duration": 3,
    "start_time": "2021-11-17T21:43:15.137Z"
   },
   {
    "duration": 4,
    "start_time": "2021-11-17T21:43:16.766Z"
   },
   {
    "duration": 4,
    "start_time": "2021-11-17T21:43:31.711Z"
   },
   {
    "duration": 3,
    "start_time": "2021-11-17T21:43:36.312Z"
   },
   {
    "duration": 4,
    "start_time": "2021-11-17T21:45:08.825Z"
   },
   {
    "duration": 4,
    "start_time": "2021-11-17T21:45:10.119Z"
   },
   {
    "duration": 4,
    "start_time": "2021-11-17T21:45:13.748Z"
   },
   {
    "duration": 3,
    "start_time": "2021-11-17T21:45:22.219Z"
   },
   {
    "duration": 3,
    "start_time": "2021-11-17T21:45:33.412Z"
   },
   {
    "duration": 2,
    "start_time": "2021-11-17T21:46:01.885Z"
   },
   {
    "duration": 3,
    "start_time": "2021-11-17T21:46:03.628Z"
   },
   {
    "duration": 107,
    "start_time": "2021-11-17T21:47:32.512Z"
   },
   {
    "duration": 103,
    "start_time": "2021-11-17T21:50:36.243Z"
   },
   {
    "duration": 3,
    "start_time": "2021-11-18T06:28:31.440Z"
   },
   {
    "duration": 3,
    "start_time": "2021-11-18T06:29:00.168Z"
   },
   {
    "duration": 3,
    "start_time": "2021-11-18T06:31:27.008Z"
   },
   {
    "duration": 2,
    "start_time": "2021-11-18T06:35:34.288Z"
   },
   {
    "duration": 2,
    "start_time": "2021-11-18T06:38:04.527Z"
   },
   {
    "duration": 4944,
    "start_time": "2024-05-16T14:43:21.869Z"
   },
   {
    "duration": 377,
    "start_time": "2024-05-16T14:43:26.817Z"
   },
   {
    "duration": 8,
    "start_time": "2024-05-16T14:43:27.196Z"
   },
   {
    "duration": 16,
    "start_time": "2024-05-16T14:43:27.208Z"
   },
   {
    "duration": 16,
    "start_time": "2024-05-16T14:43:27.227Z"
   },
   {
    "duration": 5,
    "start_time": "2024-05-16T14:43:27.246Z"
   },
   {
    "duration": 63,
    "start_time": "2024-05-16T14:43:27.254Z"
   },
   {
    "duration": 15,
    "start_time": "2024-05-16T14:43:27.320Z"
   },
   {
    "duration": 15,
    "start_time": "2024-05-16T14:43:27.339Z"
   },
   {
    "duration": 10,
    "start_time": "2024-05-16T14:43:27.360Z"
   },
   {
    "duration": 27,
    "start_time": "2024-05-16T14:43:27.410Z"
   },
   {
    "duration": 30,
    "start_time": "2024-05-16T14:43:27.441Z"
   },
   {
    "duration": 42,
    "start_time": "2024-05-16T14:43:27.475Z"
   },
   {
    "duration": 39,
    "start_time": "2024-05-16T14:43:27.520Z"
   },
   {
    "duration": 72,
    "start_time": "2024-05-16T14:43:27.562Z"
   },
   {
    "duration": 18,
    "start_time": "2024-05-16T14:43:27.637Z"
   },
   {
    "duration": 10,
    "start_time": "2024-05-16T14:43:27.658Z"
   },
   {
    "duration": 50,
    "start_time": "2024-05-16T14:43:27.671Z"
   },
   {
    "duration": 26,
    "start_time": "2024-05-16T14:43:27.725Z"
   },
   {
    "duration": 25,
    "start_time": "2024-05-16T14:43:27.754Z"
   },
   {
    "duration": 11,
    "start_time": "2024-05-16T14:43:27.809Z"
   },
   {
    "duration": 30,
    "start_time": "2024-05-16T14:43:27.824Z"
   },
   {
    "duration": 69,
    "start_time": "2024-05-16T14:43:27.857Z"
   },
   {
    "duration": 18,
    "start_time": "2024-05-16T14:43:27.928Z"
   },
   {
    "duration": 67,
    "start_time": "2024-05-16T14:43:27.949Z"
   },
   {
    "duration": 32,
    "start_time": "2024-05-16T14:43:28.019Z"
   },
   {
    "duration": 58,
    "start_time": "2024-05-16T14:43:28.053Z"
   },
   {
    "duration": 26,
    "start_time": "2024-05-16T14:43:28.119Z"
   },
   {
    "duration": 29,
    "start_time": "2024-05-16T14:43:28.148Z"
   },
   {
    "duration": 3,
    "start_time": "2024-05-16T14:43:28.210Z"
   },
   {
    "duration": 94,
    "start_time": "2024-05-16T14:43:28.216Z"
   },
   {
    "duration": 15,
    "start_time": "2024-05-16T14:43:28.313Z"
   },
   {
    "duration": 4,
    "start_time": "2024-05-16T14:43:28.331Z"
   },
   {
    "duration": 4,
    "start_time": "2024-05-16T14:43:28.338Z"
   },
   {
    "duration": 4,
    "start_time": "2024-05-16T14:43:28.346Z"
   },
   {
    "duration": 7,
    "start_time": "2024-05-16T14:43:28.354Z"
   },
   {
    "duration": 3,
    "start_time": "2024-05-16T14:43:28.408Z"
   },
   {
    "duration": 3,
    "start_time": "2024-05-16T14:43:28.415Z"
   },
   {
    "duration": 3,
    "start_time": "2024-05-16T14:43:28.422Z"
   },
   {
    "duration": 420,
    "start_time": "2024-05-16T14:45:17.988Z"
   },
   {
    "duration": 396,
    "start_time": "2024-05-16T14:46:19.036Z"
   },
   {
    "duration": 14,
    "start_time": "2024-05-16T14:46:59.644Z"
   },
   {
    "duration": 439,
    "start_time": "2024-05-16T14:51:16.531Z"
   },
   {
    "duration": 426,
    "start_time": "2024-05-16T14:52:08.699Z"
   },
   {
    "duration": 342,
    "start_time": "2024-05-16T14:52:18.810Z"
   },
   {
    "duration": 443,
    "start_time": "2024-05-16T14:52:25.504Z"
   },
   {
    "duration": 374,
    "start_time": "2024-05-16T14:52:54.718Z"
   },
   {
    "duration": 36,
    "start_time": "2024-05-16T14:53:22.821Z"
   },
   {
    "duration": 9,
    "start_time": "2024-05-16T14:53:32.801Z"
   },
   {
    "duration": 7,
    "start_time": "2024-05-16T14:53:44.485Z"
   },
   {
    "duration": 579,
    "start_time": "2024-05-16T14:56:13.632Z"
   },
   {
    "duration": 660,
    "start_time": "2024-05-16T14:57:16.358Z"
   },
   {
    "duration": 319,
    "start_time": "2024-05-16T14:57:53.103Z"
   },
   {
    "duration": 46,
    "start_time": "2024-05-16T15:00:00.677Z"
   },
   {
    "duration": 55,
    "start_time": "2024-05-16T15:00:08.938Z"
   },
   {
    "duration": 312,
    "start_time": "2024-05-16T15:00:36.028Z"
   },
   {
    "duration": 89,
    "start_time": "2024-05-16T15:04:42.584Z"
   },
   {
    "duration": 17,
    "start_time": "2024-05-16T15:05:26.932Z"
   },
   {
    "duration": 20,
    "start_time": "2024-05-16T15:07:19.002Z"
   },
   {
    "duration": 17,
    "start_time": "2024-05-16T15:07:29.716Z"
   },
   {
    "duration": 14,
    "start_time": "2024-05-16T15:07:41.843Z"
   },
   {
    "duration": 15,
    "start_time": "2024-05-16T15:07:54.798Z"
   },
   {
    "duration": 18,
    "start_time": "2024-05-16T15:08:24.539Z"
   },
   {
    "duration": 999,
    "start_time": "2024-05-16T15:12:20.193Z"
   },
   {
    "duration": 98,
    "start_time": "2024-05-16T15:13:01.845Z"
   },
   {
    "duration": 13,
    "start_time": "2024-05-16T15:13:11.886Z"
   },
   {
    "duration": 19,
    "start_time": "2024-05-16T15:13:27.713Z"
   },
   {
    "duration": 32,
    "start_time": "2024-05-16T15:14:40.234Z"
   },
   {
    "duration": 642,
    "start_time": "2024-05-16T15:18:26.561Z"
   },
   {
    "duration": 326,
    "start_time": "2024-05-16T15:18:44.525Z"
   },
   {
    "duration": 311,
    "start_time": "2024-05-16T15:18:56.280Z"
   },
   {
    "duration": 322,
    "start_time": "2024-05-16T15:19:23.297Z"
   },
   {
    "duration": 308,
    "start_time": "2024-05-16T15:19:30.781Z"
   },
   {
    "duration": 316,
    "start_time": "2024-05-16T15:20:48.192Z"
   },
   {
    "duration": 440,
    "start_time": "2024-05-16T15:21:22.662Z"
   },
   {
    "duration": 338,
    "start_time": "2024-05-16T15:21:33.682Z"
   },
   {
    "duration": 329,
    "start_time": "2024-05-16T15:21:39.818Z"
   },
   {
    "duration": 318,
    "start_time": "2024-05-16T15:22:15.126Z"
   },
   {
    "duration": 324,
    "start_time": "2024-05-16T15:22:29.656Z"
   },
   {
    "duration": 330,
    "start_time": "2024-05-16T15:22:44.322Z"
   },
   {
    "duration": 347,
    "start_time": "2024-05-16T15:23:08.653Z"
   },
   {
    "duration": 313,
    "start_time": "2024-05-16T15:23:26.486Z"
   },
   {
    "duration": 338,
    "start_time": "2024-05-16T15:23:54.933Z"
   },
   {
    "duration": 474,
    "start_time": "2024-05-16T15:24:03.964Z"
   },
   {
    "duration": 332,
    "start_time": "2024-05-16T15:24:14.982Z"
   },
   {
    "duration": 1404,
    "start_time": "2024-05-16T15:24:40.990Z"
   },
   {
    "duration": 386,
    "start_time": "2024-05-16T15:24:57.329Z"
   },
   {
    "duration": 324,
    "start_time": "2024-05-16T15:26:11.823Z"
   },
   {
    "duration": 334,
    "start_time": "2024-05-16T15:26:36.217Z"
   },
   {
    "duration": 33,
    "start_time": "2024-05-16T15:28:00.478Z"
   },
   {
    "duration": 36,
    "start_time": "2024-05-16T15:28:13.447Z"
   },
   {
    "duration": 327,
    "start_time": "2024-05-16T15:28:20.932Z"
   },
   {
    "duration": 312,
    "start_time": "2024-05-16T15:28:59.989Z"
   },
   {
    "duration": 329,
    "start_time": "2024-05-16T15:31:13.395Z"
   },
   {
    "duration": 10,
    "start_time": "2024-05-16T15:31:30.462Z"
   },
   {
    "duration": 357,
    "start_time": "2024-05-16T15:31:34.559Z"
   },
   {
    "duration": 326,
    "start_time": "2024-05-16T15:32:41.049Z"
   },
   {
    "duration": 293,
    "start_time": "2024-05-16T15:33:39.666Z"
   },
   {
    "duration": 331,
    "start_time": "2024-05-16T15:33:47.777Z"
   },
   {
    "duration": 709,
    "start_time": "2024-05-16T15:33:56.014Z"
   },
   {
    "duration": 321,
    "start_time": "2024-05-16T15:34:07.848Z"
   },
   {
    "duration": 12,
    "start_time": "2024-05-16T15:34:32.119Z"
   },
   {
    "duration": 328,
    "start_time": "2024-05-16T15:34:45.266Z"
   },
   {
    "duration": 312,
    "start_time": "2024-05-16T15:36:53.786Z"
   },
   {
    "duration": 370,
    "start_time": "2024-05-16T15:37:09.791Z"
   },
   {
    "duration": 541,
    "start_time": "2024-05-16T15:41:42.734Z"
   },
   {
    "duration": 304,
    "start_time": "2024-05-16T15:43:02.526Z"
   },
   {
    "duration": 331,
    "start_time": "2024-05-16T15:43:51.101Z"
   },
   {
    "duration": 387,
    "start_time": "2024-05-16T15:44:11.736Z"
   },
   {
    "duration": 311,
    "start_time": "2024-05-16T15:44:25.354Z"
   },
   {
    "duration": 326,
    "start_time": "2024-05-16T15:45:12.016Z"
   },
   {
    "duration": 382,
    "start_time": "2024-05-16T15:45:22.068Z"
   },
   {
    "duration": 465,
    "start_time": "2024-05-16T15:51:00.648Z"
   },
   {
    "duration": 130,
    "start_time": "2024-05-16T15:53:10.510Z"
   },
   {
    "duration": 118,
    "start_time": "2024-05-16T15:53:24.653Z"
   },
   {
    "duration": 345,
    "start_time": "2024-05-16T15:54:39.960Z"
   },
   {
    "duration": 345,
    "start_time": "2024-05-16T15:54:45.556Z"
   },
   {
    "duration": 4,
    "start_time": "2024-05-16T15:55:09.922Z"
   },
   {
    "duration": 450,
    "start_time": "2024-05-16T15:56:49.996Z"
   },
   {
    "duration": 373,
    "start_time": "2024-05-16T15:59:35.409Z"
   },
   {
    "duration": 11,
    "start_time": "2024-05-16T16:34:13.024Z"
   },
   {
    "duration": 74,
    "start_time": "2024-05-16T16:34:21.217Z"
   },
   {
    "duration": 45,
    "start_time": "2024-05-16T16:34:34.207Z"
   },
   {
    "duration": 386,
    "start_time": "2024-05-16T16:35:14.478Z"
   },
   {
    "duration": 528,
    "start_time": "2024-05-16T16:35:52.115Z"
   },
   {
    "duration": 565,
    "start_time": "2024-05-16T16:36:17.673Z"
   },
   {
    "duration": 585,
    "start_time": "2024-05-16T16:36:42.364Z"
   },
   {
    "duration": 561,
    "start_time": "2024-05-16T16:37:00.040Z"
   },
   {
    "duration": 534,
    "start_time": "2024-05-16T16:37:16.964Z"
   },
   {
    "duration": 311,
    "start_time": "2024-05-16T16:37:44.005Z"
   },
   {
    "duration": 313,
    "start_time": "2024-05-16T16:37:54.338Z"
   },
   {
    "duration": 322,
    "start_time": "2024-05-16T16:38:05.566Z"
   },
   {
    "duration": 594,
    "start_time": "2024-05-16T16:38:25.025Z"
   },
   {
    "duration": 301,
    "start_time": "2024-05-16T16:38:36.591Z"
   },
   {
    "duration": 383,
    "start_time": "2024-05-16T16:38:51.699Z"
   },
   {
    "duration": 370,
    "start_time": "2024-05-16T16:39:27.911Z"
   },
   {
    "duration": 372,
    "start_time": "2024-05-16T16:40:08.862Z"
   },
   {
    "duration": 397,
    "start_time": "2024-05-16T16:40:17.259Z"
   },
   {
    "duration": 380,
    "start_time": "2024-05-16T16:40:23.186Z"
   },
   {
    "duration": 394,
    "start_time": "2024-05-16T16:40:46.837Z"
   },
   {
    "duration": 374,
    "start_time": "2024-05-16T16:40:55.867Z"
   },
   {
    "duration": 312,
    "start_time": "2024-05-16T16:41:21.541Z"
   },
   {
    "duration": 379,
    "start_time": "2024-05-16T16:41:34.433Z"
   },
   {
    "duration": 392,
    "start_time": "2024-05-16T16:41:47.002Z"
   },
   {
    "duration": 12,
    "start_time": "2024-05-16T16:42:30.713Z"
   },
   {
    "duration": 16,
    "start_time": "2024-05-16T16:42:47.609Z"
   },
   {
    "duration": 725,
    "start_time": "2024-05-16T16:42:59.616Z"
   },
   {
    "duration": 353,
    "start_time": "2024-05-16T16:43:19.249Z"
   },
   {
    "duration": 338,
    "start_time": "2024-05-16T16:43:24.677Z"
   },
   {
    "duration": 315,
    "start_time": "2024-05-16T16:43:45.955Z"
   },
   {
    "duration": 619,
    "start_time": "2024-05-16T16:43:57.305Z"
   },
   {
    "duration": 309,
    "start_time": "2024-05-16T16:44:01.948Z"
   },
   {
    "duration": 300,
    "start_time": "2024-05-16T16:44:06.941Z"
   },
   {
    "duration": 367,
    "start_time": "2024-05-16T16:44:27.530Z"
   },
   {
    "duration": 388,
    "start_time": "2024-05-16T16:44:56.823Z"
   },
   {
    "duration": 314,
    "start_time": "2024-05-16T16:45:08.851Z"
   },
   {
    "duration": 302,
    "start_time": "2024-05-16T16:45:31.586Z"
   },
   {
    "duration": 332,
    "start_time": "2024-05-16T16:45:37.450Z"
   },
   {
    "duration": 327,
    "start_time": "2024-05-16T16:45:43.074Z"
   },
   {
    "duration": 373,
    "start_time": "2024-05-16T16:46:03.642Z"
   },
   {
    "duration": 369,
    "start_time": "2024-05-16T16:46:25.393Z"
   },
   {
    "duration": 370,
    "start_time": "2024-05-16T16:51:30.091Z"
   },
   {
    "duration": 429,
    "start_time": "2024-05-16T16:52:29.692Z"
   },
   {
    "duration": 488,
    "start_time": "2024-05-16T16:53:02.483Z"
   },
   {
    "duration": 5056,
    "start_time": "2024-05-16T19:28:12.758Z"
   },
   {
    "duration": 367,
    "start_time": "2024-05-16T19:28:17.818Z"
   },
   {
    "duration": 8,
    "start_time": "2024-05-16T19:28:18.188Z"
   },
   {
    "duration": 17,
    "start_time": "2024-05-16T19:28:18.200Z"
   },
   {
    "duration": 16,
    "start_time": "2024-05-16T19:28:18.220Z"
   },
   {
    "duration": 5,
    "start_time": "2024-05-16T19:28:18.239Z"
   },
   {
    "duration": 21,
    "start_time": "2024-05-16T19:28:18.247Z"
   },
   {
    "duration": 14,
    "start_time": "2024-05-16T19:28:18.311Z"
   },
   {
    "duration": 13,
    "start_time": "2024-05-16T19:28:18.328Z"
   },
   {
    "duration": 9,
    "start_time": "2024-05-16T19:28:18.347Z"
   },
   {
    "duration": 65,
    "start_time": "2024-05-16T19:28:18.359Z"
   },
   {
    "duration": 25,
    "start_time": "2024-05-16T19:28:18.427Z"
   },
   {
    "duration": 13,
    "start_time": "2024-05-16T19:28:18.456Z"
   },
   {
    "duration": 68,
    "start_time": "2024-05-16T19:28:18.473Z"
   },
   {
    "duration": 44,
    "start_time": "2024-05-16T19:28:18.543Z"
   },
   {
    "duration": 45,
    "start_time": "2024-05-16T19:28:18.590Z"
   },
   {
    "duration": 9,
    "start_time": "2024-05-16T19:28:18.641Z"
   },
   {
    "duration": 21,
    "start_time": "2024-05-16T19:28:18.655Z"
   },
   {
    "duration": 54,
    "start_time": "2024-05-16T19:28:18.680Z"
   },
   {
    "duration": 23,
    "start_time": "2024-05-16T19:28:18.737Z"
   },
   {
    "duration": 11,
    "start_time": "2024-05-16T19:28:18.764Z"
   },
   {
    "duration": 30,
    "start_time": "2024-05-16T19:28:18.813Z"
   },
   {
    "duration": 37,
    "start_time": "2024-05-16T19:28:18.846Z"
   },
   {
    "duration": 37,
    "start_time": "2024-05-16T19:28:18.886Z"
   },
   {
    "duration": 49,
    "start_time": "2024-05-16T19:28:18.926Z"
   },
   {
    "duration": 60,
    "start_time": "2024-05-16T19:28:18.979Z"
   },
   {
    "duration": 33,
    "start_time": "2024-05-16T19:28:19.042Z"
   },
   {
    "duration": 51,
    "start_time": "2024-05-16T19:28:19.083Z"
   },
   {
    "duration": 28,
    "start_time": "2024-05-16T19:28:19.138Z"
   },
   {
    "duration": 3,
    "start_time": "2024-05-16T19:28:19.171Z"
   },
   {
    "duration": 102,
    "start_time": "2024-05-16T19:28:19.177Z"
   },
   {
    "duration": 364,
    "start_time": "2024-05-16T19:28:19.282Z"
   },
   {
    "duration": 499,
    "start_time": "2024-05-16T19:28:19.649Z"
   },
   {
    "duration": 17,
    "start_time": "2024-05-16T19:28:20.151Z"
   },
   {
    "duration": 6,
    "start_time": "2024-05-16T19:28:20.171Z"
   },
   {
    "duration": 4,
    "start_time": "2024-05-16T19:28:20.180Z"
   },
   {
    "duration": 4,
    "start_time": "2024-05-16T19:28:20.213Z"
   },
   {
    "duration": 3,
    "start_time": "2024-05-16T19:28:20.220Z"
   },
   {
    "duration": 3,
    "start_time": "2024-05-16T19:28:20.227Z"
   },
   {
    "duration": 526,
    "start_time": "2024-05-16T19:35:57.186Z"
   },
   {
    "duration": 455,
    "start_time": "2024-05-16T19:36:47.086Z"
   },
   {
    "duration": 383,
    "start_time": "2024-05-16T19:42:14.444Z"
   },
   {
    "duration": 451,
    "start_time": "2024-05-16T19:45:11.580Z"
   },
   {
    "duration": 39,
    "start_time": "2024-05-16T19:45:16.369Z"
   },
   {
    "duration": 11,
    "start_time": "2024-05-16T19:45:19.785Z"
   },
   {
    "duration": 38,
    "start_time": "2024-05-16T19:45:26.749Z"
   },
   {
    "duration": 39,
    "start_time": "2024-05-16T19:45:54.004Z"
   },
   {
    "duration": 16,
    "start_time": "2024-05-16T19:46:27.265Z"
   },
   {
    "duration": 38,
    "start_time": "2024-05-16T19:59:17.581Z"
   },
   {
    "duration": 66,
    "start_time": "2024-05-16T19:59:33.833Z"
   },
   {
    "duration": 67,
    "start_time": "2024-05-16T20:00:53.211Z"
   },
   {
    "duration": 20,
    "start_time": "2024-05-16T20:11:24.667Z"
   },
   {
    "duration": 884,
    "start_time": "2024-05-16T20:13:42.310Z"
   },
   {
    "duration": 17,
    "start_time": "2024-05-16T20:13:55.494Z"
   },
   {
    "duration": 21,
    "start_time": "2024-05-16T20:14:40.724Z"
   },
   {
    "duration": 28,
    "start_time": "2024-05-16T20:14:58.586Z"
   },
   {
    "duration": 29,
    "start_time": "2024-05-16T20:16:07.568Z"
   },
   {
    "duration": 598,
    "start_time": "2024-05-16T20:17:55.685Z"
   },
   {
    "duration": 704,
    "start_time": "2024-05-16T20:19:45.696Z"
   },
   {
    "duration": 46,
    "start_time": "2024-05-16T20:21:23.964Z"
   },
   {
    "duration": 579,
    "start_time": "2024-05-16T20:21:49.433Z"
   },
   {
    "duration": 383,
    "start_time": "2024-05-16T20:23:07.242Z"
   },
   {
    "duration": 382,
    "start_time": "2024-05-16T20:23:57.533Z"
   },
   {
    "duration": 400,
    "start_time": "2024-05-16T20:24:18.496Z"
   },
   {
    "duration": 18,
    "start_time": "2024-05-16T20:25:34.697Z"
   },
   {
    "duration": 18,
    "start_time": "2024-05-16T20:26:05.034Z"
   },
   {
    "duration": 299,
    "start_time": "2024-05-16T20:26:53.916Z"
   },
   {
    "duration": 119,
    "start_time": "2024-05-16T20:27:05.564Z"
   },
   {
    "duration": 398,
    "start_time": "2024-05-16T20:27:34.880Z"
   },
   {
    "duration": 10,
    "start_time": "2024-05-16T20:27:59.567Z"
   },
   {
    "duration": 12,
    "start_time": "2024-05-16T20:29:01.648Z"
   },
   {
    "duration": 9,
    "start_time": "2024-05-16T20:38:01.241Z"
   },
   {
    "duration": 363,
    "start_time": "2024-05-16T20:42:47.419Z"
   },
   {
    "duration": 391,
    "start_time": "2024-05-16T20:48:34.039Z"
   },
   {
    "duration": 218,
    "start_time": "2024-05-16T20:50:44.722Z"
   },
   {
    "duration": 226,
    "start_time": "2024-05-16T20:51:31.758Z"
   },
   {
    "duration": 383,
    "start_time": "2024-05-16T20:58:42.292Z"
   },
   {
    "duration": 41,
    "start_time": "2024-05-16T20:58:56.988Z"
   },
   {
    "duration": 399,
    "start_time": "2024-05-16T20:59:12.619Z"
   },
   {
    "duration": 311,
    "start_time": "2024-05-16T21:03:33.362Z"
   },
   {
    "duration": 412,
    "start_time": "2024-05-16T21:03:37.594Z"
   },
   {
    "duration": 300,
    "start_time": "2024-05-16T21:05:34.060Z"
   },
   {
    "duration": 332,
    "start_time": "2024-05-16T21:05:44.277Z"
   },
   {
    "duration": 339,
    "start_time": "2024-05-16T21:06:14.053Z"
   },
   {
    "duration": 524,
    "start_time": "2024-05-16T21:11:06.982Z"
   },
   {
    "duration": 844,
    "start_time": "2024-05-16T21:12:33.224Z"
   },
   {
    "duration": 377,
    "start_time": "2024-05-16T21:12:47.322Z"
   },
   {
    "duration": 348,
    "start_time": "2024-05-16T21:19:39.936Z"
   },
   {
    "duration": 368,
    "start_time": "2024-05-16T21:20:00.310Z"
   },
   {
    "duration": 365,
    "start_time": "2024-05-16T21:20:11.094Z"
   },
   {
    "duration": 359,
    "start_time": "2024-05-16T21:20:17.234Z"
   },
   {
    "duration": 356,
    "start_time": "2024-05-16T21:20:25.878Z"
   },
   {
    "duration": 525,
    "start_time": "2024-05-16T21:20:38.641Z"
   },
   {
    "duration": 360,
    "start_time": "2024-05-16T21:20:48.256Z"
   },
   {
    "duration": 366,
    "start_time": "2024-05-16T21:21:03.209Z"
   },
   {
    "duration": 355,
    "start_time": "2024-05-16T21:21:12.428Z"
   },
   {
    "duration": 12,
    "start_time": "2024-05-16T21:21:27.477Z"
   },
   {
    "duration": 11,
    "start_time": "2024-05-16T21:21:29.098Z"
   },
   {
    "duration": 362,
    "start_time": "2024-05-16T21:21:50.616Z"
   },
   {
    "duration": 349,
    "start_time": "2024-05-16T21:21:57.680Z"
   },
   {
    "duration": 32,
    "start_time": "2024-05-16T21:38:56.622Z"
   },
   {
    "duration": 17,
    "start_time": "2024-05-16T21:39:06.683Z"
   },
   {
    "duration": 11,
    "start_time": "2024-05-16T21:39:14.342Z"
   },
   {
    "duration": 11,
    "start_time": "2024-05-16T21:39:45.195Z"
   },
   {
    "duration": 10,
    "start_time": "2024-05-16T21:39:47.862Z"
   },
   {
    "duration": 298,
    "start_time": "2024-05-16T21:57:18.022Z"
   },
   {
    "duration": 315,
    "start_time": "2024-05-16T21:59:08.300Z"
   },
   {
    "duration": 92,
    "start_time": "2024-05-16T22:02:09.931Z"
   },
   {
    "duration": 389,
    "start_time": "2024-05-16T22:02:32.883Z"
   },
   {
    "duration": 10,
    "start_time": "2024-05-16T22:03:44.392Z"
   },
   {
    "duration": 11,
    "start_time": "2024-05-16T22:03:46.559Z"
   },
   {
    "duration": 315,
    "start_time": "2024-05-16T22:52:00.032Z"
   },
   {
    "duration": 315,
    "start_time": "2024-05-16T22:52:31.533Z"
   },
   {
    "duration": 329,
    "start_time": "2024-05-16T22:54:13.331Z"
   },
   {
    "duration": 320,
    "start_time": "2024-05-16T22:57:02.674Z"
   },
   {
    "duration": 489,
    "start_time": "2024-05-16T22:57:53.484Z"
   },
   {
    "duration": 4,
    "start_time": "2024-05-18T20:16:53.053Z"
   },
   {
    "duration": 5049,
    "start_time": "2024-05-18T20:17:55.490Z"
   },
   {
    "duration": 366,
    "start_time": "2024-05-18T20:18:00.542Z"
   },
   {
    "duration": 8,
    "start_time": "2024-05-18T20:18:00.911Z"
   },
   {
    "duration": 21,
    "start_time": "2024-05-18T20:18:00.922Z"
   },
   {
    "duration": 17,
    "start_time": "2024-05-18T20:18:00.947Z"
   },
   {
    "duration": 46,
    "start_time": "2024-05-18T20:18:00.967Z"
   },
   {
    "duration": 24,
    "start_time": "2024-05-18T20:18:01.017Z"
   },
   {
    "duration": 14,
    "start_time": "2024-05-18T20:18:01.044Z"
   },
   {
    "duration": 14,
    "start_time": "2024-05-18T20:18:01.061Z"
   },
   {
    "duration": 10,
    "start_time": "2024-05-18T20:18:01.110Z"
   },
   {
    "duration": 25,
    "start_time": "2024-05-18T20:18:01.123Z"
   },
   {
    "duration": 64,
    "start_time": "2024-05-18T20:18:01.150Z"
   },
   {
    "duration": 11,
    "start_time": "2024-05-18T20:18:01.217Z"
   },
   {
    "duration": 39,
    "start_time": "2024-05-18T20:18:01.235Z"
   },
   {
    "duration": 69,
    "start_time": "2024-05-18T20:18:01.278Z"
   },
   {
    "duration": 20,
    "start_time": "2024-05-18T20:18:01.349Z"
   },
   {
    "duration": 38,
    "start_time": "2024-05-18T20:18:01.372Z"
   },
   {
    "duration": 24,
    "start_time": "2024-05-18T20:18:01.415Z"
   },
   {
    "duration": 30,
    "start_time": "2024-05-18T20:18:01.442Z"
   },
   {
    "duration": 54,
    "start_time": "2024-05-18T20:18:01.475Z"
   },
   {
    "duration": 11,
    "start_time": "2024-05-18T20:18:01.532Z"
   },
   {
    "duration": 64,
    "start_time": "2024-05-18T20:18:01.546Z"
   },
   {
    "duration": 36,
    "start_time": "2024-05-18T20:18:01.613Z"
   },
   {
    "duration": 14,
    "start_time": "2024-05-18T20:18:01.652Z"
   },
   {
    "duration": 77,
    "start_time": "2024-05-18T20:18:01.669Z"
   },
   {
    "duration": 59,
    "start_time": "2024-05-18T20:18:01.749Z"
   },
   {
    "duration": 40,
    "start_time": "2024-05-18T20:18:01.812Z"
   },
   {
    "duration": 26,
    "start_time": "2024-05-18T20:18:01.855Z"
   },
   {
    "duration": 53,
    "start_time": "2024-05-18T20:18:01.883Z"
   },
   {
    "duration": 4,
    "start_time": "2024-05-18T20:18:01.939Z"
   },
   {
    "duration": 103,
    "start_time": "2024-05-18T20:18:01.947Z"
   },
   {
    "duration": 357,
    "start_time": "2024-05-18T20:18:02.053Z"
   },
   {
    "duration": 438,
    "start_time": "2024-05-18T20:18:02.413Z"
   },
   {
    "duration": 8,
    "start_time": "2024-05-18T20:18:02.855Z"
   },
   {
    "duration": 252,
    "start_time": "2024-05-18T20:18:02.865Z"
   },
   {
    "duration": 16,
    "start_time": "2024-05-18T20:18:03.121Z"
   },
   {
    "duration": 11,
    "start_time": "2024-05-18T20:18:03.140Z"
   },
   {
    "duration": 342,
    "start_time": "2024-05-18T20:18:03.154Z"
   },
   {
    "duration": 394,
    "start_time": "2024-05-18T20:18:03.499Z"
   },
   {
    "duration": 19,
    "start_time": "2024-05-18T20:18:03.896Z"
   },
   {
    "duration": 11,
    "start_time": "2024-05-18T20:18:03.923Z"
   },
   {
    "duration": 442,
    "start_time": "2024-05-18T20:18:03.937Z"
   },
   {
    "duration": 416,
    "start_time": "2024-05-18T20:18:04.383Z"
   },
   {
    "duration": 19,
    "start_time": "2024-05-18T20:18:04.802Z"
   },
   {
    "duration": 12,
    "start_time": "2024-05-18T20:18:04.825Z"
   },
   {
    "duration": 374,
    "start_time": "2024-05-18T20:18:04.840Z"
   },
   {
    "duration": 421,
    "start_time": "2024-05-18T20:18:05.218Z"
   },
   {
    "duration": 0,
    "start_time": "2024-05-18T20:18:05.642Z"
   },
   {
    "duration": 901,
    "start_time": "2024-05-18T20:19:34.498Z"
   },
   {
    "duration": 10,
    "start_time": "2024-05-18T20:20:11.678Z"
   },
   {
    "duration": 12,
    "start_time": "2024-05-18T20:24:35.764Z"
   },
   {
    "duration": 14,
    "start_time": "2024-05-18T20:25:08.053Z"
   },
   {
    "duration": 14,
    "start_time": "2024-05-18T20:41:20.464Z"
   },
   {
    "duration": 14,
    "start_time": "2024-05-18T20:41:28.692Z"
   },
   {
    "duration": 6,
    "start_time": "2024-05-18T20:41:45.468Z"
   },
   {
    "duration": 13,
    "start_time": "2024-05-18T20:42:00.425Z"
   },
   {
    "duration": 40,
    "start_time": "2024-05-18T20:52:42.107Z"
   },
   {
    "duration": 15,
    "start_time": "2024-05-18T20:52:56.738Z"
   },
   {
    "duration": 13,
    "start_time": "2024-05-18T20:56:19.295Z"
   },
   {
    "duration": 19,
    "start_time": "2024-05-18T20:56:47.347Z"
   },
   {
    "duration": 14,
    "start_time": "2024-05-18T20:57:12.139Z"
   },
   {
    "duration": 5374,
    "start_time": "2024-05-19T15:35:04.749Z"
   },
   {
    "duration": 403,
    "start_time": "2024-05-19T15:35:10.128Z"
   },
   {
    "duration": 9,
    "start_time": "2024-05-19T15:35:10.533Z"
   },
   {
    "duration": 15,
    "start_time": "2024-05-19T15:35:10.546Z"
   },
   {
    "duration": 15,
    "start_time": "2024-05-19T15:35:10.567Z"
   },
   {
    "duration": 8,
    "start_time": "2024-05-19T15:35:10.609Z"
   },
   {
    "duration": 27,
    "start_time": "2024-05-19T15:35:10.620Z"
   },
   {
    "duration": 24,
    "start_time": "2024-05-19T15:35:10.650Z"
   },
   {
    "duration": 49,
    "start_time": "2024-05-19T15:35:10.677Z"
   },
   {
    "duration": 10,
    "start_time": "2024-05-19T15:35:10.730Z"
   },
   {
    "duration": 32,
    "start_time": "2024-05-19T15:35:10.743Z"
   },
   {
    "duration": 29,
    "start_time": "2024-05-19T15:35:10.811Z"
   },
   {
    "duration": 15,
    "start_time": "2024-05-19T15:35:10.844Z"
   },
   {
    "duration": 84,
    "start_time": "2024-05-19T15:35:10.868Z"
   },
   {
    "duration": 66,
    "start_time": "2024-05-19T15:35:10.956Z"
   },
   {
    "duration": 21,
    "start_time": "2024-05-19T15:35:11.025Z"
   },
   {
    "duration": 14,
    "start_time": "2024-05-19T15:35:11.049Z"
   },
   {
    "duration": 61,
    "start_time": "2024-05-19T15:35:11.068Z"
   },
   {
    "duration": 34,
    "start_time": "2024-05-19T15:35:11.132Z"
   },
   {
    "duration": 47,
    "start_time": "2024-05-19T15:35:11.171Z"
   },
   {
    "duration": 14,
    "start_time": "2024-05-19T15:35:11.221Z"
   },
   {
    "duration": 40,
    "start_time": "2024-05-19T15:35:11.239Z"
   },
   {
    "duration": 44,
    "start_time": "2024-05-19T15:35:11.310Z"
   },
   {
    "duration": 20,
    "start_time": "2024-05-19T15:35:11.357Z"
   },
   {
    "duration": 75,
    "start_time": "2024-05-19T15:35:11.380Z"
   },
   {
    "duration": 60,
    "start_time": "2024-05-19T15:35:11.459Z"
   },
   {
    "duration": 40,
    "start_time": "2024-05-19T15:35:11.525Z"
   },
   {
    "duration": 50,
    "start_time": "2024-05-19T15:35:11.568Z"
   },
   {
    "duration": 31,
    "start_time": "2024-05-19T15:35:11.621Z"
   },
   {
    "duration": 4,
    "start_time": "2024-05-19T15:35:11.656Z"
   },
   {
    "duration": 116,
    "start_time": "2024-05-19T15:35:11.664Z"
   },
   {
    "duration": 406,
    "start_time": "2024-05-19T15:35:11.782Z"
   },
   {
    "duration": 428,
    "start_time": "2024-05-19T15:35:12.191Z"
   },
   {
    "duration": 9,
    "start_time": "2024-05-19T15:35:12.623Z"
   },
   {
    "duration": 275,
    "start_time": "2024-05-19T15:35:12.636Z"
   },
   {
    "duration": 16,
    "start_time": "2024-05-19T15:35:12.915Z"
   },
   {
    "duration": 13,
    "start_time": "2024-05-19T15:35:12.935Z"
   },
   {
    "duration": 392,
    "start_time": "2024-05-19T15:35:12.952Z"
   },
   {
    "duration": 391,
    "start_time": "2024-05-19T15:35:13.348Z"
   },
   {
    "duration": 13,
    "start_time": "2024-05-19T15:35:13.743Z"
   },
   {
    "duration": 13,
    "start_time": "2024-05-19T15:35:13.765Z"
   },
   {
    "duration": 480,
    "start_time": "2024-05-19T15:35:13.810Z"
   },
   {
    "duration": 442,
    "start_time": "2024-05-19T15:35:14.294Z"
   },
   {
    "duration": 14,
    "start_time": "2024-05-19T15:35:14.738Z"
   },
   {
    "duration": 14,
    "start_time": "2024-05-19T15:35:14.755Z"
   },
   {
    "duration": 398,
    "start_time": "2024-05-19T15:35:14.772Z"
   },
   {
    "duration": 19,
    "start_time": "2024-05-19T15:35:15.173Z"
   },
   {
    "duration": 20,
    "start_time": "2024-05-19T15:35:15.210Z"
   },
   {
    "duration": 35,
    "start_time": "2024-05-19T15:43:13.484Z"
   },
   {
    "duration": 1304,
    "start_time": "2024-05-19T15:43:21.065Z"
   },
   {
    "duration": 304,
    "start_time": "2024-05-19T15:43:22.373Z"
   },
   {
    "duration": 9,
    "start_time": "2024-05-19T15:43:22.680Z"
   },
   {
    "duration": 29,
    "start_time": "2024-05-19T15:43:22.693Z"
   },
   {
    "duration": 17,
    "start_time": "2024-05-19T15:43:22.728Z"
   },
   {
    "duration": 6,
    "start_time": "2024-05-19T15:43:22.749Z"
   },
   {
    "duration": 59,
    "start_time": "2024-05-19T15:43:22.759Z"
   },
   {
    "duration": 17,
    "start_time": "2024-05-19T15:43:22.824Z"
   },
   {
    "duration": 15,
    "start_time": "2024-05-19T15:43:22.845Z"
   },
   {
    "duration": 46,
    "start_time": "2024-05-19T15:43:22.863Z"
   },
   {
    "duration": 35,
    "start_time": "2024-05-19T15:43:22.912Z"
   },
   {
    "duration": 31,
    "start_time": "2024-05-19T15:43:22.951Z"
   },
   {
    "duration": 13,
    "start_time": "2024-05-19T15:43:23.009Z"
   },
   {
    "duration": 40,
    "start_time": "2024-05-19T15:43:23.031Z"
   },
   {
    "duration": 65,
    "start_time": "2024-05-19T15:43:23.074Z"
   },
   {
    "duration": 24,
    "start_time": "2024-05-19T15:43:23.142Z"
   },
   {
    "duration": 40,
    "start_time": "2024-05-19T15:43:23.170Z"
   },
   {
    "duration": 29,
    "start_time": "2024-05-19T15:43:23.214Z"
   },
   {
    "duration": 63,
    "start_time": "2024-05-19T15:43:23.247Z"
   },
   {
    "duration": 29,
    "start_time": "2024-05-19T15:43:23.313Z"
   },
   {
    "duration": 14,
    "start_time": "2024-05-19T15:43:23.347Z"
   },
   {
    "duration": 67,
    "start_time": "2024-05-19T15:43:23.364Z"
   },
   {
    "duration": 42,
    "start_time": "2024-05-19T15:43:23.434Z"
   },
   {
    "duration": 36,
    "start_time": "2024-05-19T15:43:23.478Z"
   },
   {
    "duration": 58,
    "start_time": "2024-05-19T15:43:23.517Z"
   },
   {
    "duration": 50,
    "start_time": "2024-05-19T15:43:23.582Z"
   },
   {
    "duration": 46,
    "start_time": "2024-05-19T15:43:23.635Z"
   },
   {
    "duration": 33,
    "start_time": "2024-05-19T15:43:23.709Z"
   },
   {
    "duration": 64,
    "start_time": "2024-05-19T15:43:23.745Z"
   },
   {
    "duration": 4,
    "start_time": "2024-05-19T15:43:23.812Z"
   },
   {
    "duration": 103,
    "start_time": "2024-05-19T15:43:23.820Z"
   },
   {
    "duration": 366,
    "start_time": "2024-05-19T15:43:23.927Z"
   },
   {
    "duration": 626,
    "start_time": "2024-05-19T15:43:24.296Z"
   },
   {
    "duration": 9,
    "start_time": "2024-05-19T15:43:24.926Z"
   },
   {
    "duration": 340,
    "start_time": "2024-05-19T15:43:24.939Z"
   },
   {
    "duration": 32,
    "start_time": "2024-05-19T15:43:25.283Z"
   },
   {
    "duration": 15,
    "start_time": "2024-05-19T15:43:25.318Z"
   },
   {
    "duration": 482,
    "start_time": "2024-05-19T15:43:25.338Z"
   },
   {
    "duration": 490,
    "start_time": "2024-05-19T15:43:25.828Z"
   },
   {
    "duration": 26,
    "start_time": "2024-05-19T15:43:26.322Z"
   },
   {
    "duration": 19,
    "start_time": "2024-05-19T15:43:26.361Z"
   },
   {
    "duration": 537,
    "start_time": "2024-05-19T15:43:26.382Z"
   },
   {
    "duration": 450,
    "start_time": "2024-05-19T15:43:26.924Z"
   },
   {
    "duration": 15,
    "start_time": "2024-05-19T15:43:27.380Z"
   },
   {
    "duration": 11,
    "start_time": "2024-05-19T15:43:27.409Z"
   },
   {
    "duration": 411,
    "start_time": "2024-05-19T15:43:27.423Z"
   },
   {
    "duration": 23,
    "start_time": "2024-05-19T15:43:27.840Z"
   },
   {
    "duration": 18,
    "start_time": "2024-05-19T15:43:27.867Z"
   }
  ],
  "colab": {
   "provenance": []
  },
  "kernelspec": {
   "display_name": "Python 3 (ipykernel)",
   "language": "python",
   "name": "python3"
  },
  "language_info": {
   "codemirror_mode": {
    "name": "ipython",
    "version": 3
   },
   "file_extension": ".py",
   "mimetype": "text/x-python",
   "name": "python",
   "nbconvert_exporter": "python",
   "pygments_lexer": "ipython3",
   "version": "3.9.19"
  },
  "toc": {
   "base_numbering": 1,
   "nav_menu": {},
   "number_sections": true,
   "sideBar": true,
   "skip_h1_title": false,
   "title_cell": "Table of Contents",
   "title_sidebar": "Contents",
   "toc_cell": false,
   "toc_position": {},
   "toc_section_display": true,
   "toc_window_display": true
  }
 },
 "nbformat": 4,
 "nbformat_minor": 1
}
